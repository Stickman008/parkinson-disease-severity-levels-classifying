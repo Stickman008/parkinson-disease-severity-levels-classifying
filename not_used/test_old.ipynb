{
 "cells": [
  {
   "cell_type": "code",
   "execution_count": null,
   "metadata": {},
   "outputs": [],
   "source": [
    "import os\n",
    "import numpy as np\n",
    "import pandas as pd"
   ]
  },
  {
   "cell_type": "code",
   "execution_count": null,
   "metadata": {},
   "outputs": [],
   "source": [
    "train_df = pd.read_csv(os.path.join('data', 'unionTrain.csv'))\n",
    "test_df = pd.read_csv(os.path.join('data', 'unionTest.csv'))\n",
    "print(len(train_df))\n",
    "train_df.head()"
   ]
  },
  {
   "cell_type": "code",
   "execution_count": null,
   "metadata": {},
   "outputs": [],
   "source": [
    "# tmpx = train_df.drop(['sequence_id', 'Severity'], axis=1).describe()\n",
    "# tmpy = train_df['Severity'].describe()"
   ]
  },
  {
   "cell_type": "code",
   "execution_count": null,
   "metadata": {},
   "outputs": [],
   "source": [
    "# np.sum(tmpx, axis=1)"
   ]
  },
  {
   "cell_type": "code",
   "execution_count": null,
   "metadata": {},
   "outputs": [],
   "source": [
    "X_train, y_train = train_df.drop(['Severity', 'sequence_id'], axis=1), train_df['Severity']\n",
    "X_test, y_test = test_df.drop(['Severity', 'sequence_id'], axis=1), test_df['Severity']"
   ]
  },
  {
   "cell_type": "code",
   "execution_count": null,
   "metadata": {},
   "outputs": [],
   "source": [
    "COL_X = X_train.columns.tolist()\n",
    "len(COL_X)/50, COL_X"
   ]
  },
  {
   "cell_type": "code",
   "execution_count": null,
   "metadata": {},
   "outputs": [],
   "source": [
    "y_train = train_df['Severity'].to_numpy()\n",
    "cnt_tmp = np.bincount(y_train)\n",
    "for i in range(1, 3):\n",
    "    print(f\"class_{i} = {cnt_tmp[i]}\")"
   ]
  },
  {
   "cell_type": "code",
   "execution_count": null,
   "metadata": {},
   "outputs": [],
   "source": [
    "MY_COL = [f\"{i}{ee}\" for i in range(25) for ee in ['X', 'Y']]\n",
    "ID_ROW = np.array([i for i in range(len(train_df)) for j in range(854)])\n",
    "TIMESTEP =  np.array([j for i in range(len(train_df)) for j in range(854)])\n",
    "# print(ID_ROW[852:860])\n",
    "# print(TIMESTEP)\n",
    "def mod_X(x):\n",
    "    result = x.to_numpy().copy()\n",
    "    # result = result.reshape(-1, 854, 50)\n",
    "    result = result.reshape(-1, 50)\n",
    "    result = pd.DataFrame(result, columns=MY_COL)\n",
    "    result.insert(0, 'id', ID_ROW)\n",
    "    result.insert(1, 'timestep', TIMESTEP)\n",
    "    return result\n",
    "modded_X = mod_X(X_train)\n",
    "idx = 4\n",
    "timestep = 503\n",
    "feature_idx = '20X'\n",
    "# print(X_train[f'{timestep}_{feature_idx}'][idx], modded_X[feature_idx][854*idx+timestep])\n",
    "modded_X"
   ]
  },
  {
   "cell_type": "code",
   "execution_count": null,
   "metadata": {},
   "outputs": [],
   "source": []
  },
  {
   "cell_type": "code",
   "execution_count": null,
   "metadata": {},
   "outputs": [],
   "source": []
  }
 ],
 "metadata": {
  "kernelspec": {
   "display_name": "Python 3.9.12 ('tf2-gpu')",
   "language": "python",
   "name": "python3"
  },
  "language_info": {
   "codemirror_mode": {
    "name": "ipython",
    "version": 3
   },
   "file_extension": ".py",
   "mimetype": "text/x-python",
   "name": "python",
   "nbconvert_exporter": "python",
   "pygments_lexer": "ipython3",
   "version": "3.9.12"
  },
  "vscode": {
   "interpreter": {
    "hash": "586ea256996c4d1afba0a24bd3ac38219670b30d200ba45ddfed159cb38a21bb"
   }
  }
 },
 "nbformat": 4,
 "nbformat_minor": 2
}
