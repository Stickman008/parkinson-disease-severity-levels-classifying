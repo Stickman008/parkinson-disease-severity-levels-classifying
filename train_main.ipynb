{
 "cells": [
  {
   "cell_type": "code",
   "execution_count": 70,
   "metadata": {},
   "outputs": [
    {
     "data": {
      "text/plain": [
       "'2.6.0'"
      ]
     },
     "execution_count": 70,
     "metadata": {},
     "output_type": "execute_result"
    }
   ],
   "source": [
    "import os\n",
    "import numpy as np\n",
    "import pandas as pd\n",
    "import matplotlib.pyplot as plt\n",
    "import seaborn as sns\n",
    "import joblib\n",
    "\n",
    "import tensorflow as tf\n",
    "from tensorflow.keras.models import Sequential\n",
    "from tensorflow.keras.layers import Dense, LSTM, Bidirectional, Dropout, InputLayer\n",
    "from tensorflow.keras.optimizers import Adam\n",
    "from tensorflow.keras.optimizers.schedules import ExponentialDecay\n",
    "from tensorflow.keras.losses import BinaryCrossentropy, CategoricalCrossentropy\n",
    "from tensorflow.keras.callbacks import ReduceLROnPlateau, EarlyStopping, LearningRateScheduler\n",
    "\n",
    "from sklearn.preprocessing import MinMaxScaler, RobustScaler, StandardScaler, normalize\n",
    "from sklearn.metrics import f1_score, accuracy_score, precision_score, recall_score, confusion_matrix, classification_report\n",
    "\n",
    "from utils import mod_df, drop_features, inverse_mod_X, inverse_mod_y, apply_savgol_filter, apply_median_filter, apply_maximum_filter, apply_is_zero\n",
    "from my_model import create_model_1, create_model_1_1, create_model_1_2, create_model_1_3, create_model_2, create_model_2_1, create_model_2_2, create_model_3\n",
    "tf.__version__"
   ]
  },
  {
   "cell_type": "code",
   "execution_count": 71,
   "metadata": {},
   "outputs": [],
   "source": [
    "train_df = pd.read_csv(os.path.join('data', 'unionTrain.csv'))\n",
    "test_df = pd.read_csv(os.path.join('data', 'unionTest.csv'))"
   ]
  },
  {
   "cell_type": "code",
   "execution_count": 72,
   "metadata": {},
   "outputs": [],
   "source": [
    "X_train, y_train = mod_df(train_df)\n",
    "X_test, y_test = mod_df(test_df)"
   ]
  },
  {
   "cell_type": "code",
   "execution_count": 73,
   "metadata": {},
   "outputs": [
    {
     "name": "stderr",
     "output_type": "stream",
     "text": [
      "C:\\Users\\ARM\\AppData\\Local\\Temp\\ipykernel_10060\\621492584.py:14: PerformanceWarning: DataFrame is highly fragmented.  This is usually the result of calling `frame.insert` many times, which has poor performance.  Consider joining all columns at once using pd.concat(axis=1) instead. To get a de-fragmented frame, use `newframe = frame.copy()`\n",
      "  result[f'{col}_savgol'] = apply_savgol_filter(feature, window_size=11, polynomial=2)\n",
      "C:\\Users\\ARM\\AppData\\Local\\Temp\\ipykernel_10060\\621492584.py:17: PerformanceWarning: DataFrame is highly fragmented.  This is usually the result of calling `frame.insert` many times, which has poor performance.  Consider joining all columns at once using pd.concat(axis=1) instead. To get a de-fragmented frame, use `newframe = frame.copy()`\n",
      "  result[f'{col}_sav_med'] = apply_median_filter(apply_savgol_filter(feature, window_size=21), window_size=5)\n",
      "C:\\Users\\ARM\\AppData\\Local\\Temp\\ipykernel_10060\\621492584.py:18: PerformanceWarning: DataFrame is highly fragmented.  This is usually the result of calling `frame.insert` many times, which has poor performance.  Consider joining all columns at once using pd.concat(axis=1) instead. To get a de-fragmented frame, use `newframe = frame.copy()`\n",
      "  result[f'{col}_is_zero'] = apply_is_zero(feature)\n",
      "C:\\Users\\ARM\\AppData\\Local\\Temp\\ipykernel_10060\\621492584.py:14: PerformanceWarning: DataFrame is highly fragmented.  This is usually the result of calling `frame.insert` many times, which has poor performance.  Consider joining all columns at once using pd.concat(axis=1) instead. To get a de-fragmented frame, use `newframe = frame.copy()`\n",
      "  result[f'{col}_savgol'] = apply_savgol_filter(feature, window_size=11, polynomial=2)\n",
      "C:\\Users\\ARM\\AppData\\Local\\Temp\\ipykernel_10060\\621492584.py:17: PerformanceWarning: DataFrame is highly fragmented.  This is usually the result of calling `frame.insert` many times, which has poor performance.  Consider joining all columns at once using pd.concat(axis=1) instead. To get a de-fragmented frame, use `newframe = frame.copy()`\n",
      "  result[f'{col}_sav_med'] = apply_median_filter(apply_savgol_filter(feature, window_size=21), window_size=5)\n",
      "C:\\Users\\ARM\\AppData\\Local\\Temp\\ipykernel_10060\\621492584.py:18: PerformanceWarning: DataFrame is highly fragmented.  This is usually the result of calling `frame.insert` many times, which has poor performance.  Consider joining all columns at once using pd.concat(axis=1) instead. To get a de-fragmented frame, use `newframe = frame.copy()`\n",
      "  result[f'{col}_is_zero'] = apply_is_zero(feature)\n",
      "C:\\Users\\ARM\\AppData\\Local\\Temp\\ipykernel_10060\\621492584.py:14: PerformanceWarning: DataFrame is highly fragmented.  This is usually the result of calling `frame.insert` many times, which has poor performance.  Consider joining all columns at once using pd.concat(axis=1) instead. To get a de-fragmented frame, use `newframe = frame.copy()`\n",
      "  result[f'{col}_savgol'] = apply_savgol_filter(feature, window_size=11, polynomial=2)\n",
      "C:\\Users\\ARM\\AppData\\Local\\Temp\\ipykernel_10060\\621492584.py:17: PerformanceWarning: DataFrame is highly fragmented.  This is usually the result of calling `frame.insert` many times, which has poor performance.  Consider joining all columns at once using pd.concat(axis=1) instead. To get a de-fragmented frame, use `newframe = frame.copy()`\n",
      "  result[f'{col}_sav_med'] = apply_median_filter(apply_savgol_filter(feature, window_size=21), window_size=5)\n",
      "C:\\Users\\ARM\\AppData\\Local\\Temp\\ipykernel_10060\\621492584.py:18: PerformanceWarning: DataFrame is highly fragmented.  This is usually the result of calling `frame.insert` many times, which has poor performance.  Consider joining all columns at once using pd.concat(axis=1) instead. To get a de-fragmented frame, use `newframe = frame.copy()`\n",
      "  result[f'{col}_is_zero'] = apply_is_zero(feature)\n",
      "C:\\Users\\ARM\\AppData\\Local\\Temp\\ipykernel_10060\\621492584.py:14: PerformanceWarning: DataFrame is highly fragmented.  This is usually the result of calling `frame.insert` many times, which has poor performance.  Consider joining all columns at once using pd.concat(axis=1) instead. To get a de-fragmented frame, use `newframe = frame.copy()`\n",
      "  result[f'{col}_savgol'] = apply_savgol_filter(feature, window_size=11, polynomial=2)\n",
      "C:\\Users\\ARM\\AppData\\Local\\Temp\\ipykernel_10060\\621492584.py:17: PerformanceWarning: DataFrame is highly fragmented.  This is usually the result of calling `frame.insert` many times, which has poor performance.  Consider joining all columns at once using pd.concat(axis=1) instead. To get a de-fragmented frame, use `newframe = frame.copy()`\n",
      "  result[f'{col}_sav_med'] = apply_median_filter(apply_savgol_filter(feature, window_size=21), window_size=5)\n",
      "C:\\Users\\ARM\\AppData\\Local\\Temp\\ipykernel_10060\\621492584.py:18: PerformanceWarning: DataFrame is highly fragmented.  This is usually the result of calling `frame.insert` many times, which has poor performance.  Consider joining all columns at once using pd.concat(axis=1) instead. To get a de-fragmented frame, use `newframe = frame.copy()`\n",
      "  result[f'{col}_is_zero'] = apply_is_zero(feature)\n",
      "C:\\Users\\ARM\\AppData\\Local\\Temp\\ipykernel_10060\\621492584.py:14: PerformanceWarning: DataFrame is highly fragmented.  This is usually the result of calling `frame.insert` many times, which has poor performance.  Consider joining all columns at once using pd.concat(axis=1) instead. To get a de-fragmented frame, use `newframe = frame.copy()`\n",
      "  result[f'{col}_savgol'] = apply_savgol_filter(feature, window_size=11, polynomial=2)\n",
      "C:\\Users\\ARM\\AppData\\Local\\Temp\\ipykernel_10060\\621492584.py:17: PerformanceWarning: DataFrame is highly fragmented.  This is usually the result of calling `frame.insert` many times, which has poor performance.  Consider joining all columns at once using pd.concat(axis=1) instead. To get a de-fragmented frame, use `newframe = frame.copy()`\n",
      "  result[f'{col}_sav_med'] = apply_median_filter(apply_savgol_filter(feature, window_size=21), window_size=5)\n",
      "C:\\Users\\ARM\\AppData\\Local\\Temp\\ipykernel_10060\\621492584.py:18: PerformanceWarning: DataFrame is highly fragmented.  This is usually the result of calling `frame.insert` many times, which has poor performance.  Consider joining all columns at once using pd.concat(axis=1) instead. To get a de-fragmented frame, use `newframe = frame.copy()`\n",
      "  result[f'{col}_is_zero'] = apply_is_zero(feature)\n",
      "C:\\Users\\ARM\\AppData\\Local\\Temp\\ipykernel_10060\\621492584.py:14: PerformanceWarning: DataFrame is highly fragmented.  This is usually the result of calling `frame.insert` many times, which has poor performance.  Consider joining all columns at once using pd.concat(axis=1) instead. To get a de-fragmented frame, use `newframe = frame.copy()`\n",
      "  result[f'{col}_savgol'] = apply_savgol_filter(feature, window_size=11, polynomial=2)\n",
      "C:\\Users\\ARM\\AppData\\Local\\Temp\\ipykernel_10060\\621492584.py:17: PerformanceWarning: DataFrame is highly fragmented.  This is usually the result of calling `frame.insert` many times, which has poor performance.  Consider joining all columns at once using pd.concat(axis=1) instead. To get a de-fragmented frame, use `newframe = frame.copy()`\n",
      "  result[f'{col}_sav_med'] = apply_median_filter(apply_savgol_filter(feature, window_size=21), window_size=5)\n",
      "C:\\Users\\ARM\\AppData\\Local\\Temp\\ipykernel_10060\\621492584.py:18: PerformanceWarning: DataFrame is highly fragmented.  This is usually the result of calling `frame.insert` many times, which has poor performance.  Consider joining all columns at once using pd.concat(axis=1) instead. To get a de-fragmented frame, use `newframe = frame.copy()`\n",
      "  result[f'{col}_is_zero'] = apply_is_zero(feature)\n",
      "C:\\Users\\ARM\\AppData\\Local\\Temp\\ipykernel_10060\\621492584.py:14: PerformanceWarning: DataFrame is highly fragmented.  This is usually the result of calling `frame.insert` many times, which has poor performance.  Consider joining all columns at once using pd.concat(axis=1) instead. To get a de-fragmented frame, use `newframe = frame.copy()`\n",
      "  result[f'{col}_savgol'] = apply_savgol_filter(feature, window_size=11, polynomial=2)\n",
      "C:\\Users\\ARM\\AppData\\Local\\Temp\\ipykernel_10060\\621492584.py:17: PerformanceWarning: DataFrame is highly fragmented.  This is usually the result of calling `frame.insert` many times, which has poor performance.  Consider joining all columns at once using pd.concat(axis=1) instead. To get a de-fragmented frame, use `newframe = frame.copy()`\n",
      "  result[f'{col}_sav_med'] = apply_median_filter(apply_savgol_filter(feature, window_size=21), window_size=5)\n",
      "C:\\Users\\ARM\\AppData\\Local\\Temp\\ipykernel_10060\\621492584.py:18: PerformanceWarning: DataFrame is highly fragmented.  This is usually the result of calling `frame.insert` many times, which has poor performance.  Consider joining all columns at once using pd.concat(axis=1) instead. To get a de-fragmented frame, use `newframe = frame.copy()`\n",
      "  result[f'{col}_is_zero'] = apply_is_zero(feature)\n",
      "C:\\Users\\ARM\\AppData\\Local\\Temp\\ipykernel_10060\\621492584.py:14: PerformanceWarning: DataFrame is highly fragmented.  This is usually the result of calling `frame.insert` many times, which has poor performance.  Consider joining all columns at once using pd.concat(axis=1) instead. To get a de-fragmented frame, use `newframe = frame.copy()`\n",
      "  result[f'{col}_savgol'] = apply_savgol_filter(feature, window_size=11, polynomial=2)\n",
      "C:\\Users\\ARM\\AppData\\Local\\Temp\\ipykernel_10060\\621492584.py:17: PerformanceWarning: DataFrame is highly fragmented.  This is usually the result of calling `frame.insert` many times, which has poor performance.  Consider joining all columns at once using pd.concat(axis=1) instead. To get a de-fragmented frame, use `newframe = frame.copy()`\n",
      "  result[f'{col}_sav_med'] = apply_median_filter(apply_savgol_filter(feature, window_size=21), window_size=5)\n",
      "C:\\Users\\ARM\\AppData\\Local\\Temp\\ipykernel_10060\\621492584.py:18: PerformanceWarning: DataFrame is highly fragmented.  This is usually the result of calling `frame.insert` many times, which has poor performance.  Consider joining all columns at once using pd.concat(axis=1) instead. To get a de-fragmented frame, use `newframe = frame.copy()`\n",
      "  result[f'{col}_is_zero'] = apply_is_zero(feature)\n",
      "C:\\Users\\ARM\\AppData\\Local\\Temp\\ipykernel_10060\\621492584.py:14: PerformanceWarning: DataFrame is highly fragmented.  This is usually the result of calling `frame.insert` many times, which has poor performance.  Consider joining all columns at once using pd.concat(axis=1) instead. To get a de-fragmented frame, use `newframe = frame.copy()`\n",
      "  result[f'{col}_savgol'] = apply_savgol_filter(feature, window_size=11, polynomial=2)\n",
      "C:\\Users\\ARM\\AppData\\Local\\Temp\\ipykernel_10060\\621492584.py:17: PerformanceWarning: DataFrame is highly fragmented.  This is usually the result of calling `frame.insert` many times, which has poor performance.  Consider joining all columns at once using pd.concat(axis=1) instead. To get a de-fragmented frame, use `newframe = frame.copy()`\n",
      "  result[f'{col}_sav_med'] = apply_median_filter(apply_savgol_filter(feature, window_size=21), window_size=5)\n",
      "C:\\Users\\ARM\\AppData\\Local\\Temp\\ipykernel_10060\\621492584.py:18: PerformanceWarning: DataFrame is highly fragmented.  This is usually the result of calling `frame.insert` many times, which has poor performance.  Consider joining all columns at once using pd.concat(axis=1) instead. To get a de-fragmented frame, use `newframe = frame.copy()`\n",
      "  result[f'{col}_is_zero'] = apply_is_zero(feature)\n",
      "C:\\Users\\ARM\\AppData\\Local\\Temp\\ipykernel_10060\\621492584.py:14: PerformanceWarning: DataFrame is highly fragmented.  This is usually the result of calling `frame.insert` many times, which has poor performance.  Consider joining all columns at once using pd.concat(axis=1) instead. To get a de-fragmented frame, use `newframe = frame.copy()`\n",
      "  result[f'{col}_savgol'] = apply_savgol_filter(feature, window_size=11, polynomial=2)\n",
      "C:\\Users\\ARM\\AppData\\Local\\Temp\\ipykernel_10060\\621492584.py:17: PerformanceWarning: DataFrame is highly fragmented.  This is usually the result of calling `frame.insert` many times, which has poor performance.  Consider joining all columns at once using pd.concat(axis=1) instead. To get a de-fragmented frame, use `newframe = frame.copy()`\n",
      "  result[f'{col}_sav_med'] = apply_median_filter(apply_savgol_filter(feature, window_size=21), window_size=5)\n",
      "C:\\Users\\ARM\\AppData\\Local\\Temp\\ipykernel_10060\\621492584.py:18: PerformanceWarning: DataFrame is highly fragmented.  This is usually the result of calling `frame.insert` many times, which has poor performance.  Consider joining all columns at once using pd.concat(axis=1) instead. To get a de-fragmented frame, use `newframe = frame.copy()`\n",
      "  result[f'{col}_is_zero'] = apply_is_zero(feature)\n",
      "C:\\Users\\ARM\\AppData\\Local\\Temp\\ipykernel_10060\\621492584.py:14: PerformanceWarning: DataFrame is highly fragmented.  This is usually the result of calling `frame.insert` many times, which has poor performance.  Consider joining all columns at once using pd.concat(axis=1) instead. To get a de-fragmented frame, use `newframe = frame.copy()`\n",
      "  result[f'{col}_savgol'] = apply_savgol_filter(feature, window_size=11, polynomial=2)\n",
      "C:\\Users\\ARM\\AppData\\Local\\Temp\\ipykernel_10060\\621492584.py:17: PerformanceWarning: DataFrame is highly fragmented.  This is usually the result of calling `frame.insert` many times, which has poor performance.  Consider joining all columns at once using pd.concat(axis=1) instead. To get a de-fragmented frame, use `newframe = frame.copy()`\n",
      "  result[f'{col}_sav_med'] = apply_median_filter(apply_savgol_filter(feature, window_size=21), window_size=5)\n",
      "C:\\Users\\ARM\\AppData\\Local\\Temp\\ipykernel_10060\\621492584.py:18: PerformanceWarning: DataFrame is highly fragmented.  This is usually the result of calling `frame.insert` many times, which has poor performance.  Consider joining all columns at once using pd.concat(axis=1) instead. To get a de-fragmented frame, use `newframe = frame.copy()`\n",
      "  result[f'{col}_is_zero'] = apply_is_zero(feature)\n",
      "C:\\Users\\ARM\\AppData\\Local\\Temp\\ipykernel_10060\\621492584.py:14: PerformanceWarning: DataFrame is highly fragmented.  This is usually the result of calling `frame.insert` many times, which has poor performance.  Consider joining all columns at once using pd.concat(axis=1) instead. To get a de-fragmented frame, use `newframe = frame.copy()`\n",
      "  result[f'{col}_savgol'] = apply_savgol_filter(feature, window_size=11, polynomial=2)\n",
      "C:\\Users\\ARM\\AppData\\Local\\Temp\\ipykernel_10060\\621492584.py:17: PerformanceWarning: DataFrame is highly fragmented.  This is usually the result of calling `frame.insert` many times, which has poor performance.  Consider joining all columns at once using pd.concat(axis=1) instead. To get a de-fragmented frame, use `newframe = frame.copy()`\n",
      "  result[f'{col}_sav_med'] = apply_median_filter(apply_savgol_filter(feature, window_size=21), window_size=5)\n",
      "C:\\Users\\ARM\\AppData\\Local\\Temp\\ipykernel_10060\\621492584.py:18: PerformanceWarning: DataFrame is highly fragmented.  This is usually the result of calling `frame.insert` many times, which has poor performance.  Consider joining all columns at once using pd.concat(axis=1) instead. To get a de-fragmented frame, use `newframe = frame.copy()`\n",
      "  result[f'{col}_is_zero'] = apply_is_zero(feature)\n",
      "C:\\Users\\ARM\\AppData\\Local\\Temp\\ipykernel_10060\\621492584.py:14: PerformanceWarning: DataFrame is highly fragmented.  This is usually the result of calling `frame.insert` many times, which has poor performance.  Consider joining all columns at once using pd.concat(axis=1) instead. To get a de-fragmented frame, use `newframe = frame.copy()`\n",
      "  result[f'{col}_savgol'] = apply_savgol_filter(feature, window_size=11, polynomial=2)\n",
      "C:\\Users\\ARM\\AppData\\Local\\Temp\\ipykernel_10060\\621492584.py:17: PerformanceWarning: DataFrame is highly fragmented.  This is usually the result of calling `frame.insert` many times, which has poor performance.  Consider joining all columns at once using pd.concat(axis=1) instead. To get a de-fragmented frame, use `newframe = frame.copy()`\n",
      "  result[f'{col}_sav_med'] = apply_median_filter(apply_savgol_filter(feature, window_size=21), window_size=5)\n",
      "C:\\Users\\ARM\\AppData\\Local\\Temp\\ipykernel_10060\\621492584.py:18: PerformanceWarning: DataFrame is highly fragmented.  This is usually the result of calling `frame.insert` many times, which has poor performance.  Consider joining all columns at once using pd.concat(axis=1) instead. To get a de-fragmented frame, use `newframe = frame.copy()`\n",
      "  result[f'{col}_is_zero'] = apply_is_zero(feature)\n",
      "C:\\Users\\ARM\\AppData\\Local\\Temp\\ipykernel_10060\\621492584.py:14: PerformanceWarning: DataFrame is highly fragmented.  This is usually the result of calling `frame.insert` many times, which has poor performance.  Consider joining all columns at once using pd.concat(axis=1) instead. To get a de-fragmented frame, use `newframe = frame.copy()`\n",
      "  result[f'{col}_savgol'] = apply_savgol_filter(feature, window_size=11, polynomial=2)\n",
      "C:\\Users\\ARM\\AppData\\Local\\Temp\\ipykernel_10060\\621492584.py:17: PerformanceWarning: DataFrame is highly fragmented.  This is usually the result of calling `frame.insert` many times, which has poor performance.  Consider joining all columns at once using pd.concat(axis=1) instead. To get a de-fragmented frame, use `newframe = frame.copy()`\n",
      "  result[f'{col}_sav_med'] = apply_median_filter(apply_savgol_filter(feature, window_size=21), window_size=5)\n",
      "C:\\Users\\ARM\\AppData\\Local\\Temp\\ipykernel_10060\\621492584.py:18: PerformanceWarning: DataFrame is highly fragmented.  This is usually the result of calling `frame.insert` many times, which has poor performance.  Consider joining all columns at once using pd.concat(axis=1) instead. To get a de-fragmented frame, use `newframe = frame.copy()`\n",
      "  result[f'{col}_is_zero'] = apply_is_zero(feature)\n",
      "C:\\Users\\ARM\\AppData\\Local\\Temp\\ipykernel_10060\\621492584.py:14: PerformanceWarning: DataFrame is highly fragmented.  This is usually the result of calling `frame.insert` many times, which has poor performance.  Consider joining all columns at once using pd.concat(axis=1) instead. To get a de-fragmented frame, use `newframe = frame.copy()`\n",
      "  result[f'{col}_savgol'] = apply_savgol_filter(feature, window_size=11, polynomial=2)\n",
      "C:\\Users\\ARM\\AppData\\Local\\Temp\\ipykernel_10060\\621492584.py:17: PerformanceWarning: DataFrame is highly fragmented.  This is usually the result of calling `frame.insert` many times, which has poor performance.  Consider joining all columns at once using pd.concat(axis=1) instead. To get a de-fragmented frame, use `newframe = frame.copy()`\n",
      "  result[f'{col}_sav_med'] = apply_median_filter(apply_savgol_filter(feature, window_size=21), window_size=5)\n",
      "C:\\Users\\ARM\\AppData\\Local\\Temp\\ipykernel_10060\\621492584.py:18: PerformanceWarning: DataFrame is highly fragmented.  This is usually the result of calling `frame.insert` many times, which has poor performance.  Consider joining all columns at once using pd.concat(axis=1) instead. To get a de-fragmented frame, use `newframe = frame.copy()`\n",
      "  result[f'{col}_is_zero'] = apply_is_zero(feature)\n",
      "C:\\Users\\ARM\\AppData\\Local\\Temp\\ipykernel_10060\\621492584.py:14: PerformanceWarning: DataFrame is highly fragmented.  This is usually the result of calling `frame.insert` many times, which has poor performance.  Consider joining all columns at once using pd.concat(axis=1) instead. To get a de-fragmented frame, use `newframe = frame.copy()`\n",
      "  result[f'{col}_savgol'] = apply_savgol_filter(feature, window_size=11, polynomial=2)\n",
      "C:\\Users\\ARM\\AppData\\Local\\Temp\\ipykernel_10060\\621492584.py:17: PerformanceWarning: DataFrame is highly fragmented.  This is usually the result of calling `frame.insert` many times, which has poor performance.  Consider joining all columns at once using pd.concat(axis=1) instead. To get a de-fragmented frame, use `newframe = frame.copy()`\n",
      "  result[f'{col}_sav_med'] = apply_median_filter(apply_savgol_filter(feature, window_size=21), window_size=5)\n",
      "C:\\Users\\ARM\\AppData\\Local\\Temp\\ipykernel_10060\\621492584.py:18: PerformanceWarning: DataFrame is highly fragmented.  This is usually the result of calling `frame.insert` many times, which has poor performance.  Consider joining all columns at once using pd.concat(axis=1) instead. To get a de-fragmented frame, use `newframe = frame.copy()`\n",
      "  result[f'{col}_is_zero'] = apply_is_zero(feature)\n",
      "C:\\Users\\ARM\\AppData\\Local\\Temp\\ipykernel_10060\\621492584.py:14: PerformanceWarning: DataFrame is highly fragmented.  This is usually the result of calling `frame.insert` many times, which has poor performance.  Consider joining all columns at once using pd.concat(axis=1) instead. To get a de-fragmented frame, use `newframe = frame.copy()`\n",
      "  result[f'{col}_savgol'] = apply_savgol_filter(feature, window_size=11, polynomial=2)\n",
      "C:\\Users\\ARM\\AppData\\Local\\Temp\\ipykernel_10060\\621492584.py:17: PerformanceWarning: DataFrame is highly fragmented.  This is usually the result of calling `frame.insert` many times, which has poor performance.  Consider joining all columns at once using pd.concat(axis=1) instead. To get a de-fragmented frame, use `newframe = frame.copy()`\n",
      "  result[f'{col}_sav_med'] = apply_median_filter(apply_savgol_filter(feature, window_size=21), window_size=5)\n",
      "C:\\Users\\ARM\\AppData\\Local\\Temp\\ipykernel_10060\\621492584.py:18: PerformanceWarning: DataFrame is highly fragmented.  This is usually the result of calling `frame.insert` many times, which has poor performance.  Consider joining all columns at once using pd.concat(axis=1) instead. To get a de-fragmented frame, use `newframe = frame.copy()`\n",
      "  result[f'{col}_is_zero'] = apply_is_zero(feature)\n",
      "C:\\Users\\ARM\\AppData\\Local\\Temp\\ipykernel_10060\\621492584.py:14: PerformanceWarning: DataFrame is highly fragmented.  This is usually the result of calling `frame.insert` many times, which has poor performance.  Consider joining all columns at once using pd.concat(axis=1) instead. To get a de-fragmented frame, use `newframe = frame.copy()`\n",
      "  result[f'{col}_savgol'] = apply_savgol_filter(feature, window_size=11, polynomial=2)\n",
      "C:\\Users\\ARM\\AppData\\Local\\Temp\\ipykernel_10060\\621492584.py:17: PerformanceWarning: DataFrame is highly fragmented.  This is usually the result of calling `frame.insert` many times, which has poor performance.  Consider joining all columns at once using pd.concat(axis=1) instead. To get a de-fragmented frame, use `newframe = frame.copy()`\n",
      "  result[f'{col}_sav_med'] = apply_median_filter(apply_savgol_filter(feature, window_size=21), window_size=5)\n",
      "C:\\Users\\ARM\\AppData\\Local\\Temp\\ipykernel_10060\\621492584.py:18: PerformanceWarning: DataFrame is highly fragmented.  This is usually the result of calling `frame.insert` many times, which has poor performance.  Consider joining all columns at once using pd.concat(axis=1) instead. To get a de-fragmented frame, use `newframe = frame.copy()`\n",
      "  result[f'{col}_is_zero'] = apply_is_zero(feature)\n",
      "C:\\Users\\ARM\\AppData\\Local\\Temp\\ipykernel_10060\\621492584.py:14: PerformanceWarning: DataFrame is highly fragmented.  This is usually the result of calling `frame.insert` many times, which has poor performance.  Consider joining all columns at once using pd.concat(axis=1) instead. To get a de-fragmented frame, use `newframe = frame.copy()`\n",
      "  result[f'{col}_savgol'] = apply_savgol_filter(feature, window_size=11, polynomial=2)\n",
      "C:\\Users\\ARM\\AppData\\Local\\Temp\\ipykernel_10060\\621492584.py:17: PerformanceWarning: DataFrame is highly fragmented.  This is usually the result of calling `frame.insert` many times, which has poor performance.  Consider joining all columns at once using pd.concat(axis=1) instead. To get a de-fragmented frame, use `newframe = frame.copy()`\n",
      "  result[f'{col}_sav_med'] = apply_median_filter(apply_savgol_filter(feature, window_size=21), window_size=5)\n",
      "C:\\Users\\ARM\\AppData\\Local\\Temp\\ipykernel_10060\\621492584.py:18: PerformanceWarning: DataFrame is highly fragmented.  This is usually the result of calling `frame.insert` many times, which has poor performance.  Consider joining all columns at once using pd.concat(axis=1) instead. To get a de-fragmented frame, use `newframe = frame.copy()`\n",
      "  result[f'{col}_is_zero'] = apply_is_zero(feature)\n",
      "C:\\Users\\ARM\\AppData\\Local\\Temp\\ipykernel_10060\\621492584.py:14: PerformanceWarning: DataFrame is highly fragmented.  This is usually the result of calling `frame.insert` many times, which has poor performance.  Consider joining all columns at once using pd.concat(axis=1) instead. To get a de-fragmented frame, use `newframe = frame.copy()`\n",
      "  result[f'{col}_savgol'] = apply_savgol_filter(feature, window_size=11, polynomial=2)\n",
      "C:\\Users\\ARM\\AppData\\Local\\Temp\\ipykernel_10060\\621492584.py:17: PerformanceWarning: DataFrame is highly fragmented.  This is usually the result of calling `frame.insert` many times, which has poor performance.  Consider joining all columns at once using pd.concat(axis=1) instead. To get a de-fragmented frame, use `newframe = frame.copy()`\n",
      "  result[f'{col}_sav_med'] = apply_median_filter(apply_savgol_filter(feature, window_size=21), window_size=5)\n",
      "C:\\Users\\ARM\\AppData\\Local\\Temp\\ipykernel_10060\\621492584.py:18: PerformanceWarning: DataFrame is highly fragmented.  This is usually the result of calling `frame.insert` many times, which has poor performance.  Consider joining all columns at once using pd.concat(axis=1) instead. To get a de-fragmented frame, use `newframe = frame.copy()`\n",
      "  result[f'{col}_is_zero'] = apply_is_zero(feature)\n",
      "C:\\Users\\ARM\\AppData\\Local\\Temp\\ipykernel_10060\\621492584.py:14: PerformanceWarning: DataFrame is highly fragmented.  This is usually the result of calling `frame.insert` many times, which has poor performance.  Consider joining all columns at once using pd.concat(axis=1) instead. To get a de-fragmented frame, use `newframe = frame.copy()`\n",
      "  result[f'{col}_savgol'] = apply_savgol_filter(feature, window_size=11, polynomial=2)\n",
      "C:\\Users\\ARM\\AppData\\Local\\Temp\\ipykernel_10060\\621492584.py:17: PerformanceWarning: DataFrame is highly fragmented.  This is usually the result of calling `frame.insert` many times, which has poor performance.  Consider joining all columns at once using pd.concat(axis=1) instead. To get a de-fragmented frame, use `newframe = frame.copy()`\n",
      "  result[f'{col}_sav_med'] = apply_median_filter(apply_savgol_filter(feature, window_size=21), window_size=5)\n",
      "C:\\Users\\ARM\\AppData\\Local\\Temp\\ipykernel_10060\\621492584.py:18: PerformanceWarning: DataFrame is highly fragmented.  This is usually the result of calling `frame.insert` many times, which has poor performance.  Consider joining all columns at once using pd.concat(axis=1) instead. To get a de-fragmented frame, use `newframe = frame.copy()`\n",
      "  result[f'{col}_is_zero'] = apply_is_zero(feature)\n",
      "C:\\Users\\ARM\\AppData\\Local\\Temp\\ipykernel_10060\\621492584.py:14: PerformanceWarning: DataFrame is highly fragmented.  This is usually the result of calling `frame.insert` many times, which has poor performance.  Consider joining all columns at once using pd.concat(axis=1) instead. To get a de-fragmented frame, use `newframe = frame.copy()`\n",
      "  result[f'{col}_savgol'] = apply_savgol_filter(feature, window_size=11, polynomial=2)\n",
      "C:\\Users\\ARM\\AppData\\Local\\Temp\\ipykernel_10060\\621492584.py:17: PerformanceWarning: DataFrame is highly fragmented.  This is usually the result of calling `frame.insert` many times, which has poor performance.  Consider joining all columns at once using pd.concat(axis=1) instead. To get a de-fragmented frame, use `newframe = frame.copy()`\n",
      "  result[f'{col}_sav_med'] = apply_median_filter(apply_savgol_filter(feature, window_size=21), window_size=5)\n",
      "C:\\Users\\ARM\\AppData\\Local\\Temp\\ipykernel_10060\\621492584.py:18: PerformanceWarning: DataFrame is highly fragmented.  This is usually the result of calling `frame.insert` many times, which has poor performance.  Consider joining all columns at once using pd.concat(axis=1) instead. To get a de-fragmented frame, use `newframe = frame.copy()`\n",
      "  result[f'{col}_is_zero'] = apply_is_zero(feature)\n",
      "C:\\Users\\ARM\\AppData\\Local\\Temp\\ipykernel_10060\\621492584.py:14: PerformanceWarning: DataFrame is highly fragmented.  This is usually the result of calling `frame.insert` many times, which has poor performance.  Consider joining all columns at once using pd.concat(axis=1) instead. To get a de-fragmented frame, use `newframe = frame.copy()`\n",
      "  result[f'{col}_savgol'] = apply_savgol_filter(feature, window_size=11, polynomial=2)\n",
      "C:\\Users\\ARM\\AppData\\Local\\Temp\\ipykernel_10060\\621492584.py:17: PerformanceWarning: DataFrame is highly fragmented.  This is usually the result of calling `frame.insert` many times, which has poor performance.  Consider joining all columns at once using pd.concat(axis=1) instead. To get a de-fragmented frame, use `newframe = frame.copy()`\n",
      "  result[f'{col}_sav_med'] = apply_median_filter(apply_savgol_filter(feature, window_size=21), window_size=5)\n",
      "C:\\Users\\ARM\\AppData\\Local\\Temp\\ipykernel_10060\\621492584.py:18: PerformanceWarning: DataFrame is highly fragmented.  This is usually the result of calling `frame.insert` many times, which has poor performance.  Consider joining all columns at once using pd.concat(axis=1) instead. To get a de-fragmented frame, use `newframe = frame.copy()`\n",
      "  result[f'{col}_is_zero'] = apply_is_zero(feature)\n",
      "C:\\Users\\ARM\\AppData\\Local\\Temp\\ipykernel_10060\\621492584.py:14: PerformanceWarning: DataFrame is highly fragmented.  This is usually the result of calling `frame.insert` many times, which has poor performance.  Consider joining all columns at once using pd.concat(axis=1) instead. To get a de-fragmented frame, use `newframe = frame.copy()`\n",
      "  result[f'{col}_savgol'] = apply_savgol_filter(feature, window_size=11, polynomial=2)\n",
      "C:\\Users\\ARM\\AppData\\Local\\Temp\\ipykernel_10060\\621492584.py:17: PerformanceWarning: DataFrame is highly fragmented.  This is usually the result of calling `frame.insert` many times, which has poor performance.  Consider joining all columns at once using pd.concat(axis=1) instead. To get a de-fragmented frame, use `newframe = frame.copy()`\n",
      "  result[f'{col}_sav_med'] = apply_median_filter(apply_savgol_filter(feature, window_size=21), window_size=5)\n",
      "C:\\Users\\ARM\\AppData\\Local\\Temp\\ipykernel_10060\\621492584.py:18: PerformanceWarning: DataFrame is highly fragmented.  This is usually the result of calling `frame.insert` many times, which has poor performance.  Consider joining all columns at once using pd.concat(axis=1) instead. To get a de-fragmented frame, use `newframe = frame.copy()`\n",
      "  result[f'{col}_is_zero'] = apply_is_zero(feature)\n",
      "C:\\Users\\ARM\\AppData\\Local\\Temp\\ipykernel_10060\\621492584.py:14: PerformanceWarning: DataFrame is highly fragmented.  This is usually the result of calling `frame.insert` many times, which has poor performance.  Consider joining all columns at once using pd.concat(axis=1) instead. To get a de-fragmented frame, use `newframe = frame.copy()`\n",
      "  result[f'{col}_savgol'] = apply_savgol_filter(feature, window_size=11, polynomial=2)\n",
      "C:\\Users\\ARM\\AppData\\Local\\Temp\\ipykernel_10060\\621492584.py:17: PerformanceWarning: DataFrame is highly fragmented.  This is usually the result of calling `frame.insert` many times, which has poor performance.  Consider joining all columns at once using pd.concat(axis=1) instead. To get a de-fragmented frame, use `newframe = frame.copy()`\n",
      "  result[f'{col}_sav_med'] = apply_median_filter(apply_savgol_filter(feature, window_size=21), window_size=5)\n",
      "C:\\Users\\ARM\\AppData\\Local\\Temp\\ipykernel_10060\\621492584.py:18: PerformanceWarning: DataFrame is highly fragmented.  This is usually the result of calling `frame.insert` many times, which has poor performance.  Consider joining all columns at once using pd.concat(axis=1) instead. To get a de-fragmented frame, use `newframe = frame.copy()`\n",
      "  result[f'{col}_is_zero'] = apply_is_zero(feature)\n",
      "C:\\Users\\ARM\\AppData\\Local\\Temp\\ipykernel_10060\\621492584.py:14: PerformanceWarning: DataFrame is highly fragmented.  This is usually the result of calling `frame.insert` many times, which has poor performance.  Consider joining all columns at once using pd.concat(axis=1) instead. To get a de-fragmented frame, use `newframe = frame.copy()`\n",
      "  result[f'{col}_savgol'] = apply_savgol_filter(feature, window_size=11, polynomial=2)\n",
      "C:\\Users\\ARM\\AppData\\Local\\Temp\\ipykernel_10060\\621492584.py:17: PerformanceWarning: DataFrame is highly fragmented.  This is usually the result of calling `frame.insert` many times, which has poor performance.  Consider joining all columns at once using pd.concat(axis=1) instead. To get a de-fragmented frame, use `newframe = frame.copy()`\n",
      "  result[f'{col}_sav_med'] = apply_median_filter(apply_savgol_filter(feature, window_size=21), window_size=5)\n",
      "C:\\Users\\ARM\\AppData\\Local\\Temp\\ipykernel_10060\\621492584.py:18: PerformanceWarning: DataFrame is highly fragmented.  This is usually the result of calling `frame.insert` many times, which has poor performance.  Consider joining all columns at once using pd.concat(axis=1) instead. To get a de-fragmented frame, use `newframe = frame.copy()`\n",
      "  result[f'{col}_is_zero'] = apply_is_zero(feature)\n",
      "C:\\Users\\ARM\\AppData\\Local\\Temp\\ipykernel_10060\\621492584.py:14: PerformanceWarning: DataFrame is highly fragmented.  This is usually the result of calling `frame.insert` many times, which has poor performance.  Consider joining all columns at once using pd.concat(axis=1) instead. To get a de-fragmented frame, use `newframe = frame.copy()`\n",
      "  result[f'{col}_savgol'] = apply_savgol_filter(feature, window_size=11, polynomial=2)\n",
      "C:\\Users\\ARM\\AppData\\Local\\Temp\\ipykernel_10060\\621492584.py:17: PerformanceWarning: DataFrame is highly fragmented.  This is usually the result of calling `frame.insert` many times, which has poor performance.  Consider joining all columns at once using pd.concat(axis=1) instead. To get a de-fragmented frame, use `newframe = frame.copy()`\n",
      "  result[f'{col}_sav_med'] = apply_median_filter(apply_savgol_filter(feature, window_size=21), window_size=5)\n",
      "C:\\Users\\ARM\\AppData\\Local\\Temp\\ipykernel_10060\\621492584.py:18: PerformanceWarning: DataFrame is highly fragmented.  This is usually the result of calling `frame.insert` many times, which has poor performance.  Consider joining all columns at once using pd.concat(axis=1) instead. To get a de-fragmented frame, use `newframe = frame.copy()`\n",
      "  result[f'{col}_is_zero'] = apply_is_zero(feature)\n",
      "C:\\Users\\ARM\\AppData\\Local\\Temp\\ipykernel_10060\\621492584.py:14: PerformanceWarning: DataFrame is highly fragmented.  This is usually the result of calling `frame.insert` many times, which has poor performance.  Consider joining all columns at once using pd.concat(axis=1) instead. To get a de-fragmented frame, use `newframe = frame.copy()`\n",
      "  result[f'{col}_savgol'] = apply_savgol_filter(feature, window_size=11, polynomial=2)\n",
      "C:\\Users\\ARM\\AppData\\Local\\Temp\\ipykernel_10060\\621492584.py:17: PerformanceWarning: DataFrame is highly fragmented.  This is usually the result of calling `frame.insert` many times, which has poor performance.  Consider joining all columns at once using pd.concat(axis=1) instead. To get a de-fragmented frame, use `newframe = frame.copy()`\n",
      "  result[f'{col}_sav_med'] = apply_median_filter(apply_savgol_filter(feature, window_size=21), window_size=5)\n",
      "C:\\Users\\ARM\\AppData\\Local\\Temp\\ipykernel_10060\\621492584.py:18: PerformanceWarning: DataFrame is highly fragmented.  This is usually the result of calling `frame.insert` many times, which has poor performance.  Consider joining all columns at once using pd.concat(axis=1) instead. To get a de-fragmented frame, use `newframe = frame.copy()`\n",
      "  result[f'{col}_is_zero'] = apply_is_zero(feature)\n",
      "C:\\Users\\ARM\\AppData\\Local\\Temp\\ipykernel_10060\\621492584.py:14: PerformanceWarning: DataFrame is highly fragmented.  This is usually the result of calling `frame.insert` many times, which has poor performance.  Consider joining all columns at once using pd.concat(axis=1) instead. To get a de-fragmented frame, use `newframe = frame.copy()`\n",
      "  result[f'{col}_savgol'] = apply_savgol_filter(feature, window_size=11, polynomial=2)\n",
      "C:\\Users\\ARM\\AppData\\Local\\Temp\\ipykernel_10060\\621492584.py:17: PerformanceWarning: DataFrame is highly fragmented.  This is usually the result of calling `frame.insert` many times, which has poor performance.  Consider joining all columns at once using pd.concat(axis=1) instead. To get a de-fragmented frame, use `newframe = frame.copy()`\n",
      "  result[f'{col}_sav_med'] = apply_median_filter(apply_savgol_filter(feature, window_size=21), window_size=5)\n",
      "C:\\Users\\ARM\\AppData\\Local\\Temp\\ipykernel_10060\\621492584.py:18: PerformanceWarning: DataFrame is highly fragmented.  This is usually the result of calling `frame.insert` many times, which has poor performance.  Consider joining all columns at once using pd.concat(axis=1) instead. To get a de-fragmented frame, use `newframe = frame.copy()`\n",
      "  result[f'{col}_is_zero'] = apply_is_zero(feature)\n",
      "C:\\Users\\ARM\\AppData\\Local\\Temp\\ipykernel_10060\\621492584.py:14: PerformanceWarning: DataFrame is highly fragmented.  This is usually the result of calling `frame.insert` many times, which has poor performance.  Consider joining all columns at once using pd.concat(axis=1) instead. To get a de-fragmented frame, use `newframe = frame.copy()`\n",
      "  result[f'{col}_savgol'] = apply_savgol_filter(feature, window_size=11, polynomial=2)\n",
      "C:\\Users\\ARM\\AppData\\Local\\Temp\\ipykernel_10060\\621492584.py:17: PerformanceWarning: DataFrame is highly fragmented.  This is usually the result of calling `frame.insert` many times, which has poor performance.  Consider joining all columns at once using pd.concat(axis=1) instead. To get a de-fragmented frame, use `newframe = frame.copy()`\n",
      "  result[f'{col}_sav_med'] = apply_median_filter(apply_savgol_filter(feature, window_size=21), window_size=5)\n",
      "C:\\Users\\ARM\\AppData\\Local\\Temp\\ipykernel_10060\\621492584.py:18: PerformanceWarning: DataFrame is highly fragmented.  This is usually the result of calling `frame.insert` many times, which has poor performance.  Consider joining all columns at once using pd.concat(axis=1) instead. To get a de-fragmented frame, use `newframe = frame.copy()`\n",
      "  result[f'{col}_is_zero'] = apply_is_zero(feature)\n",
      "C:\\Users\\ARM\\AppData\\Local\\Temp\\ipykernel_10060\\621492584.py:14: PerformanceWarning: DataFrame is highly fragmented.  This is usually the result of calling `frame.insert` many times, which has poor performance.  Consider joining all columns at once using pd.concat(axis=1) instead. To get a de-fragmented frame, use `newframe = frame.copy()`\n",
      "  result[f'{col}_savgol'] = apply_savgol_filter(feature, window_size=11, polynomial=2)\n",
      "C:\\Users\\ARM\\AppData\\Local\\Temp\\ipykernel_10060\\621492584.py:17: PerformanceWarning: DataFrame is highly fragmented.  This is usually the result of calling `frame.insert` many times, which has poor performance.  Consider joining all columns at once using pd.concat(axis=1) instead. To get a de-fragmented frame, use `newframe = frame.copy()`\n",
      "  result[f'{col}_sav_med'] = apply_median_filter(apply_savgol_filter(feature, window_size=21), window_size=5)\n",
      "C:\\Users\\ARM\\AppData\\Local\\Temp\\ipykernel_10060\\621492584.py:18: PerformanceWarning: DataFrame is highly fragmented.  This is usually the result of calling `frame.insert` many times, which has poor performance.  Consider joining all columns at once using pd.concat(axis=1) instead. To get a de-fragmented frame, use `newframe = frame.copy()`\n",
      "  result[f'{col}_is_zero'] = apply_is_zero(feature)\n",
      "C:\\Users\\ARM\\AppData\\Local\\Temp\\ipykernel_10060\\621492584.py:14: PerformanceWarning: DataFrame is highly fragmented.  This is usually the result of calling `frame.insert` many times, which has poor performance.  Consider joining all columns at once using pd.concat(axis=1) instead. To get a de-fragmented frame, use `newframe = frame.copy()`\n",
      "  result[f'{col}_savgol'] = apply_savgol_filter(feature, window_size=11, polynomial=2)\n",
      "C:\\Users\\ARM\\AppData\\Local\\Temp\\ipykernel_10060\\621492584.py:17: PerformanceWarning: DataFrame is highly fragmented.  This is usually the result of calling `frame.insert` many times, which has poor performance.  Consider joining all columns at once using pd.concat(axis=1) instead. To get a de-fragmented frame, use `newframe = frame.copy()`\n",
      "  result[f'{col}_sav_med'] = apply_median_filter(apply_savgol_filter(feature, window_size=21), window_size=5)\n",
      "C:\\Users\\ARM\\AppData\\Local\\Temp\\ipykernel_10060\\621492584.py:18: PerformanceWarning: DataFrame is highly fragmented.  This is usually the result of calling `frame.insert` many times, which has poor performance.  Consider joining all columns at once using pd.concat(axis=1) instead. To get a de-fragmented frame, use `newframe = frame.copy()`\n",
      "  result[f'{col}_is_zero'] = apply_is_zero(feature)\n",
      "C:\\Users\\ARM\\AppData\\Local\\Temp\\ipykernel_10060\\621492584.py:14: PerformanceWarning: DataFrame is highly fragmented.  This is usually the result of calling `frame.insert` many times, which has poor performance.  Consider joining all columns at once using pd.concat(axis=1) instead. To get a de-fragmented frame, use `newframe = frame.copy()`\n",
      "  result[f'{col}_savgol'] = apply_savgol_filter(feature, window_size=11, polynomial=2)\n",
      "C:\\Users\\ARM\\AppData\\Local\\Temp\\ipykernel_10060\\621492584.py:17: PerformanceWarning: DataFrame is highly fragmented.  This is usually the result of calling `frame.insert` many times, which has poor performance.  Consider joining all columns at once using pd.concat(axis=1) instead. To get a de-fragmented frame, use `newframe = frame.copy()`\n",
      "  result[f'{col}_sav_med'] = apply_median_filter(apply_savgol_filter(feature, window_size=21), window_size=5)\n",
      "C:\\Users\\ARM\\AppData\\Local\\Temp\\ipykernel_10060\\621492584.py:18: PerformanceWarning: DataFrame is highly fragmented.  This is usually the result of calling `frame.insert` many times, which has poor performance.  Consider joining all columns at once using pd.concat(axis=1) instead. To get a de-fragmented frame, use `newframe = frame.copy()`\n",
      "  result[f'{col}_is_zero'] = apply_is_zero(feature)\n",
      "C:\\Users\\ARM\\AppData\\Local\\Temp\\ipykernel_10060\\621492584.py:14: PerformanceWarning: DataFrame is highly fragmented.  This is usually the result of calling `frame.insert` many times, which has poor performance.  Consider joining all columns at once using pd.concat(axis=1) instead. To get a de-fragmented frame, use `newframe = frame.copy()`\n",
      "  result[f'{col}_savgol'] = apply_savgol_filter(feature, window_size=11, polynomial=2)\n",
      "C:\\Users\\ARM\\AppData\\Local\\Temp\\ipykernel_10060\\621492584.py:17: PerformanceWarning: DataFrame is highly fragmented.  This is usually the result of calling `frame.insert` many times, which has poor performance.  Consider joining all columns at once using pd.concat(axis=1) instead. To get a de-fragmented frame, use `newframe = frame.copy()`\n",
      "  result[f'{col}_sav_med'] = apply_median_filter(apply_savgol_filter(feature, window_size=21), window_size=5)\n",
      "C:\\Users\\ARM\\AppData\\Local\\Temp\\ipykernel_10060\\621492584.py:18: PerformanceWarning: DataFrame is highly fragmented.  This is usually the result of calling `frame.insert` many times, which has poor performance.  Consider joining all columns at once using pd.concat(axis=1) instead. To get a de-fragmented frame, use `newframe = frame.copy()`\n",
      "  result[f'{col}_is_zero'] = apply_is_zero(feature)\n"
     ]
    }
   ],
   "source": [
    "def feature_engineering(df):\n",
    "    result = df.copy()\n",
    "    \n",
    "    # drop features\n",
    "    result = result.drop(['id', 'timestep'], axis=1)\n",
    "    DEFAULT_FEATURE = result.columns.to_list()\n",
    "    # result = drop_features(result, [15, 16, 17, 18, 20, 21, 23, 24])\n",
    "    \n",
    "    # add features\n",
    "    FEATURE_COLUMNS = result.columns.to_list()\n",
    "    for col in FEATURE_COLUMNS:\n",
    "        feature = result[col]\n",
    "        feature = feature.to_numpy()\n",
    "        result[f'{col}_savgol'] = apply_savgol_filter(feature, window_size=11, polynomial=2)\n",
    "        # result[f'{col}_median'] = apply_median_filter(feature)\n",
    "        # result[f'{col}_max'] = apply_maximum_filter(feature)\n",
    "        result[f'{col}_sav_med'] = apply_median_filter(apply_savgol_filter(feature, window_size=21), window_size=5)\n",
    "        result[f'{col}_is_zero'] = apply_is_zero(feature)\n",
    "    \n",
    "    # modify features\n",
    "    FEATURE_COLUMNS = result.columns.to_list()\n",
    "    for col in FEATURE_COLUMNS:\n",
    "        feature = result[col]\n",
    "        feature = feature.to_numpy()\n",
    "        # result[col] = apply_savgol_filter(feature)\n",
    "        # result[col] = apply_median_filter(feature)\n",
    "        # result[col] = apply_maximum_filter(feature)\n",
    "        # result[col] = apply_median_filter(apply_savgol_filter(feature, window_size=21), window_size=5)\n",
    "    \n",
    "    # drop default features\n",
    "    result = result.drop(DEFAULT_FEATURE, axis=1)\n",
    "     \n",
    "    return result\n",
    "\n",
    "X_train_1 = feature_engineering(X_train)\n",
    "X_test_1 = feature_engineering(X_test)"
   ]
  },
  {
   "cell_type": "code",
   "execution_count": 74,
   "metadata": {},
   "outputs": [],
   "source": [
    "# print(X_train_1['0X_savgol'][:5], X_train_1['0X'][:5])"
   ]
  },
  {
   "cell_type": "code",
   "execution_count": 75,
   "metadata": {},
   "outputs": [],
   "source": [
    "# tmp = X_train_1['0X'].value_counts()\n",
    "# tmp2 = np.array([tmp.index.to_numpy(), tmp.to_numpy()]).T\n",
    "# tmp2[0:100, :]"
   ]
  },
  {
   "cell_type": "code",
   "execution_count": 76,
   "metadata": {},
   "outputs": [],
   "source": [
    "def get_scaler(scaler_name='MinMaxScaler'):\n",
    "    if scaler_name == 'RobustScaler':\n",
    "        scaler = RobustScaler()\n",
    "    elif scaler_name == 'MinMaxScaler':\n",
    "        scaler = MinMaxScaler()\n",
    "    return scaler\n",
    "# scaler_name = 'RobustScaler'\n",
    "scaler_name = 'MinMaxScaler'\n",
    "scaler = get_scaler(scaler_name)"
   ]
  },
  {
   "cell_type": "code",
   "execution_count": 77,
   "metadata": {},
   "outputs": [
    {
     "data": {
      "text/plain": [
       "(91378, 150)"
      ]
     },
     "execution_count": 77,
     "metadata": {},
     "output_type": "execute_result"
    }
   ],
   "source": [
    "X_train_scaled = scaler.fit_transform(X_train_1)\n",
    "X_test_scaled = scaler.transform(X_test_1)\n",
    "\n",
    "X_train_scaled.shape"
   ]
  },
  {
   "cell_type": "code",
   "execution_count": 78,
   "metadata": {},
   "outputs": [],
   "source": [
    "# joblib.dump(scaler, os.path.join('saved_scaler', f'{scaler_name}.pkl'))"
   ]
  },
  {
   "cell_type": "code",
   "execution_count": 79,
   "metadata": {},
   "outputs": [
    {
     "name": "stdout",
     "output_type": "stream",
     "text": [
      "(107, 854, 150) (107, 2)\n"
     ]
    }
   ],
   "source": [
    "X_train_modified, y_train_modified = inverse_mod_X(X_train_scaled), inverse_mod_y(y_train)\n",
    "X_test_modified, y_test_modified = inverse_mod_X(X_test_scaled), inverse_mod_y(y_test)\n",
    "print(X_train_modified.shape, y_train_modified.shape)"
   ]
  },
  {
   "cell_type": "code",
   "execution_count": 80,
   "metadata": {},
   "outputs": [
    {
     "name": "stdout",
     "output_type": "stream",
     "text": [
      "Model: \"model_3\"\n",
      "__________________________________________________________________________________________________\n",
      "Layer (type)                    Output Shape         Param #     Connected to                     \n",
      "==================================================================================================\n",
      "input_4 (InputLayer)            [(None, 854, 150)]   0                                            \n",
      "__________________________________________________________________________________________________\n",
      "layer_normalization_32 (LayerNo (None, 854, 150)     300         input_4[0][0]                    \n",
      "__________________________________________________________________________________________________\n",
      "multi_head_attention_16 (MultiH (None, 854, 150)     154518      layer_normalization_32[0][0]     \n",
      "                                                                 layer_normalization_32[0][0]     \n",
      "__________________________________________________________________________________________________\n",
      "dropout_36 (Dropout)            (None, 854, 150)     0           multi_head_attention_16[0][0]    \n",
      "__________________________________________________________________________________________________\n",
      "tf.__operators__.add_32 (TFOpLa (None, 854, 150)     0           dropout_36[0][0]                 \n",
      "                                                                 input_4[0][0]                    \n",
      "__________________________________________________________________________________________________\n",
      "layer_normalization_33 (LayerNo (None, 854, 150)     300         tf.__operators__.add_32[0][0]    \n",
      "__________________________________________________________________________________________________\n",
      "conv1d_32 (Conv1D)              (None, 854, 4)       604         layer_normalization_33[0][0]     \n",
      "__________________________________________________________________________________________________\n",
      "dropout_37 (Dropout)            (None, 854, 4)       0           conv1d_32[0][0]                  \n",
      "__________________________________________________________________________________________________\n",
      "conv1d_33 (Conv1D)              (None, 854, 150)     750         dropout_37[0][0]                 \n",
      "__________________________________________________________________________________________________\n",
      "tf.__operators__.add_33 (TFOpLa (None, 854, 150)     0           conv1d_33[0][0]                  \n",
      "                                                                 tf.__operators__.add_32[0][0]    \n",
      "__________________________________________________________________________________________________\n",
      "layer_normalization_34 (LayerNo (None, 854, 150)     300         tf.__operators__.add_33[0][0]    \n",
      "__________________________________________________________________________________________________\n",
      "multi_head_attention_17 (MultiH (None, 854, 150)     154518      layer_normalization_34[0][0]     \n",
      "                                                                 layer_normalization_34[0][0]     \n",
      "__________________________________________________________________________________________________\n",
      "dropout_38 (Dropout)            (None, 854, 150)     0           multi_head_attention_17[0][0]    \n",
      "__________________________________________________________________________________________________\n",
      "tf.__operators__.add_34 (TFOpLa (None, 854, 150)     0           dropout_38[0][0]                 \n",
      "                                                                 tf.__operators__.add_33[0][0]    \n",
      "__________________________________________________________________________________________________\n",
      "layer_normalization_35 (LayerNo (None, 854, 150)     300         tf.__operators__.add_34[0][0]    \n",
      "__________________________________________________________________________________________________\n",
      "conv1d_34 (Conv1D)              (None, 854, 4)       604         layer_normalization_35[0][0]     \n",
      "__________________________________________________________________________________________________\n",
      "dropout_39 (Dropout)            (None, 854, 4)       0           conv1d_34[0][0]                  \n",
      "__________________________________________________________________________________________________\n",
      "conv1d_35 (Conv1D)              (None, 854, 150)     750         dropout_39[0][0]                 \n",
      "__________________________________________________________________________________________________\n",
      "tf.__operators__.add_35 (TFOpLa (None, 854, 150)     0           conv1d_35[0][0]                  \n",
      "                                                                 tf.__operators__.add_34[0][0]    \n",
      "__________________________________________________________________________________________________\n",
      "global_average_pooling1d_3 (Glo (None, 854)          0           tf.__operators__.add_35[0][0]    \n",
      "__________________________________________________________________________________________________\n",
      "dense_7 (Dense)                 (None, 128)          109440      global_average_pooling1d_3[0][0] \n",
      "__________________________________________________________________________________________________\n",
      "dropout_40 (Dropout)            (None, 128)          0           dense_7[0][0]                    \n",
      "__________________________________________________________________________________________________\n",
      "dense_8 (Dense)                 (None, 2)            258         dropout_40[0][0]                 \n",
      "==================================================================================================\n",
      "Total params: 422,642\n",
      "Trainable params: 422,642\n",
      "Non-trainable params: 0\n",
      "__________________________________________________________________________________________________\n"
     ]
    }
   ],
   "source": [
    "input_shape, n_output = (X_train_modified.shape[-2], X_train_modified.shape[-1]), y_train_modified.shape[1]\n",
    "# model = create_model_1(input_shape, n_output)\n",
    "# model = create_model_1_0(input_shape, n_output)\n",
    "# model = create_model_1_1(input_shape, n_output)\n",
    "# model = create_model_1_2(input_shape, n_output)\n",
    "# model = create_model_2(input_shape, n_output)\n",
    "# model = create_model_2_1(input_shape, n_output)\n",
    "# model = create_model_2_2(input_shape, n_output)\n",
    "model = create_model_3(input_shape,\n",
    "    n_output,\n",
    "    head_size=64,\n",
    "    num_heads=4,\n",
    "    ff_dim=4,\n",
    "    num_transformer_blocks=2,\n",
    "    mlp_units=[128],\n",
    "    dropout=0.25,\n",
    "    mlp_dropout=0.25\n",
    "    )\n",
    "# model = Sequential([\n",
    "#         InputLayer(input_shape),\n",
    "#         Bidirectional(LSTM(32, return_sequences=True)),\n",
    "#         Bidirectional(LSTM(32, return_sequences=False)),\n",
    "#         Dense(25, activation='selu'),\n",
    "#         Dense(n_output, activation=\"softmax\")\n",
    "#     ])\n",
    "model.summary()"
   ]
  },
  {
   "cell_type": "code",
   "execution_count": 81,
   "metadata": {},
   "outputs": [],
   "source": [
    "optimizer = Adam(learning_rate=1e-3)\n",
    "model.compile(\n",
    "                optimizer=optimizer,\n",
    "                loss=CategoricalCrossentropy(),\n",
    "                metrics=[\n",
    "                    'accuracy'\n",
    "                ]\n",
    "              )"
   ]
  },
  {
   "cell_type": "code",
   "execution_count": 82,
   "metadata": {},
   "outputs": [],
   "source": [
    "reduce_lr = ReduceLROnPlateau(\n",
    "                                monitor='val_loss',\n",
    "                                factor=0.5,\n",
    "                                patience=4,\n",
    "                                min_lr=1e-4\n",
    "                              )\n",
    "early_stopping = EarlyStopping(\n",
    "                                monitor='loss',\n",
    "                                patience=6\n",
    "                              )"
   ]
  },
  {
   "cell_type": "code",
   "execution_count": 83,
   "metadata": {},
   "outputs": [
    {
     "name": "stdout",
     "output_type": "stream",
     "text": [
      "Epoch 1/25\n",
      "11/11 [==============================] - 4s 139ms/step - loss: 0.7451 - accuracy: 0.5412 - val_loss: 1.0537 - val_accuracy: 0.4545\n",
      "Epoch 2/25\n",
      "11/11 [==============================] - 1s 100ms/step - loss: 0.6437 - accuracy: 0.6353 - val_loss: 0.5436 - val_accuracy: 0.7273\n",
      "Epoch 3/25\n",
      "11/11 [==============================] - 1s 98ms/step - loss: 0.5253 - accuracy: 0.7647 - val_loss: 0.4414 - val_accuracy: 0.7273\n",
      "Epoch 4/25\n",
      "11/11 [==============================] - 1s 101ms/step - loss: 0.5028 - accuracy: 0.7412 - val_loss: 0.6511 - val_accuracy: 0.5909\n",
      "Epoch 5/25\n",
      "11/11 [==============================] - 1s 100ms/step - loss: 0.4153 - accuracy: 0.7882 - val_loss: 0.3827 - val_accuracy: 0.7727\n",
      "Epoch 6/25\n",
      "11/11 [==============================] - 1s 101ms/step - loss: 0.3690 - accuracy: 0.8353 - val_loss: 0.5915 - val_accuracy: 0.7727\n",
      "Epoch 7/25\n",
      "11/11 [==============================] - 1s 97ms/step - loss: 0.2392 - accuracy: 0.9176 - val_loss: 0.5329 - val_accuracy: 0.8182\n",
      "Epoch 8/25\n",
      "11/11 [==============================] - 1s 99ms/step - loss: 0.1806 - accuracy: 0.9176 - val_loss: 0.6372 - val_accuracy: 0.7273\n",
      "Epoch 9/25\n",
      "11/11 [==============================] - 1s 100ms/step - loss: 0.2017 - accuracy: 0.9412 - val_loss: 0.5269 - val_accuracy: 0.7727\n",
      "Epoch 10/25\n",
      "11/11 [==============================] - 1s 100ms/step - loss: 0.1508 - accuracy: 0.9647 - val_loss: 0.4549 - val_accuracy: 0.6818\n",
      "Epoch 11/25\n",
      "11/11 [==============================] - 1s 97ms/step - loss: 0.0598 - accuracy: 1.0000 - val_loss: 0.6190 - val_accuracy: 0.8182\n",
      "Epoch 12/25\n",
      "11/11 [==============================] - 1s 97ms/step - loss: 0.0246 - accuracy: 1.0000 - val_loss: 0.4570 - val_accuracy: 0.8636\n",
      "Epoch 13/25\n",
      "11/11 [==============================] - 1s 97ms/step - loss: 0.0440 - accuracy: 0.9882 - val_loss: 1.0583 - val_accuracy: 0.7727\n",
      "Epoch 14/25\n",
      "11/11 [==============================] - 1s 100ms/step - loss: 0.0227 - accuracy: 0.9882 - val_loss: 1.0737 - val_accuracy: 0.8182\n",
      "Epoch 15/25\n",
      "11/11 [==============================] - 1s 100ms/step - loss: 0.0042 - accuracy: 1.0000 - val_loss: 1.0283 - val_accuracy: 0.8636\n",
      "Epoch 16/25\n",
      "11/11 [==============================] - 1s 100ms/step - loss: 0.0743 - accuracy: 0.9882 - val_loss: 0.5314 - val_accuracy: 0.8636\n",
      "Epoch 17/25\n",
      "11/11 [==============================] - 1s 100ms/step - loss: 0.0046 - accuracy: 1.0000 - val_loss: 0.4283 - val_accuracy: 0.8636\n",
      "Epoch 18/25\n",
      "11/11 [==============================] - 1s 99ms/step - loss: 0.0083 - accuracy: 1.0000 - val_loss: 0.4428 - val_accuracy: 0.8636\n",
      "Epoch 19/25\n",
      "11/11 [==============================] - 1s 100ms/step - loss: 0.0112 - accuracy: 1.0000 - val_loss: 0.4539 - val_accuracy: 0.8636\n",
      "Epoch 20/25\n",
      "11/11 [==============================] - 1s 100ms/step - loss: 0.0057 - accuracy: 1.0000 - val_loss: 0.4683 - val_accuracy: 0.8636\n",
      "Epoch 21/25\n",
      "11/11 [==============================] - 1s 101ms/step - loss: 0.0046 - accuracy: 1.0000 - val_loss: 0.4777 - val_accuracy: 0.8636\n"
     ]
    }
   ],
   "source": [
    "history = model.fit(X_train_modified, y_train_modified,\n",
    "          batch_size=8,\n",
    "          epochs=25,\n",
    "          shuffle=True,\n",
    "          validation_split=0.2,\n",
    "          callbacks=[\n",
    "              reduce_lr,\n",
    "              early_stopping,\n",
    "              ]\n",
    "          )"
   ]
  },
  {
   "cell_type": "code",
   "execution_count": 84,
   "metadata": {},
   "outputs": [],
   "source": [
    "from datetime import datetime\n",
    "current_time = datetime.now().strftime(\"%Y-%m-%d_%H-%M-%S\")\n",
    "model.save(os.path.join(\"saved_models\", f\"{current_time}_{scaler_name}.h5\"))"
   ]
  },
  {
   "cell_type": "code",
   "execution_count": 85,
   "metadata": {},
   "outputs": [
    {
     "data": {
      "image/png": "[encoded data removed]",
      "text/plain": [
       "<Figure size 432x288 with 1 Axes>"
      ]
     },
     "metadata": {
      "needs_background": "light"
     },
     "output_type": "display_data"
    }
   ],
   "source": [
    "plt.plot(history.history['loss'])\n",
    "plt.plot(history.history['val_loss'])\n",
    "plt.title('model loss')\n",
    "plt.ylabel('loss')\n",
    "plt.xlabel('epoch')\n",
    "plt.legend(['train', 'validate'], loc='upper left')\n",
    "plt.show()"
   ]
  },
  {
   "cell_type": "code",
   "execution_count": 86,
   "metadata": {},
   "outputs": [
    {
     "data": {
      "image/png": "[encoded data removed]",
      "text/plain": [
       "<Figure size 432x288 with 1 Axes>"
      ]
     },
     "metadata": {
      "needs_background": "light"
     },
     "output_type": "display_data"
    }
   ],
   "source": [
    "plt.plot(history.history['accuracy'])\n",
    "plt.plot(history.history['val_accuracy'])\n",
    "plt.title('model accuracy')\n",
    "plt.ylabel('accuracy')\n",
    "plt.xlabel('epoch')\n",
    "plt.legend(['train', 'test'], loc='best')\n",
    "plt.show()"
   ]
  },
  {
   "cell_type": "code",
   "execution_count": 87,
   "metadata": {},
   "outputs": [],
   "source": [
    "train_predict = model.predict(X_train_modified, batch_size=4)\n",
    "train_predict = np.argmax(train_predict, axis=1)+1\n",
    "train_real = np.argmax(y_train_modified, axis=1)+1\n",
    "\n",
    "# for i in range(len(y_train_modified)):\n",
    "#     print(f\"Index:{i}, Predict:{train_predict[i]}, Real:{train_real[i]}\")"
   ]
  },
  {
   "cell_type": "code",
   "execution_count": 88,
   "metadata": {},
   "outputs": [
    {
     "name": "stdout",
     "output_type": "stream",
     "text": [
      "              precision    recall  f1-score   support\n",
      "\n",
      "           1     0.9444    1.0000    0.9714        51\n",
      "           2     1.0000    0.9464    0.9725        56\n",
      "\n",
      "    accuracy                         0.9720       107\n",
      "   macro avg     0.9722    0.9732    0.9720       107\n",
      "weighted avg     0.9735    0.9720    0.9720       107\n",
      "\n",
      "---------------------------------------------------------\n",
      "\n"
     ]
    },
    {
     "data": {
      "image/png": "[encoded data removed]",
      "text/plain": [
       "<Figure size 432x288 with 2 Axes>"
      ]
     },
     "metadata": {
      "needs_background": "light"
     },
     "output_type": "display_data"
    }
   ],
   "source": [
    "f1_train = f1_score(train_real, train_predict)\n",
    "accuracy_train = accuracy_score(train_real, train_predict)\n",
    "# print(f\"f1: {f1_train:.4f}\\naccuracy: {accuracy_train:.4f}\")\n",
    "print(classification_report(train_real, train_predict, digits=4))\n",
    "print(\"---------------------------------------------------------\")\n",
    "sns.heatmap(confusion_matrix(train_real, train_predict),annot = True,fmt = '2.0f')\n",
    "print()"
   ]
  },
  {
   "cell_type": "code",
   "execution_count": 89,
   "metadata": {},
   "outputs": [],
   "source": [
    "test_predict_0 = model.predict(X_test_modified)\n",
    "test_predict = np.argmax(test_predict_0, axis=1)+1\n",
    "test_real = np.argmax(y_test_modified, axis=1)+1\n",
    "\n",
    "# for i in range(len(y_test)):\n",
    "#     print(f\"Index:{i}, Predict:{test_real[i]}, Real:{test_real[i]}\")"
   ]
  },
  {
   "cell_type": "code",
   "execution_count": 90,
   "metadata": {},
   "outputs": [],
   "source": [
    "# for i in range(len(y_test)):\n",
    "    # print(f\"Index:{i}, Predict:{test_predict_0[i]}, Real:{test_real[i]}\")\n",
    "# plt.plot(test_predict==test_real)\n",
    "# plt.plot(np.max(test_predict_0, axis=1))\n",
    "# print(np.max(test_predict_0, axis=1))\n",
    "# plt.plot(test_real==2)\n",
    "# plt.plot(test_predict_0[:, 1]>0.35)\n",
    "# for i in np.arange(0, 1, 0.05):\n",
    "#     print(i, sum((test_predict_0[:, 1]>i)==(test_real==2)))\n",
    "#     plt.plot((test_predict_0[:, 1]>i)==(test_real==2))\n",
    "#     plt.show()"
   ]
  },
  {
   "cell_type": "code",
   "execution_count": 91,
   "metadata": {},
   "outputs": [
    {
     "name": "stdout",
     "output_type": "stream",
     "text": [
      "              precision    recall  f1-score   support\n",
      "\n",
      "           1     0.3333    0.4000    0.3636         5\n",
      "           2     0.7692    0.7143    0.7407        14\n",
      "\n",
      "    accuracy                         0.6316        19\n",
      "   macro avg     0.5513    0.5571    0.5522        19\n",
      "weighted avg     0.6545    0.6316    0.6415        19\n",
      "\n",
      "---------------------------------------------------------\n",
      "\n"
     ]
    },
    {
     "data": {
      "image/png": "[encoded data removed]",
      "text/plain": [
       "<Figure size 432x288 with 2 Axes>"
      ]
     },
     "metadata": {
      "needs_background": "light"
     },
     "output_type": "display_data"
    }
   ],
   "source": [
    "f1_test = f1_score(test_real, test_predict)\n",
    "accuracy_test = accuracy_score(test_real, test_predict)\n",
    "# print(f\"f1: {f1_test:.4f}\\naccuracy: {accuracy_test:.4f}\")\n",
    "print(classification_report(test_real, test_predict, digits=4))\n",
    "print(\"---------------------------------------------------------\")\n",
    "sns.heatmap(confusion_matrix(test_real, test_predict),annot = True,fmt = '2.0f')\n",
    "print()"
   ]
  },
  {
   "cell_type": "code",
   "execution_count": null,
   "metadata": {},
   "outputs": [],
   "source": []
  }
 ],
 "metadata": {
  "kernelspec": {
   "display_name": "Python 3.9.12 ('tf2-gpu')",
   "language": "python",
   "name": "python3"
  },
  "language_info": {
   "codemirror_mode": {
    "name": "ipython",
    "version": 3
   },
   "file_extension": ".py",
   "mimetype": "text/x-python",
   "name": "python",
   "nbconvert_exporter": "python",
   "pygments_lexer": "ipython3",
   "version": "3.9.12"
  },
  "vscode": {
   "interpreter": {
    "hash": "a52a0f3d7699f80e9b9bf0fcc65af90b93cb0293c63dd5d9a000502c20aee271"
   }
  }
 },
 "nbformat": 4,
 "nbformat_minor": 2
}
