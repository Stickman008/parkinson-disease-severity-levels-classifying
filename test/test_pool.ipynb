{
 "cells": [
  {
   "cell_type": "code",
   "execution_count": null,
   "metadata": {},
   "outputs": [],
   "source": [
    "import os\n",
    "import sys\n",
    "import numpy as np\n",
    "import pandas as pd\n",
    "import matplotlib.pyplot as plt\n",
    "import seaborn as sns\n",
    "import joblib\n",
    "\n",
    "sys.path.append(os.path.join(\"..\"))\n",
    "\n",
    "from sklearn.preprocessing import MinMaxScaler, RobustScaler, StandardScaler, normalize\n",
    "from sklearn.metrics import f1_score, accuracy_score, precision_score, recall_score, confusion_matrix, classification_report\n",
    "\n",
    "from utils import mod_df, drop_features, inverse_mod_X, inverse_mod_y, apply_savgol_filter, apply_median_filter, apply_maximum_filter, apply_is_zero\n",
    "from my_model import create_model_1, create_model_1_1, create_model_1_2, create_model_1_3, create_model_2, create_model_2_1"
   ]
  },
  {
   "cell_type": "code",
   "execution_count": null,
   "metadata": {},
   "outputs": [],
   "source": [
    "train_df = pd.read_csv(os.path.join('..', 'data', 'unionTrain.csv'))\n",
    "test_df = pd.read_csv(os.path.join('..', 'data', 'unionTest.csv'))"
   ]
  },
  {
   "cell_type": "code",
   "execution_count": null,
   "metadata": {},
   "outputs": [],
   "source": [
    "X_train, y_train = mod_df(train_df)\n",
    "X_test, y_test = mod_df(test_df)"
   ]
  },
  {
   "cell_type": "code",
   "execution_count": null,
   "metadata": {},
   "outputs": [],
   "source": [
    "import multiprocessing\n",
    "\n",
    "def feature_engineering(df):\n",
    "    result = df.copy()\n",
    "    \n",
    "    # drop features\n",
    "    result = result.drop(['id', 'timestep'], axis=1)\n",
    "    # result = drop_features(result, [15, 16, 17, 18, 20, 21, 23, 24])\n",
    "    \n",
    "    # add features\n",
    "    with multiprocessing.Pool(processes=8) as pool:\n",
    "        FEATURE_COLUMNS = result.columns.to_list()\n",
    "        gb_tmp = pool.map(apply_savgol_filter, result[FEATURE_COLUMNS].to_numpy())\n",
    "        gb_tmp2 = pool.map(apply_median_filter, result[FEATURE_COLUMNS].to_numpy())\n",
    "        gb_tmp3 = pool.map(apply_maximum_filter, result[FEATURE_COLUMNS].to_numpy())\n",
    "        gb_tmp4 = pool.map(apply_is_zero, result[FEATURE_COLUMNS].to_numpy())\n",
    "        # for col in FEATURE_COLUMNS:\n",
    "        #     feature = result[col]\n",
    "        #     feature = feature.to_numpy()\n",
    "            # result[f'{col}_savgol'] = apply_savgol_filter(feature, window_size=11, polynomial=2)\n",
    "            # result[f'{col}_median'] = apply_median_filter(feature)\n",
    "            # result[f'{col}_max'] = apply_maximum_filter(feature)\n",
    "            # result[f'{col}_sav_med'] = apply_median_filter(apply_savgol_filter(feature, window_size=21), window_size=5)\n",
    "            # result[f'{col}_is_zero'] = apply_is_zero(feature)\n",
    "            \n",
    "    return result, gb_tmp\n",
    "\n",
    "X_train_1, gb_tmp = feature_engineering(X_train)\n",
    "# X_test_1 = feature_engineering(X_test)"
   ]
  },
  {
   "cell_type": "code",
   "execution_count": null,
   "metadata": {},
   "outputs": [],
   "source": [
    "len(gb_tmp)"
   ]
  },
  {
   "cell_type": "code",
   "execution_count": null,
   "metadata": {},
   "outputs": [],
   "source": [
    "X_train_1"
   ]
  },
  {
   "cell_type": "code",
   "execution_count": null,
   "metadata": {},
   "outputs": [],
   "source": [
    "'''\n",
    "med & max: 1m 35s\n",
    "all: 2m 16s\n",
    "'''"
   ]
  }
 ],
 "metadata": {
  "kernelspec": {
   "display_name": "Python 3.9.13 ('tf2-gpu')",
   "language": "python",
   "name": "python3"
  },
  "language_info": {
   "codemirror_mode": {
    "name": "ipython",
    "version": 3
   },
   "file_extension": ".py",
   "mimetype": "text/x-python",
   "name": "python",
   "nbconvert_exporter": "python",
   "pygments_lexer": "ipython3",
   "version": "3.9.13"
  },
  "vscode": {
   "interpreter": {
    "hash": "586ea256996c4d1afba0a24bd3ac38219670b30d200ba45ddfed159cb38a21bb"
   }
  }
 },
 "nbformat": 4,
 "nbformat_minor": 2
}
