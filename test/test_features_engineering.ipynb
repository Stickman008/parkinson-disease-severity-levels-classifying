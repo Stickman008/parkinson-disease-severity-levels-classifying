{
 "cells": [
  {
   "cell_type": "code",
   "execution_count": null,
   "metadata": {},
   "outputs": [],
   "source": [
    "import os\n",
    "import sys\n",
    "import numpy as np\n",
    "import pandas as pd\n",
    "import matplotlib.pyplot as plt\n",
    "import seaborn as sns\n",
    "import joblib\n",
    "\n",
    "sys.path.append(os.path.join(\"..\"))\n",
    "\n",
    "from utils import mod_df, drop_features, inverse_mod_X, inverse_mod_y\n",
    "from my_model import create_model_1, create_model_1_1, create_model_1_2, create_model_2, create_model_2_1\n",
    "# tf.__version__"
   ]
  },
  {
   "cell_type": "code",
   "execution_count": null,
   "metadata": {},
   "outputs": [],
   "source": [
    "train_df = pd.read_csv(os.path.join('..', 'data', 'unionTrain.csv'))\n",
    "test_df = pd.read_csv(os.path.join('..', 'data', 'unionTest.csv'))"
   ]
  },
  {
   "cell_type": "code",
   "execution_count": null,
   "metadata": {},
   "outputs": [],
   "source": [
    "X_train, y_train = mod_df(train_df)\n",
    "X_test, y_test = mod_df(test_df)"
   ]
  },
  {
   "cell_type": "code",
   "execution_count": null,
   "metadata": {},
   "outputs": [],
   "source": [
    "X_train.head()"
   ]
  },
  {
   "cell_type": "code",
   "execution_count": null,
   "metadata": {},
   "outputs": [],
   "source": [
    "from scipy.signal import savgol_filter, medfilt\n",
    "from scipy.ndimage import maximum_filter\n",
    "\n",
    "def apply_savgol_filter(np_array, window_size=20, polynomial=1):\n",
    "    smooth_np_array = savgol_filter(np_array, window_size, polynomial)\n",
    "    return smooth_np_array\n",
    "\n",
    "def apply_median_filter(np_array, window_size=17):\n",
    "    smooth_np_array = medfilt(np_array, window_size)\n",
    "    return smooth_np_array\n",
    "\n",
    "def apply_maximum_filter(np_array, window_size=24):\n",
    "    smooth_np_array = maximum_filter(np_array, window_size)\n",
    "    return smooth_np_array\n",
    "\n",
    "def apply_is_zero(np_array):\n",
    "    is_zero = (np_array<1).astype(np.float32)\n",
    "    return is_zero\n",
    "\n",
    "for i in range(10):\n",
    "    feature = X_train['1Y']\n",
    "    sample_sub_feature = feature[i*854:(i+1)*854].to_numpy()\n",
    "    # smoothed_data = apply_savgol_filter(sample_sub_feature)\n",
    "    # smoothed_data = apply_median_filter(smoothed_data)\n",
    "    # smoothed_data = apply_median_filter(sample_sub_feature, window_size=25)\n",
    "    # smoothed_data = apply_maximum_filter(sample_sub_feature, window_size=10)\n",
    "    # smoothed_data = apply_median_filter(smoothed_data, window_size=25)\n",
    "    smoothed_data = apply_is_zero(sample_sub_feature)\n",
    "    plt.figure(figsize=(5, 3))\n",
    "    plt.plot(sample_sub_feature, label='before')\n",
    "    plt.plot(smoothed_data, label='after')\n",
    "    plt.legend()\n",
    "    plt.show()\n",
    "    # smoothed_data"
   ]
  },
  {
   "cell_type": "code",
   "execution_count": null,
   "metadata": {},
   "outputs": [],
   "source": [
    "def feature_engineering(df):\n",
    "    result = df.copy()\n",
    "    # add features\n",
    "    \n",
    "    # drop features\n",
    "    result = drop_features(result, [15, 16, 17, 18, 20, 21, 23, 24])\n",
    "    result = result.drop(['id', 'timestep'], axis=1)\n",
    "    \n",
    "    # modify features\n",
    "    tmp_len = len(result)//854\n",
    "    for col in result.columns.to_list():\n",
    "        feature = result[col]\n",
    "        result[col] = apply_savgol_filter(feature.to_numpy())\n",
    "        # sample_sub_feature = feature[0:100]\n",
    "        # print(sample_sub_feature.to_list())\n",
    "        # plt.plot(sample_sub_feature)\n",
    "    \n",
    "    return result\n",
    "X_train_1 = feature_engineering(X_train)\n",
    "X_train_1"
   ]
  },
  {
   "cell_type": "code",
   "execution_count": null,
   "metadata": {},
   "outputs": [],
   "source": []
  }
 ],
 "metadata": {
  "kernelspec": {
   "display_name": "Python 3.9.13 ('tf2-gpu')",
   "language": "python",
   "name": "python3"
  },
  "language_info": {
   "codemirror_mode": {
    "name": "ipython",
    "version": 3
   },
   "file_extension": ".py",
   "mimetype": "text/x-python",
   "name": "python",
   "nbconvert_exporter": "python",
   "pygments_lexer": "ipython3",
   "version": "3.9.13"
  },
  "vscode": {
   "interpreter": {
    "hash": "586ea256996c4d1afba0a24bd3ac38219670b30d200ba45ddfed159cb38a21bb"
   }
  }
 },
 "nbformat": 4,
 "nbformat_minor": 2
}
