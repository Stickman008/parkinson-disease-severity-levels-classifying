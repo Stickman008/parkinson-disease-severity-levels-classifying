{
 "cells": [
  {
   "cell_type": "code",
   "execution_count": null,
   "metadata": {},
   "outputs": [],
   "source": [
    "import os\n",
    "import sys\n",
    "import numpy as np\n",
    "import pandas as pd\n",
    "import matplotlib.pyplot as plt\n",
    "import seaborn as sns\n",
    "import joblib\n",
    "from tqdm import tqdm\n",
    "plt.style.use('default')\n",
    "\n",
    "sys.path.append(os.path.join(\"..\"))\n",
    "\n",
    "from utils.data_utils import mod_df, drop_features, inverse_mod_X, inverse_mod_y, convert_to_numpy, apply_standard_scale, apply_std, apply_mean\n",
    "from my_model import create_model_1, create_model_1_1, create_model_1_2, create_model_2, create_model_2_1\n",
    "# tf.__version__"
   ]
  },
  {
   "cell_type": "code",
   "execution_count": null,
   "metadata": {},
   "outputs": [],
   "source": [
    "train_df = pd.read_csv(os.path.join('..', 'data', 'unionTrain.csv'))\n",
    "test_df = pd.read_csv(os.path.join('..', 'data', 'unionTest.csv'))"
   ]
  },
  {
   "cell_type": "code",
   "execution_count": null,
   "metadata": {},
   "outputs": [],
   "source": [
    "X_train, y_train = mod_df(train_df)\n",
    "X_test, y_test = mod_df(test_df)"
   ]
  },
  {
   "cell_type": "code",
   "execution_count": null,
   "metadata": {},
   "outputs": [],
   "source": [
    "def feature_engineering(df):\n",
    "    result = df.copy()\n",
    "    \n",
    "    # select & drop features\n",
    "    result = result.drop(['id', 'timestep'], axis=1)\n",
    "    # result = drop_features(result,[0,1,2,5,15,16,17,18,21,20,23,24])\n",
    "    # result = drop_features(result, [15, 16, 17, 18, 20, 21, 23, 24])\n",
    "    # result = result[['0X', '1Y', '4Y', '5Y', '7X', '8Y', '12Y', '13Y', '14Y', '17Y', '20X', '24X', '24Y']] # ts = 0.09\n",
    "    # result = result[['1Y','2Y','4Y','5Y','6Y','7X','8Y','11Y','12Y','13Y','14Y','20X','22Y','23X','24X','24Y']] # ts = 0.07 bug\n",
    "    # result = result[['1Y', '2Y', '4X', '4Y', '5Y', '6Y', '7X', '8Y', '10X', '11Y', '12Y', '13Y', '14X', '14Y', '20X', '21Y', '22Y', '23X', '24X', '24Y']] # ts = 0.04 bug\n",
    "    # result = result[['1Y', '2Y', '3Y', '4X', '4Y', '5Y', '6Y', '7X', '7Y', '8Y', '10X', '11Y', '12X', '12Y', '13Y', '14X', '14Y', '16Y', '20X', '21Y', '22X', '22Y', '23X', '23Y', '24X', '24Y']] # ts = 0.001 bug\n",
    "    DEFAULT_FEATURE = result.columns.to_list()\n",
    "    \n",
    "    # fill outlier\n",
    "    # for col in tqdm(DEFAULT_FEATURE):\n",
    "    #     feature = result[col].to_numpy()\n",
    "    #     result[col] = fill_with_mean(feature)\n",
    "    \n",
    "    # add features\n",
    "    # result['test_0X'] = result['0X']\n",
    "    FEATURE_COLUMNS = result.columns.to_list()\n",
    "    for col in tqdm(FEATURE_COLUMNS):\n",
    "        feature = result[col]\n",
    "        feature = feature.to_numpy()\n",
    "\n",
    "        # result[f'{col}_max'] = apply_max_value(feature)\n",
    "        # result[f'{col}_min'] = apply_min_value(feature)\n",
    "        # result[f'{col}_mean'] = apply_mean(feature)\n",
    "        # result[f'{col}_std'] = apply_std(feature)\n",
    "        # result[f'{col}_is_zero'] = apply_is_zero(feature)\n",
    "        # result[f'{col}_min_max_scale'] = apply_min_max_scale(feature)\n",
    "        # result[f'{col}_standard_scale'] = apply_standard_scale(feature)\n",
    "        # result[f'{col}_fill_with_mean'] = fill_with_mean(feature)\n",
    "\n",
    "    # modify features\n",
    "    FEATURE_COLUMNS = result.columns.to_list()\n",
    "    for col in tqdm(FEATURE_COLUMNS):\n",
    "        feature = result[col]\n",
    "        feature = feature.to_numpy()\n",
    "        # result[col] = fill_with_mean(feature)\n",
    "        result[col] = apply_standard_scale(feature)\n",
    "        \n",
    "    return result\n",
    "\n",
    "X_train_1 = feature_engineering(X_train)\n",
    "X_test_1 = feature_engineering(X_test)\n",
    "y_train_1 = np.argmax(y_train.to_numpy(), axis=1)+1\n",
    "y_test_1 = np.argmax(y_test.to_numpy(), axis=1)+1"
   ]
  },
  {
   "cell_type": "code",
   "execution_count": null,
   "metadata": {},
   "outputs": [],
   "source": [
    "def clip_with_each_sample_sd(np_array, sd_mul=2):\n",
    "    preprocessed_array = convert_to_numpy(np_array)\n",
    "    mean = apply_mean(preprocessed_array)\n",
    "    std = apply_std(preprocessed_array)\n",
    "    mn_range, mx_range = mean-sd_mul*std, mean+sd_mul*std\n",
    "    preprocessed_array = np.clip(preprocessed_array, mn_range, mx_range)\n",
    "    return preprocessed_array\n",
    "\n",
    "def clip_with_all_sample_sd(np_array, sd_mul=2):\n",
    "    preprocessed_array = convert_to_numpy(np_array)\n",
    "    std = np.std(preprocessed_array)\n",
    "    mean = np.mean(preprocessed_array)\n",
    "    mn_range, mx_range = mean-sd_mul*std, mean+sd_mul*std\n",
    "    preprocessed_array = np.clip(preprocessed_array, mn_range, mx_range)\n",
    "    return preprocessed_array"
   ]
  },
  {
   "cell_type": "code",
   "execution_count": null,
   "metadata": {},
   "outputs": [],
   "source": [
    "def plot_feature_hist(pd_series, bins=100, feature_name=None, range=None, show_avxline=False):\n",
    "    plt.hist(pd_series, bins=bins, range=range)\n",
    "    if show_avxline:\n",
    "        plt.axvline(pd_series.mean(), color='red')\n",
    "        plt.axvline(pd_series.mean()-pd_series.std(), color='blue')\n",
    "        plt.axvline(pd_series.mean()+pd_series.std(), color='blue')\n",
    "        plt.axvline(pd_series.mean()-2*pd_series.std(), color='green')\n",
    "        plt.axvline(pd_series.mean()+2*pd_series.std(), color='green')\n",
    "    plt.title(feature_name)\n",
    "    plt.grid()\n",
    "    # plt.show()"
   ]
  },
  {
   "cell_type": "code",
   "execution_count": null,
   "metadata": {},
   "outputs": [],
   "source": [
    "feature = X_train_1['0X']\n",
    "plot_feature_hist(feature, range=(-8, 8), show_avxline=True)\n",
    "plt.plot()\n",
    "plot_feature_hist(clip_with_all_sample_sd(feature, sd_mul=1), range=(-8, 8))"
   ]
  },
  {
   "cell_type": "code",
   "execution_count": null,
   "metadata": {},
   "outputs": [],
   "source": [
    "feature = X_train_1['0X']\n",
    "for i in range(5):\n",
    "    plt.figure(i)\n",
    "    sample_feature = feature[i*854:(i+1)*854].to_numpy()\n",
    "    plot_feature_hist(sample_feature, range=(-8, 8), show_avxline=True)\n",
    "    plot_feature_hist(clip_with_each_sample_sd(sample_feature, sd_mul=0.5), range=(-8, 8))\n",
    "    plt.plot()"
   ]
  }
 ],
 "metadata": {
  "kernelspec": {
   "display_name": "Python 3.9.13 ('tf2-gpu')",
   "language": "python",
   "name": "python3"
  },
  "language_info": {
   "codemirror_mode": {
    "name": "ipython",
    "version": 3
   },
   "file_extension": ".py",
   "mimetype": "text/x-python",
   "name": "python",
   "nbconvert_exporter": "python",
   "pygments_lexer": "ipython3",
   "version": "3.9.13"
  },
  "vscode": {
   "interpreter": {
    "hash": "586ea256996c4d1afba0a24bd3ac38219670b30d200ba45ddfed159cb38a21bb"
   }
  }
 },
 "nbformat": 4,
 "nbformat_minor": 2
}
