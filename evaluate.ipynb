{
 "cells": [
  {
   "cell_type": "code",
   "execution_count": 2,
   "metadata": {},
   "outputs": [
    {
     "data": {
      "text/plain": [
       "'2.6.0'"
      ]
     },
     "execution_count": 2,
     "metadata": {},
     "output_type": "execute_result"
    }
   ],
   "source": [
    "import os\n",
    "import numpy as np\n",
    "import pandas as pd\n",
    "import matplotlib.pyplot as plt\n",
    "import seaborn as sns\n",
    "import joblib\n",
    "\n",
    "import tensorflow as tf\n",
    "from tensorflow.keras.models import Sequential, load_model\n",
    "# from tensorflow.keras.layers import Dense, LSTM, Bidirectional, Dropout, InputLayer\n",
    "# from tensorflow.keras.optimizers import Adam\n",
    "# from tensorflow.keras.losses import BinaryCrossentropy, CategoricalCrossentropy\n",
    "# from tensorflow.keras.callbacks import ReduceLROnPlateau, EarlyStopping\n",
    "\n",
    "from sklearn.preprocessing import MinMaxScaler, RobustScaler, StandardScaler, normalize\n",
    "from sklearn.metrics import f1_score, accuracy_score, precision_score, recall_score, confusion_matrix, classification_report\n",
    "tf.__version__"
   ]
  },
  {
   "cell_type": "code",
   "execution_count": 3,
   "metadata": {},
   "outputs": [],
   "source": [
    "train_df = pd.read_csv(os.path.join('data', 'unionTrain.csv'))\n",
    "test_df = pd.read_csv(os.path.join('data', 'unionTest.csv'))"
   ]
  },
  {
   "cell_type": "code",
   "execution_count": 4,
   "metadata": {},
   "outputs": [],
   "source": [
    "X_train, y_train = train_df.drop(['Severity', 'sequence_id'], axis=1), train_df['Severity']\n",
    "X_test, y_test = test_df.drop(['Severity', 'sequence_id'], axis=1), test_df['Severity']"
   ]
  },
  {
   "cell_type": "code",
   "execution_count": 5,
   "metadata": {},
   "outputs": [],
   "source": [
    "# scaler_name = 'RobustScaler.pkl'\n",
    "scaler_name = 'MinMaxScaler.pkl'\n",
    "scaler = joblib.load(os.path.join('saved_scaler', scaler_name))"
   ]
  },
  {
   "cell_type": "code",
   "execution_count": 6,
   "metadata": {},
   "outputs": [
    {
     "name": "stdout",
     "output_type": "stream",
     "text": [
      "Model: \"sequential\"\n",
      "_________________________________________________________________\n",
      "Layer (type)                 Output Shape              Param #   \n",
      "=================================================================\n",
      "bidirectional (Bidirectional (None, 854, 64)           21248     \n",
      "_________________________________________________________________\n",
      "bidirectional_1 (Bidirection (None, 854, 32)           10368     \n",
      "_________________________________________________________________\n",
      "bidirectional_2 (Bidirection (None, 32)                6272      \n",
      "_________________________________________________________________\n",
      "dense (Dense)                (None, 25)                825       \n",
      "_________________________________________________________________\n",
      "dense_1 (Dense)              (None, 2)                 52        \n",
      "=================================================================\n",
      "Total params: 38,765\n",
      "Trainable params: 38,765\n",
      "Non-trainable params: 0\n",
      "_________________________________________________________________\n"
     ]
    }
   ],
   "source": [
    "model_name = 'trained_at_2022-10-19_13-58-43_using_MinMaxScaler.h5'\n",
    "model = load_model(os.path.join('saved_models', model_name))\n",
    "model.summary()"
   ]
  },
  {
   "cell_type": "code",
   "execution_count": 7,
   "metadata": {},
   "outputs": [],
   "source": [
    "X_test_scaled = scaler.transform(X_test)\n",
    "X_train_scaled = scaler.transform(X_train)\n",
    "def modify_X(x):\n",
    "    result = x.copy()\n",
    "    result = result.reshape(-1, 21350//25, 50)\n",
    "    return result\n",
    "def modify_y(df):\n",
    "    result = pd.get_dummies(df)\n",
    "    result = result.to_numpy()\n",
    "    return result\n",
    "\n",
    "X_train_modified = modify_X(X_train_scaled)\n",
    "y_train_modified = modify_y(y_train)\n",
    "X_test_modified = modify_X(X_test_scaled)\n",
    "y_test_modified = modify_y(y_test)"
   ]
  },
  {
   "cell_type": "code",
   "execution_count": 8,
   "metadata": {},
   "outputs": [
    {
     "data": {
      "text/plain": [
       "(19, 19)"
      ]
     },
     "execution_count": 8,
     "metadata": {},
     "output_type": "execute_result"
    }
   ],
   "source": [
    "len(X_test_modified), len(y_test_modified)"
   ]
  },
  {
   "cell_type": "code",
   "execution_count": 9,
   "metadata": {},
   "outputs": [],
   "source": [
    "train_predict = model.predict(X_train_modified)\n",
    "train_real_predict = np.argmax(train_predict, axis=1)+1\n",
    "# for i in range(len(y_train)):\n",
    "#     print(f\"Index:{i}, Predict:{train_real_predict[i]}, Real:{y_train[i]}\")"
   ]
  },
  {
   "cell_type": "code",
   "execution_count": 10,
   "metadata": {},
   "outputs": [
    {
     "name": "stdout",
     "output_type": "stream",
     "text": [
      "f1: 0.8347826086956521\n",
      "accuracy: 0.822429906542056\n",
      "              precision    recall  f1-score   support\n",
      "\n",
      "           1       0.75      0.94      0.83        51\n",
      "           2       0.93      0.71      0.81        56\n",
      "\n",
      "    accuracy                           0.82       107\n",
      "   macro avg       0.84      0.83      0.82       107\n",
      "weighted avg       0.84      0.82      0.82       107\n",
      "\n",
      "----------------------------------------------\n",
      "\n"
     ]
    },
    {
     "data": {
      "image/png": "[encoded data removed]",
      "text/plain": [
       "<Figure size 432x288 with 2 Axes>"
      ]
     },
     "metadata": {},
     "output_type": "display_data"
    }
   ],
   "source": [
    "f1_train = f1_score(y_train, train_real_predict)\n",
    "accuracy_train = accuracy_score(y_train, train_real_predict)\n",
    "print(f\"f1: {f1_train}\\naccuracy: {accuracy_train}\")\n",
    "print(classification_report(y_train, train_real_predict))\n",
    "print(\"----------------------------------------------\")\n",
    "sns.heatmap(confusion_matrix(y_train, train_real_predict),annot = True,fmt = '2.0f')\n",
    "print()"
   ]
  },
  {
   "cell_type": "code",
   "execution_count": 11,
   "metadata": {},
   "outputs": [],
   "source": [
    "test_predict = model.predict(X_test_modified)\n",
    "test_real_predict = np.argmax(test_predict, axis=1)+1\n",
    "# for i in range(len(y_test)):\n",
    "#     print(f\"Index:{i}, Predict:{test_real_predict[i]}, Real:{y_test[i]}\")"
   ]
  },
  {
   "cell_type": "code",
   "execution_count": 12,
   "metadata": {},
   "outputs": [
    {
     "name": "stdout",
     "output_type": "stream",
     "text": [
      "f1: 0.25\n",
      "accuracy: 0.6842105263157895\n",
      "              precision    recall  f1-score   support\n",
      "\n",
      "           1       0.33      0.20      0.25         5\n",
      "           2       0.75      0.86      0.80        14\n",
      "\n",
      "    accuracy                           0.68        19\n",
      "   macro avg       0.54      0.53      0.52        19\n",
      "weighted avg       0.64      0.68      0.66        19\n",
      "\n",
      "----------------------------------------------\n",
      "\n"
     ]
    },
    {
     "data": {
      "image/png": "[encoded data removed]",
      "text/plain": [
       "<Figure size 432x288 with 2 Axes>"
      ]
     },
     "metadata": {},
     "output_type": "display_data"
    }
   ],
   "source": [
    "f1_test = f1_score(y_test, test_real_predict)\n",
    "accuracy_test = accuracy_score(y_test, test_real_predict)\n",
    "print(f\"f1: {f1_test}\\naccuracy: {accuracy_test}\")\n",
    "print(classification_report(y_test, test_real_predict))\n",
    "print(\"----------------------------------------------\")\n",
    "sns.heatmap(confusion_matrix(y_test, test_real_predict),annot = True,fmt = '2.0f')\n",
    "print()"
   ]
  }
 ],
 "metadata": {
  "kernelspec": {
   "display_name": "Python 3.9.12 ('tf2-gpu')",
   "language": "python",
   "name": "python3"
  },
  "language_info": {
   "codemirror_mode": {
    "name": "ipython",
    "version": 3
   },
   "file_extension": ".py",
   "mimetype": "text/x-python",
   "name": "python",
   "nbconvert_exporter": "python",
   "pygments_lexer": "ipython3",
   "version": "3.9.12"
  },
  "orig_nbformat": 4,
  "vscode": {
   "interpreter": {
    "hash": "586ea256996c4d1afba0a24bd3ac38219670b30d200ba45ddfed159cb38a21bb"
   }
  }
 },
 "nbformat": 4,
 "nbformat_minor": 2
}
