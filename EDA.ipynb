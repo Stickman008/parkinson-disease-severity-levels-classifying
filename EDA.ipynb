{
 "cells": [
  {
   "cell_type": "code",
   "execution_count": null,
   "metadata": {},
   "outputs": [],
   "source": [
    "import os\n",
    "import numpy as np\n",
    "import pandas as pd\n",
    "import matplotlib.pyplot as plt\n",
    "import seaborn as sns\n",
    "import joblib\n",
    "\n",
    "from utils import mod_df, inverse_mod_X, inverse_mod_y\n",
    "from sklearn.preprocessing import MinMaxScaler, RobustScaler, StandardScaler, normalize\n",
    "# from sklearn.metrics import f1_score, accuracy_score, precision_score, recall_score, confusion_matrix, classification_report"
   ]
  },
  {
   "cell_type": "code",
   "execution_count": null,
   "metadata": {},
   "outputs": [],
   "source": [
    "train_df = pd.read_csv(os.path.join('data', 'unionTrain.csv'))\n",
    "test_df = pd.read_csv(os.path.join('data', 'unionTest.csv'))\n",
    "print(f\"Length Train: {len(train_df)}\")\n",
    "print(f\"Length Test: {len(test_df)}\")"
   ]
  },
  {
   "cell_type": "code",
   "execution_count": null,
   "metadata": {},
   "outputs": [],
   "source": [
    "print(len(train_df))\n",
    "train_df.head()"
   ]
  },
  {
   "cell_type": "code",
   "execution_count": null,
   "metadata": {},
   "outputs": [],
   "source": [
    "train_df['sequence_id'].head(10).to_list()"
   ]
  },
  {
   "cell_type": "code",
   "execution_count": null,
   "metadata": {},
   "outputs": [],
   "source": [
    "X_train, y_train = train_df.drop(['Severity', 'sequence_id'], axis=1), train_df['Severity']\n",
    "X_test, y_test = test_df.drop(['Severity', 'sequence_id'], axis=1), test_df['Severity']"
   ]
  },
  {
   "cell_type": "code",
   "execution_count": null,
   "metadata": {},
   "outputs": [],
   "source": [
    "def modify_X(x):\n",
    "    if type(x).__module__ != np.__name__:\n",
    "        result = x.to_numpy()\n",
    "    else:\n",
    "        result = x.copy()\n",
    "    result = result.reshape(-1, 854, 2*25)\n",
    "    return result\n",
    "X_train_modified = modify_X(X_train)\n",
    "X_train_modified.shape"
   ]
  },
  {
   "cell_type": "code",
   "execution_count": null,
   "metadata": {},
   "outputs": [],
   "source": [
    "def plot_sample_1():\n",
    "    for i in range(1,5):\n",
    "        print(f\"Index: {i}, Severity: {y_train[i]}\")\n",
    "        for j in range(25):\n",
    "            sample = X_train_modified[i,j,:]\n",
    "            plt.plot(sample)\n",
    "            plt.show()\n",
    "\n",
    "def plot_sample_2():\n",
    "    for i in range(7):\n",
    "        print(f\"Index: {i}, Severity: {y_train[i]}\")\n",
    "        for j in range(0, 2, 2):\n",
    "            sample_xx = X_train_modified[i,:,j]\n",
    "            sample_yy = X_train_modified[i,:,j+1]\n",
    "            plt.plot(sample_xx)\n",
    "            plt.plot(sample_yy)\n",
    "            plt.show()\n",
    "            \n",
    "def plot_sample_3():\n",
    "    for i in range(1):\n",
    "        print(f\"Index: {i}, Severity: {y_train[i]}\")\n",
    "        for j in range(0, 2, 2):\n",
    "            LENGTH = 20\n",
    "            sample_xx = X_train_modified[i,:,j][:LENGTH]\n",
    "            sample_yy = X_train_modified[i,:,j+1][:LENGTH]\n",
    "            # print(sample_xx.shape)\n",
    "            fig = plt.figure()\n",
    "            ax = plt.axes(projection='3d')\n",
    "            zline = np.arange(0, min(sample_xx.shape[0], LENGTH), 1)\n",
    "            xline = np.sin(sample_xx)\n",
    "            yline = np.cos(sample_yy)\n",
    "            ax.plot3D(xline, yline, zline, 'green')\n",
    "\n",
    "        \n",
    "# plot_sample_1()\n",
    "plot_sample_2()\n",
    "# plot_sample_3()"
   ]
  },
  {
   "cell_type": "code",
   "execution_count": null,
   "metadata": {},
   "outputs": [],
   "source": [
    "# for i in range(5):\n",
    "#     print(f\"Index: {i}, Severity: {y_train[i]}\")\n",
    "#     plt.plot(X_train_modded[['18X', '17X']][i*854:i*854+854])\n",
    "#     plt.show()"
   ]
  }
 ],
 "metadata": {
  "kernelspec": {
   "display_name": "Python 3.9.12 ('tf2-gpu')",
   "language": "python",
   "name": "python3"
  },
  "language_info": {
   "codemirror_mode": {
    "name": "ipython",
    "version": 3
   },
   "file_extension": ".py",
   "mimetype": "text/x-python",
   "name": "python",
   "nbconvert_exporter": "python",
   "pygments_lexer": "ipython3",
   "version": "3.9.13"
  },
  "orig_nbformat": 4,
  "vscode": {
   "interpreter": {
    "hash": "a52a0f3d7699f80e9b9bf0fcc65af90b93cb0293c63dd5d9a000502c20aee271"
   }
  }
 },
 "nbformat": 4,
 "nbformat_minor": 2
}
