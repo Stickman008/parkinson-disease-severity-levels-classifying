{
 "cells": [
  {
   "cell_type": "code",
   "execution_count": null,
   "metadata": {},
   "outputs": [],
   "source": [
    "import os\n",
    "import sys\n",
    "sys.path.append('../')\n",
    "\n",
    "import numpy as np\n",
    "import pandas as pd\n",
    "import matplotlib.pyplot as plt\n",
    "import seaborn as sns\n",
    "import joblib\n",
    "\n",
    "from sklearn.preprocessing import MinMaxScaler, RobustScaler, StandardScaler, normalize\n",
    "\n",
    "from utils.data_utils import mod_df, drop_features, inverse_mod_X, inverse_mod_y, fill_with_mean\n",
    "# from sklearn.metrics import f1_score, accuracy_score, precision_score, recall_score, confusion_matrix, classification_report"
   ]
  },
  {
   "cell_type": "code",
   "execution_count": null,
   "metadata": {},
   "outputs": [],
   "source": [
    "train_df = pd.read_csv(os.path.join('data', 'unionTrain.csv'))\n",
    "test_df = pd.read_csv(os.path.join('data', 'unionTest.csv'))\n",
    "print(f\"Length Train: {len(train_df)}\")\n",
    "print(f\"Length Test: {len(test_df)}\")"
   ]
  },
  {
   "cell_type": "code",
   "execution_count": null,
   "metadata": {},
   "outputs": [],
   "source": [
    "# print(len(train_df))\n",
    "# train_df.head()"
   ]
  },
  {
   "cell_type": "code",
   "execution_count": null,
   "metadata": {},
   "outputs": [],
   "source": [
    "# X_train_x = X_train.copy()\n",
    "# X_train_x[X_train_x<=0] = pd.NA\n",
    "# X_train_x.info()"
   ]
  },
  {
   "cell_type": "code",
   "execution_count": null,
   "metadata": {},
   "outputs": [],
   "source": [
    "X_train, y_train = mod_df(train_df)\n",
    "X_test, y_test = mod_df(test_df)"
   ]
  },
  {
   "cell_type": "code",
   "execution_count": null,
   "metadata": {},
   "outputs": [],
   "source": [
    "def plot_nas(df: pd.DataFrame, ts=20):\n",
    "    if df.isnull().sum().sum() != 0:\n",
    "        na_df = (df.isnull().sum() / len(df)) * 100      \n",
    "        na_df = na_df.drop(na_df[na_df == 0].index).sort_values(ascending=False)\n",
    "        missing_data = pd.DataFrame({'Missing Ratio %' :na_df})\n",
    "        # print(missing_data['Missing Ratio %'].to_numpy())\n",
    "        print(f\"Number of feature that lower than ts: {np.sum(missing_data['Missing Ratio %'].to_numpy()<=ts)}\")\n",
    "        missing_data.plot(kind = \"barh\")\n",
    "        plt.axvline(ts, color=\"r\")\n",
    "        plt.figure(figsize=(8, 20))\n",
    "        plt.show()\n",
    "    else:\n",
    "        print('No NAs found')"
   ]
  },
  {
   "cell_type": "code",
   "execution_count": null,
   "metadata": {},
   "outputs": [],
   "source": [
    "def drop_id_timestep(df):\n",
    "    result = df.copy()\n",
    "    result = result.drop(['id', 'timestep'], axis=1)\n",
    "    DEFAULT_FEATURE = result.columns.to_list()\n",
    "    return result\n",
    "X_train_1 = drop_id_timestep(X_train)\n",
    "X_test_1 = drop_id_timestep(X_test)\n",
    "y_train_1 = np.argmax(y_train.to_numpy(), axis=1)+1\n",
    "y_test_1 = np.argmax(y_test.to_numpy(), axis=1)+1"
   ]
  },
  {
   "cell_type": "code",
   "execution_count": null,
   "metadata": {},
   "outputs": [],
   "source": [
    "# plot ratio of missing value\n",
    "X_train_x = X_train_1.copy()\n",
    "X_train_x[X_train_x<=0] = pd.NA\n",
    "plot_nas(X_train_x, ts=35)"
   ]
  },
  {
   "cell_type": "code",
   "execution_count": null,
   "metadata": {},
   "outputs": [],
   "source": [
    "X_train_1['0X'].to_numpy().shape\n",
    "DEFAULT_FEATURE = X_train_1.columns.to_list()\n",
    "# y_train_1.shape"
   ]
  },
  {
   "cell_type": "code",
   "execution_count": null,
   "metadata": {},
   "outputs": [],
   "source": [
    "def plot_feature_hist(pd_series, bins=100, feature_name=None):\n",
    "    plt.hist(pd_series, bins=bins)\n",
    "    plt.axvline(pd_series.mean(), color='red')\n",
    "    plt.title(feature_name)\n",
    "    plt.grid()\n",
    "    plt.show()"
   ]
  },
  {
   "cell_type": "code",
   "execution_count": null,
   "metadata": {},
   "outputs": [],
   "source": [
    "feature = '0Y'\n",
    "X_train_1_feature = X_train_1[feature]\n",
    "X_train_1_feature_mod = X_train_1_feature[X_train_1_feature>0]\n",
    "print(np.sum(X_train_1[feature]<=0), np.sum(X_train_1[feature]>0), len(X_train_1))\n",
    "print(np.sum(X_train_1[feature]<=0)/854, np.sum(X_train_1[feature]>0)/854, len(X_train_1)/854)\n",
    "plot_feature_hist(X_train_1_feature_mod, bins=100, feature_name=feature)"
   ]
  },
  {
   "cell_type": "code",
   "execution_count": null,
   "metadata": {},
   "outputs": [],
   "source": [
    "good_feature = []\n",
    "p = 0.65\n",
    "for feature in DEFAULT_FEATURE:\n",
    "    # print(feature, np.sum(X_train_1[feature]<=0)>np.sum(X_train_1[feature]>0))\n",
    "    if np.sum(X_train_1[feature]>0)/len(X_train_1[feature])>p:\n",
    "        good_feature.append(feature)\n",
    "    # print(np.sum(X_train_1[feature]<=0), np.sum(X_train_1[feature]>0), len(X_train_1))\n",
    "print(len(good_feature), good_feature)"
   ]
  },
  {
   "cell_type": "code",
   "execution_count": null,
   "metadata": {},
   "outputs": [],
   "source": [
    "def find_corr(ts=0.02):\n",
    "    tmp = []\n",
    "    for col in X_train_1.columns.to_list():\n",
    "        corr = X_train_1[col].corr(pd.Series(y_train_1))\n",
    "        # print(f\"{col}\\t{corr:f}\\t{abs(corr):f}\")\n",
    "        if abs(corr) >= ts:\n",
    "            tmp.append(col)\n",
    "    # print(len(tmp), tmp)\n",
    "    return tmp\n",
    "# for i in np.arange(0.0, 0.22, 0.005):\n",
    "#     print(f\"ts:{i:.3f}\\n{find_corr(i)}\\nlength:{len(find_corr(i))}\")\n",
    "#     print(\"---------------------------------------------\")"
   ]
  },
  {
   "cell_type": "code",
   "execution_count": null,
   "metadata": {},
   "outputs": [],
   "source": [
    "tmp = []\n",
    "ts = 0.001\n",
    "for col in X_train_1.columns.to_list()[1::2]:\n",
    "    tmp2 = []\n",
    "    for col2 in X_train_1.columns.to_list()[1::2]:\n",
    "        corr = X_train_1[col].corr( X_train_1[col2])\n",
    "        tmp2.append(corr)\n",
    "        # print(f\"{col}\\t{corr:f}\\t{abs(corr):f}\")\n",
    "        # if corr >= ts:\n",
    "            # tmp.append(col)\n",
    "    tmp.append(tmp2)\n",
    "print(len(tmp))\n",
    "tmp = np.array(tmp)"
   ]
  },
  {
   "cell_type": "code",
   "execution_count": null,
   "metadata": {},
   "outputs": [],
   "source": [
    "ts = 0.96\n",
    "sns.heatmap(np.abs(tmp)>ts)\n",
    "# print(list(tmp[0, :]))\n",
    "for i in range(len(tmp)):\n",
    "    print(i, list(np.where(tmp[i, :]>ts)))"
   ]
  },
  {
   "cell_type": "code",
   "execution_count": null,
   "metadata": {},
   "outputs": [],
   "source": []
  }
 ],
 "metadata": {
  "kernelspec": {
   "display_name": "Python 3.10.8 ('py3_10')",
   "language": "python",
   "name": "python3"
  },
  "language_info": {
   "codemirror_mode": {
    "name": "ipython",
    "version": 3
   },
   "file_extension": ".py",
   "mimetype": "text/x-python",
   "name": "python",
   "nbconvert_exporter": "python",
   "pygments_lexer": "ipython3",
   "version": "3.10.8"
  },
  "vscode": {
   "interpreter": {
    "hash": "dae23cc1304adc3b3cd65b9387d8b9dd19248d8974b41ba28d07249eeed262aa"
   }
  }
 },
 "nbformat": 4,
 "nbformat_minor": 2
}
