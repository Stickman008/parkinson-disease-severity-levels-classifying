{
 "cells": [
  {
   "cell_type": "code",
   "execution_count": null,
   "metadata": {},
   "outputs": [],
   "source": [
    "import os\n",
    "import numpy as np\n",
    "import pandas as pd\n",
    "import matplotlib.pyplot as plt\n",
    "import seaborn as sns\n",
    "import joblib\n",
    "\n",
    "from utils import mod_df, inverse_mod_X, inverse_mod_y\n",
    "from sklearn.preprocessing import MinMaxScaler, RobustScaler, StandardScaler, normalize\n",
    "\n",
    "from utils import mod_df, drop_features, inverse_mod_X, inverse_mod_y\n",
    "# from sklearn.metrics import f1_score, accuracy_score, precision_score, recall_score, confusion_matrix, classification_report"
   ]
  },
  {
   "cell_type": "code",
   "execution_count": null,
   "metadata": {},
   "outputs": [],
   "source": [
    "train_df = pd.read_csv(os.path.join('data', 'unionTrain.csv'))\n",
    "test_df = pd.read_csv(os.path.join('data', 'unionTest.csv'))\n",
    "print(f\"Length Train: {len(train_df)}\")\n",
    "print(f\"Length Test: {len(test_df)}\")"
   ]
  },
  {
   "cell_type": "code",
   "execution_count": null,
   "metadata": {},
   "outputs": [],
   "source": [
    "print(len(train_df))\n",
    "train_df.head()"
   ]
  },
  {
   "cell_type": "code",
   "execution_count": null,
   "metadata": {},
   "outputs": [],
   "source": [
    "# train_df['sequence_id'].head(10).to_list()"
   ]
  },
  {
   "cell_type": "code",
   "execution_count": null,
   "metadata": {},
   "outputs": [],
   "source": [
    "X_train, y_train = mod_df(train_df)\n",
    "X_test, y_test = mod_df(test_df)"
   ]
  },
  {
   "cell_type": "code",
   "execution_count": null,
   "metadata": {},
   "outputs": [],
   "source": [
    "def drop_id_timestep(df):\n",
    "    result = df.copy()\n",
    "    result = result.drop(['id', 'timestep'], axis=1)\n",
    "    DEFAULT_FEATURE = result.columns.to_list()\n",
    "    return result\n",
    "X_train_1 = drop_id_timestep(X_train)\n",
    "X_test_1 = drop_id_timestep(X_test)\n",
    "y_train_1 = np.argmax(y_train.to_numpy(), axis=1)+1\n",
    "y_test_1 = np.argmax(y_test.to_numpy(), axis=1)+1"
   ]
  },
  {
   "cell_type": "code",
   "execution_count": null,
   "metadata": {},
   "outputs": [],
   "source": [
    "X_train_1['0X'].to_numpy().shape\n",
    "# y_train_1.shape"
   ]
  },
  {
   "cell_type": "code",
   "execution_count": null,
   "metadata": {},
   "outputs": [],
   "source": [
    "tmp = []\n",
    "ts = 0.001\n",
    "for col in X_train_1.columns.to_list():\n",
    "    corr = X_train_1[col].corr(pd.Series(y_train_1))\n",
    "    # print(f\"{col}\\t{corr:f}\\t{abs(corr):f}\")\n",
    "    if corr >= ts:\n",
    "        tmp.append(col)\n",
    "print(len(tmp), tmp)"
   ]
  },
  {
   "cell_type": "code",
   "execution_count": null,
   "metadata": {},
   "outputs": [],
   "source": []
  },
  {
   "cell_type": "code",
   "execution_count": null,
   "metadata": {},
   "outputs": [],
   "source": [
    "def plot_sample_1():\n",
    "    for i in range(1,5):\n",
    "        print(f\"Index: {i}, Severity: {y_train[i]}\")\n",
    "        for j in range(5):\n",
    "            sample = X_train_modified[i,j,:]\n",
    "            plt.plot(sample)\n",
    "            plt.show()\n",
    "\n",
    "def plot_sample_2():\n",
    "    for i in range(7):\n",
    "        print(f\"Index: {i}, Severity: {y_train[i]}\")\n",
    "        for j in range(0, 2, 2):\n",
    "            sample_xx = X_train_modified[i,:,j]\n",
    "            sample_yy = X_train_modified[i,:,j+1]\n",
    "            plt.plot(sample_xx)\n",
    "            plt.plot(sample_yy)\n",
    "            plt.show()\n",
    "            \n",
    "def plot_sample_3():\n",
    "    for i in range(1):\n",
    "        print(f\"Index: {i}, Severity: {y_train[i]}\")\n",
    "        for j in range(0, 2, 2):\n",
    "            LENGTH = 20\n",
    "            sample_xx = X_train_modified[i,:,j][:LENGTH]\n",
    "            sample_yy = X_train_modified[i,:,j+1][:LENGTH]\n",
    "            # print(sample_xx.shape)\n",
    "            fig = plt.figure()\n",
    "            ax = plt.axes(projection='3d')\n",
    "            zline = np.arange(0, min(sample_xx.shape[0], LENGTH), 1)\n",
    "            xline = np.sin(sample_xx)\n",
    "            yline = np.cos(sample_yy)\n",
    "            ax.plot3D(xline, yline, zline, 'green')\n",
    "\n",
    "        \n",
    "# plot_sample_1()\n",
    "# plot_sample_2()\n",
    "# plot_sample_3()"
   ]
  },
  {
   "cell_type": "code",
   "execution_count": null,
   "metadata": {},
   "outputs": [],
   "source": [
    "# for i in range(5):\n",
    "#     print(f\"Index: {i}, Severity: {y_train[i]}\")\n",
    "#     plt.plot(X_train_modded[['18X', '17X']][i*854:i*854+854])\n",
    "#     plt.show()"
   ]
  }
 ],
 "metadata": {
  "kernelspec": {
   "display_name": "Python 3.9.13 ('tf2-gpu')",
   "language": "python",
   "name": "python3"
  },
  "language_info": {
   "codemirror_mode": {
    "name": "ipython",
    "version": 3
   },
   "file_extension": ".py",
   "mimetype": "text/x-python",
   "name": "python",
   "nbconvert_exporter": "python",
   "pygments_lexer": "ipython3",
   "version": "3.9.13"
  },
  "vscode": {
   "interpreter": {
    "hash": "586ea256996c4d1afba0a24bd3ac38219670b30d200ba45ddfed159cb38a21bb"
   }
  }
 },
 "nbformat": 4,
 "nbformat_minor": 2
}
