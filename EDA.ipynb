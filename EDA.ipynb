{
 "cells": [
  {
   "cell_type": "code",
   "execution_count": 2,
   "metadata": {},
   "outputs": [],
   "source": [
    "import os\n",
    "import numpy as np\n",
    "import pandas as pd\n",
    "import matplotlib.pyplot as plt\n",
    "import seaborn as sns\n",
    "import joblib\n",
    "\n",
    "# import tensorflow as tf\n",
    "# from tensorflow.keras.models import Sequential\n",
    "# from tensorflow.keras.layers import Dense, LSTM, Bidirectional, Dropout, InputLayer\n",
    "# from tensorflow.keras.optimizers import Adam\n",
    "# from tensorflow.keras.losses import BinaryCrossentropy, CategoricalCrossentropy\n",
    "# from tensorflow.keras.callbacks import ReduceLROnPlateau, EarlyStopping\n",
    "\n",
    "from sklearn.preprocessing import MinMaxScaler, RobustScaler, StandardScaler, normalize\n",
    "# from sklearn.metrics import f1_score, accuracy_score, precision_score, recall_score, confusion_matrix, classification_report\n",
    "# tf.__version__"
   ]
  },
  {
   "cell_type": "code",
   "execution_count": 3,
   "metadata": {},
   "outputs": [
    {
     "name": "stdout",
     "output_type": "stream",
     "text": [
      "Length Train: 107\n",
      "Length Test: 19\n"
     ]
    }
   ],
   "source": [
    "train_df = pd.read_csv(os.path.join('data', 'unionTrain.csv'))\n",
    "test_df = pd.read_csv(os.path.join('data', 'unionTest.csv'))\n",
    "print(f\"Length Train: {len(train_df)}\")\n",
    "print(f\"Length Test: {len(test_df)}\")"
   ]
  },
  {
   "cell_type": "code",
   "execution_count": 4,
   "metadata": {},
   "outputs": [
    {
     "name": "stdout",
     "output_type": "stream",
     "text": [
      "107\n"
     ]
    },
    {
     "data": {
      "text/html": [
       "<div>\n",
       "<style scoped>\n",
       "    .dataframe tbody tr th:only-of-type {\n",
       "        vertical-align: middle;\n",
       "    }\n",
       "\n",
       "    .dataframe tbody tr th {\n",
       "        vertical-align: top;\n",
       "    }\n",
       "\n",
       "    .dataframe thead th {\n",
       "        text-align: right;\n",
       "    }\n",
       "</style>\n",
       "<table border=\"1\" class=\"dataframe\">\n",
       "  <thead>\n",
       "    <tr style=\"text-align: right;\">\n",
       "      <th></th>\n",
       "      <th>sequence_id</th>\n",
       "      <th>0_0X</th>\n",
       "      <th>0_0Y</th>\n",
       "      <th>0_1X</th>\n",
       "      <th>0_1Y</th>\n",
       "      <th>0_2X</th>\n",
       "      <th>0_2Y</th>\n",
       "      <th>0_3X</th>\n",
       "      <th>0_3Y</th>\n",
       "      <th>0_4X</th>\n",
       "      <th>...</th>\n",
       "      <th>853_20Y</th>\n",
       "      <th>853_21X</th>\n",
       "      <th>853_21Y</th>\n",
       "      <th>853_22X</th>\n",
       "      <th>853_22Y</th>\n",
       "      <th>853_23X</th>\n",
       "      <th>853_23Y</th>\n",
       "      <th>853_24X</th>\n",
       "      <th>853_24Y</th>\n",
       "      <th>Severity</th>\n",
       "    </tr>\n",
       "  </thead>\n",
       "  <tbody>\n",
       "    <tr>\n",
       "      <th>0</th>\n",
       "      <td>128.778580</td>\n",
       "      <td>203.818390</td>\n",
       "      <td>137.074432</td>\n",
       "      <td>213.271698</td>\n",
       "      <td>120.394463</td>\n",
       "      <td>218.456604</td>\n",
       "      <td>128.786789</td>\n",
       "      <td>214.281204</td>\n",
       "      <td>138.171570</td>\n",
       "      <td>209.073471</td>\n",
       "      <td>...</td>\n",
       "      <td>0.000000</td>\n",
       "      <td>0.000000</td>\n",
       "      <td>0.000000</td>\n",
       "      <td>0.000000</td>\n",
       "      <td>0.000000</td>\n",
       "      <td>0.000000</td>\n",
       "      <td>0.000000</td>\n",
       "      <td>0.000000</td>\n",
       "      <td>0.000000</td>\n",
       "      <td>1</td>\n",
       "    </tr>\n",
       "    <tr>\n",
       "      <th>1</th>\n",
       "      <td>0.000000</td>\n",
       "      <td>0.000000</td>\n",
       "      <td>0.000000</td>\n",
       "      <td>0.000000</td>\n",
       "      <td>0.000000</td>\n",
       "      <td>0.000000</td>\n",
       "      <td>0.000000</td>\n",
       "      <td>0.000000</td>\n",
       "      <td>0.000000</td>\n",
       "      <td>0.000000</td>\n",
       "      <td>...</td>\n",
       "      <td>0.000000</td>\n",
       "      <td>0.000000</td>\n",
       "      <td>0.000000</td>\n",
       "      <td>0.000000</td>\n",
       "      <td>0.000000</td>\n",
       "      <td>0.000000</td>\n",
       "      <td>0.000000</td>\n",
       "      <td>0.000000</td>\n",
       "      <td>0.000000</td>\n",
       "      <td>2</td>\n",
       "    </tr>\n",
       "    <tr>\n",
       "      <th>2</th>\n",
       "      <td>0.000000</td>\n",
       "      <td>0.000000</td>\n",
       "      <td>0.000000</td>\n",
       "      <td>2.578170</td>\n",
       "      <td>21.342966</td>\n",
       "      <td>29.684607</td>\n",
       "      <td>82.876892</td>\n",
       "      <td>53.714298</td>\n",
       "      <td>149.624344</td>\n",
       "      <td>0.000000</td>\n",
       "      <td>...</td>\n",
       "      <td>71.378502</td>\n",
       "      <td>236.188980</td>\n",
       "      <td>71.378502</td>\n",
       "      <td>236.188980</td>\n",
       "      <td>71.378502</td>\n",
       "      <td>236.188980</td>\n",
       "      <td>71.378502</td>\n",
       "      <td>236.188980</td>\n",
       "      <td>71.378502</td>\n",
       "      <td>2</td>\n",
       "    </tr>\n",
       "    <tr>\n",
       "      <th>3</th>\n",
       "      <td>0.000000</td>\n",
       "      <td>0.000000</td>\n",
       "      <td>0.000000</td>\n",
       "      <td>0.000000</td>\n",
       "      <td>0.000000</td>\n",
       "      <td>0.000000</td>\n",
       "      <td>0.000000</td>\n",
       "      <td>0.000000</td>\n",
       "      <td>0.000000</td>\n",
       "      <td>0.000000</td>\n",
       "      <td>...</td>\n",
       "      <td>125.631256</td>\n",
       "      <td>222.626373</td>\n",
       "      <td>125.631256</td>\n",
       "      <td>222.626373</td>\n",
       "      <td>125.631256</td>\n",
       "      <td>222.626373</td>\n",
       "      <td>125.631256</td>\n",
       "      <td>222.626373</td>\n",
       "      <td>125.631256</td>\n",
       "      <td>2</td>\n",
       "    </tr>\n",
       "    <tr>\n",
       "      <th>4</th>\n",
       "      <td>103.680695</td>\n",
       "      <td>126.701424</td>\n",
       "      <td>108.963158</td>\n",
       "      <td>120.373978</td>\n",
       "      <td>85.994064</td>\n",
       "      <td>122.495720</td>\n",
       "      <td>96.498444</td>\n",
       "      <td>129.821487</td>\n",
       "      <td>105.855408</td>\n",
       "      <td>114.185593</td>\n",
       "      <td>...</td>\n",
       "      <td>0.000000</td>\n",
       "      <td>0.000000</td>\n",
       "      <td>0.000000</td>\n",
       "      <td>0.000000</td>\n",
       "      <td>0.000000</td>\n",
       "      <td>0.000000</td>\n",
       "      <td>0.000000</td>\n",
       "      <td>0.000000</td>\n",
       "      <td>0.000000</td>\n",
       "      <td>1</td>\n",
       "    </tr>\n",
       "  </tbody>\n",
       "</table>\n",
       "<p>5 rows × 42702 columns</p>\n",
       "</div>"
      ],
      "text/plain": [
       "   sequence_id        0_0X        0_0Y        0_1X        0_1Y        0_2X  \\\n",
       "0   128.778580  203.818390  137.074432  213.271698  120.394463  218.456604   \n",
       "1     0.000000    0.000000    0.000000    0.000000    0.000000    0.000000   \n",
       "2     0.000000    0.000000    0.000000    2.578170   21.342966   29.684607   \n",
       "3     0.000000    0.000000    0.000000    0.000000    0.000000    0.000000   \n",
       "4   103.680695  126.701424  108.963158  120.373978   85.994064  122.495720   \n",
       "\n",
       "         0_2Y        0_3X        0_3Y        0_4X  ...     853_20Y  \\\n",
       "0  128.786789  214.281204  138.171570  209.073471  ...    0.000000   \n",
       "1    0.000000    0.000000    0.000000    0.000000  ...    0.000000   \n",
       "2   82.876892   53.714298  149.624344    0.000000  ...   71.378502   \n",
       "3    0.000000    0.000000    0.000000    0.000000  ...  125.631256   \n",
       "4   96.498444  129.821487  105.855408  114.185593  ...    0.000000   \n",
       "\n",
       "      853_21X     853_21Y     853_22X     853_22Y     853_23X     853_23Y  \\\n",
       "0    0.000000    0.000000    0.000000    0.000000    0.000000    0.000000   \n",
       "1    0.000000    0.000000    0.000000    0.000000    0.000000    0.000000   \n",
       "2  236.188980   71.378502  236.188980   71.378502  236.188980   71.378502   \n",
       "3  222.626373  125.631256  222.626373  125.631256  222.626373  125.631256   \n",
       "4    0.000000    0.000000    0.000000    0.000000    0.000000    0.000000   \n",
       "\n",
       "      853_24X     853_24Y  Severity  \n",
       "0    0.000000    0.000000         1  \n",
       "1    0.000000    0.000000         2  \n",
       "2  236.188980   71.378502         2  \n",
       "3  222.626373  125.631256         2  \n",
       "4    0.000000    0.000000         1  \n",
       "\n",
       "[5 rows x 42702 columns]"
      ]
     },
     "execution_count": 4,
     "metadata": {},
     "output_type": "execute_result"
    }
   ],
   "source": [
    "print(len(train_df))\n",
    "train_df.head()"
   ]
  },
  {
   "cell_type": "code",
   "execution_count": 12,
   "metadata": {},
   "outputs": [
    {
     "data": {
      "text/plain": [
       "[128.77857971191406,\n",
       " 0.0,\n",
       " 0.0,\n",
       " 0.0,\n",
       " 103.68069458007812,\n",
       " 0.0,\n",
       " 22.42952346801757,\n",
       " 0.0,\n",
       " 0.0,\n",
       " 0.0]"
      ]
     },
     "execution_count": 12,
     "metadata": {},
     "output_type": "execute_result"
    }
   ],
   "source": [
    "train_df['sequence_id'].head(10).to_list()"
   ]
  },
  {
   "cell_type": "code",
   "execution_count": 7,
   "metadata": {},
   "outputs": [],
   "source": [
    "X_train, y_train = train_df.drop(['Severity', 'sequence_id'], axis=1), train_df['Severity']\n",
    "X_test, y_test = test_df.drop(['Severity', 'sequence_id'], axis=1), test_df['Severity']"
   ]
  },
  {
   "cell_type": "code",
   "execution_count": 14,
   "metadata": {},
   "outputs": [
    {
     "data": {
      "text/plain": [
       "(107, 854, 50)"
      ]
     },
     "execution_count": 14,
     "metadata": {},
     "output_type": "execute_result"
    }
   ],
   "source": [
    "def modify_X(x):\n",
    "    if type(x).__module__ != np.__name__:\n",
    "        result = x.to_numpy()\n",
    "    else:\n",
    "        result = x.copy()\n",
    "    result = result.reshape(-1, 854, 2*25)\n",
    "    return result\n",
    "X_train_modified = modify_X(X_train)\n",
    "X_train_modified.shape"
   ]
  },
  {
   "cell_type": "code",
   "execution_count": 15,
   "metadata": {},
   "outputs": [
    {
     "name": "stdout",
     "output_type": "stream",
     "text": [
      "Index: 0, Severity: 1\n"
     ]
    },
    {
     "data": {
      "image/png": "[encoded data removed]",
      "text/plain": [
       "<Figure size 432x288 with 1 Axes>"
      ]
     },
     "metadata": {},
     "output_type": "display_data"
    }
   ],
   "source": [
    "def plot_sample_1():\n",
    "    for i in range(1,5):\n",
    "        print(f\"Index: {i}, Severity: {y_train[i]}\")\n",
    "        for j in range(25):\n",
    "            sample = X_train_modified[i,j,:]\n",
    "            plt.plot(sample)\n",
    "            plt.show()\n",
    "\n",
    "def plot_sample_2():\n",
    "    for i in range(7):\n",
    "        print(f\"Index: {i}, Severity: {y_train[i]}\")\n",
    "        for j in range(0, 2, 2):\n",
    "            sample_xx = X_train_modified[i,:,j]\n",
    "            sample_yy = X_train_modified[i,:,j+1]\n",
    "            plt.plot(sample_xx)\n",
    "            plt.plot(sample_yy)\n",
    "            plt.show()\n",
    "            \n",
    "def plot_sample_3():\n",
    "    for i in range(1):\n",
    "        print(f\"Index: {i}, Severity: {y_train[i]}\")\n",
    "        for j in range(0, 2, 2):\n",
    "            LENGTH = 20\n",
    "            sample_xx = X_train_modified[i,:,j][:LENGTH]\n",
    "            sample_yy = X_train_modified[i,:,j+1][:LENGTH]\n",
    "            # print(sample_xx.shape)\n",
    "            fig = plt.figure()\n",
    "            ax = plt.axes(projection='3d')\n",
    "            zline = np.arange(0, min(sample_xx.shape[0], LENGTH), 1)\n",
    "            xline = np.sin(sample_xx)\n",
    "            yline = np.cos(sample_yy)\n",
    "            ax.plot3D(xline, yline, zline, 'green')\n",
    "\n",
    "        \n",
    "# plot_sample_1()\n",
    "# plot_sample_2()\n",
    "plot_sample_3()"
   ]
  }
 ],
 "metadata": {
  "kernelspec": {
   "display_name": "Python 3.9.12 ('tf2-gpu')",
   "language": "python",
   "name": "python3"
  },
  "language_info": {
   "codemirror_mode": {
    "name": "ipython",
    "version": 3
   },
   "file_extension": ".py",
   "mimetype": "text/x-python",
   "name": "python",
   "nbconvert_exporter": "python",
   "pygments_lexer": "ipython3",
   "version": "3.9.12"
  },
  "orig_nbformat": 4,
  "vscode": {
   "interpreter": {
    "hash": "586ea256996c4d1afba0a24bd3ac38219670b30d200ba45ddfed159cb38a21bb"
   }
  }
 },
 "nbformat": 4,
 "nbformat_minor": 2
}
