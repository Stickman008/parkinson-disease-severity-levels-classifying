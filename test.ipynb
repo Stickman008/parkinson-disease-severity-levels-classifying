{
 "cells": [
  {
   "cell_type": "code",
   "execution_count": 1,
   "metadata": {},
   "outputs": [],
   "source": [
    "import os\n",
    "import numpy as np\n",
    "import pandas as pd"
   ]
  },
  {
   "cell_type": "code",
   "execution_count": 2,
   "metadata": {},
   "outputs": [
    {
     "data": {
      "text/html": [
       "<div>\n",
       "<style scoped>\n",
       "    .dataframe tbody tr th:only-of-type {\n",
       "        vertical-align: middle;\n",
       "    }\n",
       "\n",
       "    .dataframe tbody tr th {\n",
       "        vertical-align: top;\n",
       "    }\n",
       "\n",
       "    .dataframe thead th {\n",
       "        text-align: right;\n",
       "    }\n",
       "</style>\n",
       "<table border=\"1\" class=\"dataframe\">\n",
       "  <thead>\n",
       "    <tr style=\"text-align: right;\">\n",
       "      <th></th>\n",
       "      <th>sequence_id</th>\n",
       "      <th>0_0X</th>\n",
       "      <th>0_0Y</th>\n",
       "      <th>0_1X</th>\n",
       "      <th>0_1Y</th>\n",
       "      <th>0_2X</th>\n",
       "      <th>0_2Y</th>\n",
       "      <th>0_3X</th>\n",
       "      <th>0_3Y</th>\n",
       "      <th>0_4X</th>\n",
       "      <th>...</th>\n",
       "      <th>853_20Y</th>\n",
       "      <th>853_21X</th>\n",
       "      <th>853_21Y</th>\n",
       "      <th>853_22X</th>\n",
       "      <th>853_22Y</th>\n",
       "      <th>853_23X</th>\n",
       "      <th>853_23Y</th>\n",
       "      <th>853_24X</th>\n",
       "      <th>853_24Y</th>\n",
       "      <th>Severity</th>\n",
       "    </tr>\n",
       "  </thead>\n",
       "  <tbody>\n",
       "    <tr>\n",
       "      <th>0</th>\n",
       "      <td>128.778580</td>\n",
       "      <td>203.818390</td>\n",
       "      <td>137.074432</td>\n",
       "      <td>213.271698</td>\n",
       "      <td>120.394463</td>\n",
       "      <td>218.456604</td>\n",
       "      <td>128.786789</td>\n",
       "      <td>214.281204</td>\n",
       "      <td>138.171570</td>\n",
       "      <td>209.073471</td>\n",
       "      <td>...</td>\n",
       "      <td>0.000000</td>\n",
       "      <td>0.000000</td>\n",
       "      <td>0.000000</td>\n",
       "      <td>0.000000</td>\n",
       "      <td>0.000000</td>\n",
       "      <td>0.000000</td>\n",
       "      <td>0.000000</td>\n",
       "      <td>0.000000</td>\n",
       "      <td>0.000000</td>\n",
       "      <td>1</td>\n",
       "    </tr>\n",
       "    <tr>\n",
       "      <th>1</th>\n",
       "      <td>0.000000</td>\n",
       "      <td>0.000000</td>\n",
       "      <td>0.000000</td>\n",
       "      <td>0.000000</td>\n",
       "      <td>0.000000</td>\n",
       "      <td>0.000000</td>\n",
       "      <td>0.000000</td>\n",
       "      <td>0.000000</td>\n",
       "      <td>0.000000</td>\n",
       "      <td>0.000000</td>\n",
       "      <td>...</td>\n",
       "      <td>0.000000</td>\n",
       "      <td>0.000000</td>\n",
       "      <td>0.000000</td>\n",
       "      <td>0.000000</td>\n",
       "      <td>0.000000</td>\n",
       "      <td>0.000000</td>\n",
       "      <td>0.000000</td>\n",
       "      <td>0.000000</td>\n",
       "      <td>0.000000</td>\n",
       "      <td>2</td>\n",
       "    </tr>\n",
       "    <tr>\n",
       "      <th>2</th>\n",
       "      <td>0.000000</td>\n",
       "      <td>0.000000</td>\n",
       "      <td>0.000000</td>\n",
       "      <td>2.578170</td>\n",
       "      <td>21.342966</td>\n",
       "      <td>29.684607</td>\n",
       "      <td>82.876892</td>\n",
       "      <td>53.714298</td>\n",
       "      <td>149.624344</td>\n",
       "      <td>0.000000</td>\n",
       "      <td>...</td>\n",
       "      <td>71.378502</td>\n",
       "      <td>236.188980</td>\n",
       "      <td>71.378502</td>\n",
       "      <td>236.188980</td>\n",
       "      <td>71.378502</td>\n",
       "      <td>236.188980</td>\n",
       "      <td>71.378502</td>\n",
       "      <td>236.188980</td>\n",
       "      <td>71.378502</td>\n",
       "      <td>2</td>\n",
       "    </tr>\n",
       "    <tr>\n",
       "      <th>3</th>\n",
       "      <td>0.000000</td>\n",
       "      <td>0.000000</td>\n",
       "      <td>0.000000</td>\n",
       "      <td>0.000000</td>\n",
       "      <td>0.000000</td>\n",
       "      <td>0.000000</td>\n",
       "      <td>0.000000</td>\n",
       "      <td>0.000000</td>\n",
       "      <td>0.000000</td>\n",
       "      <td>0.000000</td>\n",
       "      <td>...</td>\n",
       "      <td>125.631256</td>\n",
       "      <td>222.626373</td>\n",
       "      <td>125.631256</td>\n",
       "      <td>222.626373</td>\n",
       "      <td>125.631256</td>\n",
       "      <td>222.626373</td>\n",
       "      <td>125.631256</td>\n",
       "      <td>222.626373</td>\n",
       "      <td>125.631256</td>\n",
       "      <td>2</td>\n",
       "    </tr>\n",
       "    <tr>\n",
       "      <th>4</th>\n",
       "      <td>103.680695</td>\n",
       "      <td>126.701424</td>\n",
       "      <td>108.963158</td>\n",
       "      <td>120.373978</td>\n",
       "      <td>85.994064</td>\n",
       "      <td>122.495720</td>\n",
       "      <td>96.498444</td>\n",
       "      <td>129.821487</td>\n",
       "      <td>105.855408</td>\n",
       "      <td>114.185593</td>\n",
       "      <td>...</td>\n",
       "      <td>0.000000</td>\n",
       "      <td>0.000000</td>\n",
       "      <td>0.000000</td>\n",
       "      <td>0.000000</td>\n",
       "      <td>0.000000</td>\n",
       "      <td>0.000000</td>\n",
       "      <td>0.000000</td>\n",
       "      <td>0.000000</td>\n",
       "      <td>0.000000</td>\n",
       "      <td>1</td>\n",
       "    </tr>\n",
       "  </tbody>\n",
       "</table>\n",
       "<p>5 rows × 42702 columns</p>\n",
       "</div>"
      ],
      "text/plain": [
       "   sequence_id        0_0X        0_0Y        0_1X        0_1Y        0_2X  \\\n",
       "0   128.778580  203.818390  137.074432  213.271698  120.394463  218.456604   \n",
       "1     0.000000    0.000000    0.000000    0.000000    0.000000    0.000000   \n",
       "2     0.000000    0.000000    0.000000    2.578170   21.342966   29.684607   \n",
       "3     0.000000    0.000000    0.000000    0.000000    0.000000    0.000000   \n",
       "4   103.680695  126.701424  108.963158  120.373978   85.994064  122.495720   \n",
       "\n",
       "         0_2Y        0_3X        0_3Y        0_4X  ...     853_20Y  \\\n",
       "0  128.786789  214.281204  138.171570  209.073471  ...    0.000000   \n",
       "1    0.000000    0.000000    0.000000    0.000000  ...    0.000000   \n",
       "2   82.876892   53.714298  149.624344    0.000000  ...   71.378502   \n",
       "3    0.000000    0.000000    0.000000    0.000000  ...  125.631256   \n",
       "4   96.498444  129.821487  105.855408  114.185593  ...    0.000000   \n",
       "\n",
       "      853_21X     853_21Y     853_22X     853_22Y     853_23X     853_23Y  \\\n",
       "0    0.000000    0.000000    0.000000    0.000000    0.000000    0.000000   \n",
       "1    0.000000    0.000000    0.000000    0.000000    0.000000    0.000000   \n",
       "2  236.188980   71.378502  236.188980   71.378502  236.188980   71.378502   \n",
       "3  222.626373  125.631256  222.626373  125.631256  222.626373  125.631256   \n",
       "4    0.000000    0.000000    0.000000    0.000000    0.000000    0.000000   \n",
       "\n",
       "      853_24X     853_24Y  Severity  \n",
       "0    0.000000    0.000000         1  \n",
       "1    0.000000    0.000000         2  \n",
       "2  236.188980   71.378502         2  \n",
       "3  222.626373  125.631256         2  \n",
       "4    0.000000    0.000000         1  \n",
       "\n",
       "[5 rows x 42702 columns]"
      ]
     },
     "execution_count": 2,
     "metadata": {},
     "output_type": "execute_result"
    }
   ],
   "source": [
    "train_df = pd.read_csv(os.path.join('data', 'unionTrain.csv'))\n",
    "test_df = pd.read_csv(os.path.join('data', 'unionTest.csv'))\n",
    "train_df.head()"
   ]
  },
  {
   "cell_type": "code",
   "execution_count": 3,
   "metadata": {},
   "outputs": [],
   "source": [
    "# train_df.columns.tolist()"
   ]
  },
  {
   "cell_type": "code",
   "execution_count": 10,
   "metadata": {},
   "outputs": [],
   "source": [
    "tmpx = train_df.drop(['sequence_id', 'Severity'], axis=1).describe()\n",
    "tmpy = train_df['Severity'].describe()"
   ]
  },
  {
   "cell_type": "code",
   "execution_count": 11,
   "metadata": {},
   "outputs": [
    {
     "data": {
      "text/plain": [
       "count    4.568900e+06\n",
       "mean     4.390554e+06\n",
       "std      3.630128e+06\n",
       "min      8.126689e+01\n",
       "25%      1.643644e+06\n",
       "50%      3.613957e+06\n",
       "75%      6.729176e+06\n",
       "max      1.485234e+07\n",
       "dtype: float64"
      ]
     },
     "execution_count": 11,
     "metadata": {},
     "output_type": "execute_result"
    }
   ],
   "source": [
    "np.sum(tmpx, axis=1)"
   ]
  },
  {
   "cell_type": "code",
   "execution_count": 5,
   "metadata": {},
   "outputs": [
    {
     "name": "stdout",
     "output_type": "stream",
     "text": [
      "class_1 = 51\n",
      "class_2 = 56\n"
     ]
    }
   ],
   "source": [
    "y_train = train_df['Severity'].to_numpy()\n",
    "cnt_tmp = np.bincount(y_train)\n",
    "for i in range(1, 3):\n",
    "    print(f\"class_{i} = {cnt_tmp[i]}\")"
   ]
  },
  {
   "cell_type": "code",
   "execution_count": null,
   "metadata": {},
   "outputs": [],
   "source": []
  }
 ],
 "metadata": {
  "kernelspec": {
   "display_name": "Python 3.9.12 ('tf2-gpu')",
   "language": "python",
   "name": "python3"
  },
  "language_info": {
   "codemirror_mode": {
    "name": "ipython",
    "version": 3
   },
   "file_extension": ".py",
   "mimetype": "text/x-python",
   "name": "python",
   "nbconvert_exporter": "python",
   "pygments_lexer": "ipython3",
   "version": "3.9.12"
  },
  "orig_nbformat": 4,
  "vscode": {
   "interpreter": {
    "hash": "586ea256996c4d1afba0a24bd3ac38219670b30d200ba45ddfed159cb38a21bb"
   }
  }
 },
 "nbformat": 4,
 "nbformat_minor": 2
}
