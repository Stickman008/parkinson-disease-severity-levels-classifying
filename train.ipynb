{
 "cells": [
  {
   "cell_type": "code",
   "execution_count": null,
   "metadata": {},
   "outputs": [],
   "source": [
    "import os\n",
    "import numpy as np\n",
    "import pandas as pd\n",
    "import matplotlib.pyplot as plt\n",
    "import seaborn as sns\n",
    "import joblib\n",
    "\n",
    "import tensorflow as tf\n",
    "from tensorflow.keras.models import Sequential\n",
    "from tensorflow.keras.layers import Dense, LSTM, Bidirectional, Dropout, InputLayer\n",
    "from tensorflow.keras.optimizers import Adam\n",
    "from tensorflow.keras.optimizers.schedules import ExponentialDecay\n",
    "from tensorflow.keras.losses import BinaryCrossentropy, CategoricalCrossentropy\n",
    "from tensorflow.keras.callbacks import ReduceLROnPlateau, EarlyStopping, LearningRateScheduler\n",
    "\n",
    "from sklearn.preprocessing import MinMaxScaler, RobustScaler, StandardScaler, normalize\n",
    "from sklearn.model_selection import KFold\n",
    "from sklearn.metrics import f1_score, accuracy_score, precision_score, recall_score, confusion_matrix, classification_report\n",
    "\n",
    "from my_model import create_model_1, create_model_1_1, create_model_1_2, create_model_2, create_model_2_1\n",
    "tf.__version__\n"
   ]
  },
  {
   "cell_type": "code",
   "execution_count": null,
   "metadata": {},
   "outputs": [],
   "source": [
    "train_df = pd.read_csv(os.path.join('data', 'unionTrain.csv'))\n",
    "test_df = pd.read_csv(os.path.join('data', 'unionTest.csv'))\n",
    "print(f\"Length Train: {len(train_df)}\")\n",
    "print(f\"Length Test: {len(test_df)}\")"
   ]
  },
  {
   "cell_type": "code",
   "execution_count": null,
   "metadata": {},
   "outputs": [],
   "source": [
    "X_train, y_train = train_df.drop(['Severity', 'sequence_id'], axis=1), train_df['Severity']\n",
    "X_test, y_test = test_df.drop(['Severity', 'sequence_id'], axis=1), test_df['Severity']"
   ]
  },
  {
   "cell_type": "code",
   "execution_count": null,
   "metadata": {},
   "outputs": [],
   "source": [
    "idx = 8\n",
    "tm = X_train.iloc[idx][[f'{i}_0X' for i in range(50)]] # max = 854\n",
    "print(f'Index:{idx}, Severity:{y_train[idx]}, {tm.to_list()}')"
   ]
  },
  {
   "cell_type": "code",
   "execution_count": null,
   "metadata": {},
   "outputs": [],
   "source": [
    "def feature_engineering(df):\n",
    "    result = df.copy()\n",
    "    # tmp = pd.DataFrame()\n",
    "    # for i in range(50):\n",
    "    #     result\n",
    "    return result\n",
    "tmp_X_train = feature_engineering(X_train)\n",
    "tmp_X_test = feature_engineering(X_test)\n",
    "tmp_X_train.head()"
   ]
  },
  {
   "cell_type": "code",
   "execution_count": null,
   "metadata": {},
   "outputs": [],
   "source": []
  },
  {
   "cell_type": "code",
   "execution_count": null,
   "metadata": {},
   "outputs": [],
   "source": [
    "def get_scaler(scaler_name):\n",
    "    if scaler_name == 'RobustScaler':\n",
    "        scaler = RobustScaler()\n",
    "    elif scaler_name == 'MinMaxScaler':\n",
    "        scaler = MinMaxScaler()\n",
    "    return scaler\n",
    "# scaler_name = 'RobustScaler'\n",
    "scaler_name = 'MinMaxScaler'\n",
    "scaler = get_scaler(scaler_name)"
   ]
  },
  {
   "cell_type": "code",
   "execution_count": null,
   "metadata": {},
   "outputs": [],
   "source": [
    "X_train = scaler.fit_transform(X_train)\n",
    "X_test = scaler.transform(X_test)\n",
    "print(f\"Max: {X_train.max()}, Min: {X_train.min()}\")\n",
    "def modify_X(x):\n",
    "    result = x.copy()\n",
    "    result = result.reshape(-1, 854, 50)\n",
    "    return result\n",
    "X_train_modified = modify_X(X_train)\n",
    "X_test_modified = modify_X(X_test)\n",
    "X_train_modified.shape, X_test_modified.shape"
   ]
  },
  {
   "cell_type": "code",
   "execution_count": null,
   "metadata": {},
   "outputs": [],
   "source": [
    "# joblib.dump(scaler, os.path.join('saved_scaler', 'MinMaxScaler.pkl'))"
   ]
  },
  {
   "cell_type": "code",
   "execution_count": null,
   "metadata": {},
   "outputs": [],
   "source": [
    "def modify_y(df):\n",
    "    result = pd.get_dummies(df)\n",
    "    result = result.to_numpy()\n",
    "    return result\n",
    "y_train_modified = modify_y(y_train)\n",
    "y_test_modified = modify_y(y_test)\n",
    "y_train_modified.shape, y_test_modified.shape"
   ]
  },
  {
   "cell_type": "code",
   "execution_count": null,
   "metadata": {},
   "outputs": [],
   "source": [
    "input_shape, n_output = (X_train_modified.shape[1], X_train_modified.shape[2]), y_train_modified.shape[1]\n",
    "# model = create_model_1(input_shape, n_output)\n",
    "# model = create_model_1_1(input_shape, n_output)\n",
    "model = create_model_1_2(input_shape, n_output)\n",
    "# model = create_model_2(input_shape, n_output)\n",
    "# model = create_model_2_1(input_shape, n_output)\n",
    "model.summary()"
   ]
  },
  {
   "cell_type": "code",
   "execution_count": null,
   "metadata": {},
   "outputs": [],
   "source": [
    "optimizer = Adam(learning_rate=1e-3)\n",
    "model.compile(\n",
    "                optimizer=optimizer,\n",
    "                loss=CategoricalCrossentropy(),\n",
    "                metrics=[\n",
    "                    'accuracy'\n",
    "                ]\n",
    "              )"
   ]
  },
  {
   "cell_type": "code",
   "execution_count": null,
   "metadata": {},
   "outputs": [],
   "source": [
    "def model_gen():\n",
    "    input_shape, n_output = (X_train_modified.shape[1], X_train_modified.shape[2]), y_train_modified.shape[1]\n",
    "    model = create_model_1_2(input_shape, n_output)\n",
    "    optimizer = Adam(learning_rate=1e-3)\n",
    "    model.compile(\n",
    "                    optimizer=optimizer,\n",
    "                    loss=CategoricalCrossentropy(),\n",
    "                    metrics=[\n",
    "                        'accuracy'\n",
    "                    ]\n",
    "                )\n",
    "    return model"
   ]
  },
  {
   "cell_type": "code",
   "execution_count": 13,
   "metadata": {},
   "outputs": [],
   "source": [
    "reduce_lr = ReduceLROnPlateau(\n",
    "                                monitor='val_loss',\n",
    "                                factor=0.5,\n",
    "                                patience=4,\n",
    "                                min_lr=1e-4\n",
    "                              )\n",
    "early_stopping = EarlyStopping(\n",
    "                                monitor='loss',\n",
    "                                patience=6\n",
    "                              )"
   ]
  },
  {
   "cell_type": "code",
<<<<<<< HEAD
   "execution_count": 14,
   "metadata": {},
   "outputs": [
    {
     "name": "stdout",
     "output_type": "stream",
     "text": [
      "Epoch 1/200\n",
      "3/3 [==============================] - 25s 3s/step - loss: 0.6166 - accuracy: 0.5765 - val_loss: 0.7216 - val_accuracy: 0.5909\n",
      "Epoch 2/200\n",
      "3/3 [==============================] - 3s 1s/step - loss: 0.5063 - accuracy: 0.6824 - val_loss: 0.7342 - val_accuracy: 0.5909\n",
      "Epoch 3/200\n",
      "3/3 [==============================] - 4s 1s/step - loss: 0.4672 - accuracy: 0.7765 - val_loss: 0.7458 - val_accuracy: 0.6818\n",
      "Epoch 4/200\n",
      "3/3 [==============================] - 4s 1s/step - loss: 0.4384 - accuracy: 0.7765 - val_loss: 0.6757 - val_accuracy: 0.6818\n",
      "Epoch 5/200\n",
      "3/3 [==============================] - 5s 2s/step - loss: 0.3868 - accuracy: 0.8235 - val_loss: 0.8580 - val_accuracy: 0.6364\n",
      "Epoch 6/200\n",
      "3/3 [==============================] - 4s 2s/step - loss: 0.3601 - accuracy: 0.8000 - val_loss: 0.7558 - val_accuracy: 0.7273\n",
      "Epoch 7/200\n",
      "3/3 [==============================] - 4s 1s/step - loss: 0.3084 - accuracy: 0.8471 - val_loss: 0.6273 - val_accuracy: 0.7727\n",
      "Epoch 8/200\n",
      "3/3 [==============================] - 3s 1s/step - loss: 0.2577 - accuracy: 0.9176 - val_loss: 0.6022 - val_accuracy: 0.6818\n",
      "Epoch 9/200\n",
      "3/3 [==============================] - 2s 448ms/step - loss: 0.2386 - accuracy: 0.9176 - val_loss: 0.5903 - val_accuracy: 0.7727\n",
      "Epoch 10/200\n",
      "3/3 [==============================] - 1s 378ms/step - loss: 0.1959 - accuracy: 0.9412 - val_loss: 0.5784 - val_accuracy: 0.8182\n",
      "Epoch 11/200\n",
      "3/3 [==============================] - 1s 328ms/step - loss: 0.2150 - accuracy: 0.8706 - val_loss: 0.5901 - val_accuracy: 0.7727\n",
      "Epoch 12/200\n",
      "3/3 [==============================] - 1s 373ms/step - loss: 0.1620 - accuracy: 0.9294 - val_loss: 0.6824 - val_accuracy: 0.6818\n",
      "Epoch 13/200\n",
      "3/3 [==============================] - 2s 441ms/step - loss: 0.1463 - accuracy: 0.9294 - val_loss: 0.6565 - val_accuracy: 0.7273\n",
      "Epoch 14/200\n",
      "3/3 [==============================] - 1s 505ms/step - loss: 0.2324 - accuracy: 0.9412 - val_loss: 0.5406 - val_accuracy: 0.8182\n",
      "Epoch 15/200\n",
      "3/3 [==============================] - 3s 1s/step - loss: 0.2319 - accuracy: 0.9176 - val_loss: 0.6508 - val_accuracy: 0.6818\n",
      "Epoch 16/200\n",
      "3/3 [==============================] - 2s 918ms/step - loss: 0.1489 - accuracy: 0.9647 - val_loss: 0.6387 - val_accuracy: 0.7273\n",
      "Epoch 17/200\n",
      "3/3 [==============================] - 8s 4s/step - loss: 0.1866 - accuracy: 0.9176 - val_loss: 0.9353 - val_accuracy: 0.6364\n",
      "Epoch 18/200\n",
      "3/3 [==============================] - 6s 2s/step - loss: 0.1838 - accuracy: 0.9412 - val_loss: 0.8381 - val_accuracy: 0.6818\n",
      "Epoch 19/200\n",
      "3/3 [==============================] - 4s 865ms/step - loss: 0.1375 - accuracy: 0.9529 - val_loss: 0.6831 - val_accuracy: 0.7727\n",
      "Epoch 20/200\n",
      "3/3 [==============================] - 4s 918ms/step - loss: 0.1817 - accuracy: 0.9176 - val_loss: 0.5336 - val_accuracy: 0.8182\n",
      "Epoch 21/200\n",
      "3/3 [==============================] - 3s 971ms/step - loss: 0.0808 - accuracy: 0.9647 - val_loss: 0.6353 - val_accuracy: 0.8182\n",
      "Epoch 22/200\n",
      "3/3 [==============================] - 8s 2s/step - loss: 0.1344 - accuracy: 0.9529 - val_loss: 0.7213 - val_accuracy: 0.6818\n",
      "Epoch 23/200\n",
      "3/3 [==============================] - 3s 1s/step - loss: 0.1151 - accuracy: 0.9647 - val_loss: 0.7861 - val_accuracy: 0.5455\n",
      "Epoch 24/200\n",
      "3/3 [==============================] - 3s 941ms/step - loss: 0.0916 - accuracy: 0.9882 - val_loss: 0.7523 - val_accuracy: 0.6364\n",
      "Epoch 25/200\n",
      "3/3 [==============================] - 2s 719ms/step - loss: 0.0749 - accuracy: 0.9882 - val_loss: 0.7284 - val_accuracy: 0.6818\n",
      "Epoch 26/200\n",
      "3/3 [==============================] - 2s 561ms/step - loss: 0.0666 - accuracy: 1.0000 - val_loss: 0.7133 - val_accuracy: 0.6364\n",
      "Epoch 27/200\n",
      "3/3 [==============================] - 2s 662ms/step - loss: 0.0578 - accuracy: 0.9882 - val_loss: 0.7288 - val_accuracy: 0.7273\n",
      "Epoch 28/200\n",
      "3/3 [==============================] - 2s 648ms/step - loss: 0.0513 - accuracy: 0.9882 - val_loss: 0.7658 - val_accuracy: 0.7273\n",
      "Epoch 29/200\n",
      "3/3 [==============================] - 2s 641ms/step - loss: 0.0475 - accuracy: 0.9882 - val_loss: 0.7800 - val_accuracy: 0.7273\n",
      "Epoch 30/200\n",
      "3/3 [==============================] - 1s 508ms/step - loss: 0.0441 - accuracy: 0.9882 - val_loss: 0.7844 - val_accuracy: 0.7273\n",
      "Epoch 31/200\n",
      "3/3 [==============================] - 1s 453ms/step - loss: 0.0379 - accuracy: 0.9882 - val_loss: 0.7878 - val_accuracy: 0.7273\n",
      "Epoch 32/200\n",
      "3/3 [==============================] - 2s 759ms/step - loss: 0.0357 - accuracy: 1.0000 - val_loss: 0.7853 - val_accuracy: 0.7273\n",
      "Epoch 33/200\n",
      "3/3 [==============================] - 2s 655ms/step - loss: 0.0325 - accuracy: 1.0000 - val_loss: 0.7932 - val_accuracy: 0.7273\n",
      "Epoch 34/200\n",
      "3/3 [==============================] - 3s 1s/step - loss: 0.0309 - accuracy: 1.0000 - val_loss: 0.8122 - val_accuracy: 0.7273\n",
      "Epoch 35/200\n",
      "3/3 [==============================] - 4s 1s/step - loss: 0.0282 - accuracy: 1.0000 - val_loss: 0.8408 - val_accuracy: 0.7273\n",
      "Epoch 36/200\n",
      "3/3 [==============================] - 3s 977ms/step - loss: 0.0257 - accuracy: 1.0000 - val_loss: 0.8751 - val_accuracy: 0.7273\n",
      "Epoch 37/200\n",
      "3/3 [==============================] - 5s 2s/step - loss: 0.0240 - accuracy: 1.0000 - val_loss: 0.9081 - val_accuracy: 0.7273\n",
      "Epoch 38/200\n",
      "3/3 [==============================] - 3s 1s/step - loss: 0.0228 - accuracy: 1.0000 - val_loss: 0.9356 - val_accuracy: 0.7273\n",
      "Epoch 39/200\n",
      "3/3 [==============================] - 4s 1s/step - loss: 0.0220 - accuracy: 1.0000 - val_loss: 0.9552 - val_accuracy: 0.7273\n",
      "Epoch 40/200\n",
      "3/3 [==============================] - 4s 1s/step - loss: 0.0217 - accuracy: 1.0000 - val_loss: 0.9731 - val_accuracy: 0.7273\n",
      "Epoch 41/200\n",
      "3/3 [==============================] - 4s 1s/step - loss: 0.0211 - accuracy: 1.0000 - val_loss: 0.9828 - val_accuracy: 0.7273\n",
      "Epoch 42/200\n",
      "3/3 [==============================] - 2s 700ms/step - loss: 0.0207 - accuracy: 1.0000 - val_loss: 0.9879 - val_accuracy: 0.7273\n",
      "Epoch 43/200\n",
      "3/3 [==============================] - 2s 720ms/step - loss: 0.0202 - accuracy: 1.0000 - val_loss: 0.9914 - val_accuracy: 0.7273\n",
      "Epoch 44/200\n",
      "3/3 [==============================] - 2s 1s/step - loss: 0.0197 - accuracy: 1.0000 - val_loss: 0.9932 - val_accuracy: 0.7273\n",
      "Epoch 45/200\n",
      "3/3 [==============================] - 2s 879ms/step - loss: 0.0193 - accuracy: 1.0000 - val_loss: 0.9912 - val_accuracy: 0.7273\n",
      "Epoch 46/200\n",
      "3/3 [==============================] - 2s 591ms/step - loss: 0.0189 - accuracy: 1.0000 - val_loss: 0.9891 - val_accuracy: 0.7273\n",
      "Epoch 47/200\n",
      "3/3 [==============================] - 2s 924ms/step - loss: 0.0186 - accuracy: 1.0000 - val_loss: 0.9856 - val_accuracy: 0.7273\n",
      "Epoch 48/200\n",
      "3/3 [==============================] - 3s 1s/step - loss: 0.0182 - accuracy: 1.0000 - val_loss: 0.9853 - val_accuracy: 0.7273\n",
      "Epoch 49/200\n",
      "3/3 [==============================] - 2s 847ms/step - loss: 0.0179 - accuracy: 1.0000 - val_loss: 0.9827 - val_accuracy: 0.7273\n",
      "Epoch 50/200\n",
      "3/3 [==============================] - 2s 865ms/step - loss: 0.0176 - accuracy: 1.0000 - val_loss: 0.9824 - val_accuracy: 0.7273\n",
      "Epoch 51/200\n",
      "3/3 [==============================] - 3s 1s/step - loss: 0.0173 - accuracy: 1.0000 - val_loss: 0.9828 - val_accuracy: 0.7273\n",
      "Epoch 52/200\n",
      "3/3 [==============================] - 3s 1s/step - loss: 0.0170 - accuracy: 1.0000 - val_loss: 0.9832 - val_accuracy: 0.7273\n",
      "Epoch 53/200\n",
      "3/3 [==============================] - 3s 808ms/step - loss: 0.0166 - accuracy: 1.0000 - val_loss: 0.9790 - val_accuracy: 0.7273\n",
      "Epoch 54/200\n",
      "3/3 [==============================] - 3s 1s/step - loss: 0.0163 - accuracy: 1.0000 - val_loss: 0.9757 - val_accuracy: 0.7273\n",
      "Epoch 55/200\n",
      "3/3 [==============================] - 5s 1s/step - loss: 0.0161 - accuracy: 1.0000 - val_loss: 0.9735 - val_accuracy: 0.7273\n",
      "Epoch 56/200\n",
      "3/3 [==============================] - 5s 2s/step - loss: 0.0158 - accuracy: 1.0000 - val_loss: 0.9684 - val_accuracy: 0.7273\n",
      "Epoch 57/200\n",
      "3/3 [==============================] - 3s 1s/step - loss: 0.0154 - accuracy: 1.0000 - val_loss: 0.9680 - val_accuracy: 0.7273\n",
      "Epoch 58/200\n",
      "3/3 [==============================] - 15s 6s/step - loss: 0.0152 - accuracy: 1.0000 - val_loss: 0.9650 - val_accuracy: 0.7273\n",
      "Epoch 59/200\n",
      "3/3 [==============================] - 16s 7s/step - loss: 0.0149 - accuracy: 1.0000 - val_loss: 0.9602 - val_accuracy: 0.7727\n",
      "Epoch 60/200\n",
      "3/3 [==============================] - 17s 6s/step - loss: 0.0146 - accuracy: 1.0000 - val_loss: 0.9626 - val_accuracy: 0.7727\n",
      "Epoch 61/200\n",
      "3/3 [==============================] - 18s 6s/step - loss: 0.0143 - accuracy: 1.0000 - val_loss: 0.9692 - val_accuracy: 0.7727\n",
      "Epoch 62/200\n",
      "3/3 [==============================] - 9s 3s/step - loss: 0.0140 - accuracy: 1.0000 - val_loss: 0.9778 - val_accuracy: 0.7727\n",
      "Epoch 63/200\n",
      "3/3 [==============================] - 2s 634ms/step - loss: 0.0138 - accuracy: 1.0000 - val_loss: 0.9854 - val_accuracy: 0.7727\n",
      "Epoch 64/200\n",
      "3/3 [==============================] - 2s 666ms/step - loss: 0.0136 - accuracy: 1.0000 - val_loss: 0.9952 - val_accuracy: 0.7273\n",
      "Epoch 65/200\n",
      "3/3 [==============================] - 2s 688ms/step - loss: 0.0133 - accuracy: 1.0000 - val_loss: 1.0041 - val_accuracy: 0.7273\n",
      "Epoch 66/200\n",
      "3/3 [==============================] - 4s 1s/step - loss: 0.0131 - accuracy: 1.0000 - val_loss: 1.0116 - val_accuracy: 0.7273\n",
      "Epoch 67/200\n",
      "3/3 [==============================] - 3s 1s/step - loss: 0.0130 - accuracy: 1.0000 - val_loss: 1.0184 - val_accuracy: 0.7273\n",
      "Epoch 68/200\n",
      "3/3 [==============================] - 3s 981ms/step - loss: 0.0128 - accuracy: 1.0000 - val_loss: 1.0229 - val_accuracy: 0.7273\n",
      "Epoch 69/200\n",
      "3/3 [==============================] - 3s 1s/step - loss: 0.0126 - accuracy: 1.0000 - val_loss: 1.0295 - val_accuracy: 0.7273\n",
      "Epoch 70/200\n",
      "3/3 [==============================] - 3s 726ms/step - loss: 0.0125 - accuracy: 1.0000 - val_loss: 1.0344 - val_accuracy: 0.7273\n",
      "Epoch 71/200\n",
      "3/3 [==============================] - 2s 666ms/step - loss: 0.0124 - accuracy: 1.0000 - val_loss: 1.0386 - val_accuracy: 0.7273\n",
      "Epoch 72/200\n",
      "3/3 [==============================] - 2s 953ms/step - loss: 0.0122 - accuracy: 1.0000 - val_loss: 1.0404 - val_accuracy: 0.7273\n",
      "Epoch 73/200\n",
      "3/3 [==============================] - 5s 1s/step - loss: 0.0121 - accuracy: 1.0000 - val_loss: 1.0409 - val_accuracy: 0.7273\n",
      "Epoch 74/200\n",
      "3/3 [==============================] - 4s 1s/step - loss: 0.0119 - accuracy: 1.0000 - val_loss: 1.0415 - val_accuracy: 0.7273\n",
      "Epoch 75/200\n",
      "3/3 [==============================] - 3s 897ms/step - loss: 0.0118 - accuracy: 1.0000 - val_loss: 1.0451 - val_accuracy: 0.7273\n",
      "Epoch 76/200\n",
      "3/3 [==============================] - 3s 1s/step - loss: 0.0117 - accuracy: 1.0000 - val_loss: 1.0411 - val_accuracy: 0.7273\n",
      "Epoch 77/200\n",
      "3/3 [==============================] - 6s 2s/step - loss: 0.0115 - accuracy: 1.0000 - val_loss: 1.0399 - val_accuracy: 0.7273\n",
      "Epoch 78/200\n",
      "3/3 [==============================] - 2s 810ms/step - loss: 0.0114 - accuracy: 1.0000 - val_loss: 1.0404 - val_accuracy: 0.7273\n",
      "Epoch 79/200\n",
      "3/3 [==============================] - 5s 2s/step - loss: 0.0113 - accuracy: 1.0000 - val_loss: 1.0417 - val_accuracy: 0.7273\n",
      "Epoch 80/200\n",
      "3/3 [==============================] - 7s 2s/step - loss: 0.0112 - accuracy: 1.0000 - val_loss: 1.0436 - val_accuracy: 0.7273\n",
      "Epoch 81/200\n",
      "3/3 [==============================] - 6s 2s/step - loss: 0.0110 - accuracy: 1.0000 - val_loss: 1.0469 - val_accuracy: 0.7273\n",
      "Epoch 82/200\n",
      "3/3 [==============================] - 5s 2s/step - loss: 0.0109 - accuracy: 1.0000 - val_loss: 1.0453 - val_accuracy: 0.7273\n",
      "Epoch 83/200\n",
      "3/3 [==============================] - 4s 2s/step - loss: 0.0108 - accuracy: 1.0000 - val_loss: 1.0450 - val_accuracy: 0.7727\n",
      "Epoch 84/200\n",
      "3/3 [==============================] - 3s 866ms/step - loss: 0.0107 - accuracy: 1.0000 - val_loss: 1.0436 - val_accuracy: 0.7727\n",
      "Epoch 85/200\n",
      "3/3 [==============================] - 3s 979ms/step - loss: 0.0106 - accuracy: 1.0000 - val_loss: 1.0424 - val_accuracy: 0.7727\n",
      "Epoch 86/200\n",
      "3/3 [==============================] - 4s 1s/step - loss: 0.0104 - accuracy: 1.0000 - val_loss: 1.0431 - val_accuracy: 0.7727\n",
      "Epoch 87/200\n",
      "3/3 [==============================] - 4s 1s/step - loss: 0.0103 - accuracy: 1.0000 - val_loss: 1.0444 - val_accuracy: 0.7727\n",
      "Epoch 88/200\n",
      "3/3 [==============================] - 6s 3s/step - loss: 0.0102 - accuracy: 1.0000 - val_loss: 1.0434 - val_accuracy: 0.7727\n",
      "Epoch 89/200\n",
      "3/3 [==============================] - 7s 3s/step - loss: 0.0101 - accuracy: 1.0000 - val_loss: 1.0422 - val_accuracy: 0.7727\n",
      "Epoch 90/200\n",
      "3/3 [==============================] - 2s 638ms/step - loss: 0.0100 - accuracy: 1.0000 - val_loss: 1.0430 - val_accuracy: 0.7727\n",
      "Epoch 91/200\n",
      "3/3 [==============================] - 2s 723ms/step - loss: 0.0099 - accuracy: 1.0000 - val_loss: 1.0441 - val_accuracy: 0.7727\n",
      "Epoch 92/200\n",
      "3/3 [==============================] - 2s 864ms/step - loss: 0.0098 - accuracy: 1.0000 - val_loss: 1.0466 - val_accuracy: 0.7727\n",
      "Epoch 93/200\n",
      "3/3 [==============================] - 2s 645ms/step - loss: 0.0097 - accuracy: 1.0000 - val_loss: 1.0447 - val_accuracy: 0.7727\n",
      "Epoch 94/200\n",
      "3/3 [==============================] - 3s 753ms/step - loss: 0.0096 - accuracy: 1.0000 - val_loss: 1.0451 - val_accuracy: 0.7727\n",
      "Epoch 95/200\n"
     ]
    },
    {
     "ename": "KeyboardInterrupt",
     "evalue": "",
     "output_type": "error",
     "traceback": [
      "\u001b[1;31m---------------------------------------------------------------------------\u001b[0m",
      "\u001b[1;31mKeyboardInterrupt\u001b[0m                         Traceback (most recent call last)",
      "\u001b[1;32mc:\\Users\\ARM\\Desktop\\indiv-project\\train.ipynb Cell 15\u001b[0m in \u001b[0;36m<cell line: 1>\u001b[1;34m()\u001b[0m\n\u001b[1;32m----> <a href='vscode-notebook-cell:/c%3A/Users/ARM/Desktop/indiv-project/train.ipynb#X16sZmlsZQ%3D%3D?line=0'>1</a>\u001b[0m history \u001b[39m=\u001b[39m model\u001b[39m.\u001b[39;49mfit(X_train_modified, y_train_modified,\n\u001b[0;32m      <a href='vscode-notebook-cell:/c%3A/Users/ARM/Desktop/indiv-project/train.ipynb#X16sZmlsZQ%3D%3D?line=1'>2</a>\u001b[0m           batch_size\u001b[39m=\u001b[39;49m\u001b[39m32\u001b[39;49m,\n\u001b[0;32m      <a href='vscode-notebook-cell:/c%3A/Users/ARM/Desktop/indiv-project/train.ipynb#X16sZmlsZQ%3D%3D?line=2'>3</a>\u001b[0m           epochs\u001b[39m=\u001b[39;49m\u001b[39m200\u001b[39;49m,\n\u001b[0;32m      <a href='vscode-notebook-cell:/c%3A/Users/ARM/Desktop/indiv-project/train.ipynb#X16sZmlsZQ%3D%3D?line=3'>4</a>\u001b[0m           shuffle\u001b[39m=\u001b[39;49m\u001b[39mTrue\u001b[39;49;00m,\n\u001b[0;32m      <a href='vscode-notebook-cell:/c%3A/Users/ARM/Desktop/indiv-project/train.ipynb#X16sZmlsZQ%3D%3D?line=4'>5</a>\u001b[0m           validation_split\u001b[39m=\u001b[39;49m\u001b[39m0.2\u001b[39;49m,\n\u001b[0;32m      <a href='vscode-notebook-cell:/c%3A/Users/ARM/Desktop/indiv-project/train.ipynb#X16sZmlsZQ%3D%3D?line=5'>6</a>\u001b[0m           callbacks\u001b[39m=\u001b[39;49m[\n\u001b[0;32m      <a href='vscode-notebook-cell:/c%3A/Users/ARM/Desktop/indiv-project/train.ipynb#X16sZmlsZQ%3D%3D?line=6'>7</a>\u001b[0m               reduce_lr,\n\u001b[0;32m      <a href='vscode-notebook-cell:/c%3A/Users/ARM/Desktop/indiv-project/train.ipynb#X16sZmlsZQ%3D%3D?line=7'>8</a>\u001b[0m               early_stopping,\n\u001b[0;32m      <a href='vscode-notebook-cell:/c%3A/Users/ARM/Desktop/indiv-project/train.ipynb#X16sZmlsZQ%3D%3D?line=8'>9</a>\u001b[0m               ]\n\u001b[0;32m     <a href='vscode-notebook-cell:/c%3A/Users/ARM/Desktop/indiv-project/train.ipynb#X16sZmlsZQ%3D%3D?line=9'>10</a>\u001b[0m           )\n",
      "File \u001b[1;32mc:\\Anaconda\\envs\\tf2-gpu\\lib\\site-packages\\keras\\engine\\training.py:1184\u001b[0m, in \u001b[0;36mModel.fit\u001b[1;34m(self, x, y, batch_size, epochs, verbose, callbacks, validation_split, validation_data, shuffle, class_weight, sample_weight, initial_epoch, steps_per_epoch, validation_steps, validation_batch_size, validation_freq, max_queue_size, workers, use_multiprocessing)\u001b[0m\n\u001b[0;32m   1177\u001b[0m \u001b[39mwith\u001b[39;00m tf\u001b[39m.\u001b[39mprofiler\u001b[39m.\u001b[39mexperimental\u001b[39m.\u001b[39mTrace(\n\u001b[0;32m   1178\u001b[0m     \u001b[39m'\u001b[39m\u001b[39mtrain\u001b[39m\u001b[39m'\u001b[39m,\n\u001b[0;32m   1179\u001b[0m     epoch_num\u001b[39m=\u001b[39mepoch,\n\u001b[0;32m   1180\u001b[0m     step_num\u001b[39m=\u001b[39mstep,\n\u001b[0;32m   1181\u001b[0m     batch_size\u001b[39m=\u001b[39mbatch_size,\n\u001b[0;32m   1182\u001b[0m     _r\u001b[39m=\u001b[39m\u001b[39m1\u001b[39m):\n\u001b[0;32m   1183\u001b[0m   callbacks\u001b[39m.\u001b[39mon_train_batch_begin(step)\n\u001b[1;32m-> 1184\u001b[0m   tmp_logs \u001b[39m=\u001b[39m \u001b[39mself\u001b[39;49m\u001b[39m.\u001b[39;49mtrain_function(iterator)\n\u001b[0;32m   1185\u001b[0m   \u001b[39mif\u001b[39;00m data_handler\u001b[39m.\u001b[39mshould_sync:\n\u001b[0;32m   1186\u001b[0m     context\u001b[39m.\u001b[39masync_wait()\n",
      "File \u001b[1;32mc:\\Anaconda\\envs\\tf2-gpu\\lib\\site-packages\\tensorflow\\python\\eager\\def_function.py:885\u001b[0m, in \u001b[0;36mFunction.__call__\u001b[1;34m(self, *args, **kwds)\u001b[0m\n\u001b[0;32m    882\u001b[0m compiler \u001b[39m=\u001b[39m \u001b[39m\"\u001b[39m\u001b[39mxla\u001b[39m\u001b[39m\"\u001b[39m \u001b[39mif\u001b[39;00m \u001b[39mself\u001b[39m\u001b[39m.\u001b[39m_jit_compile \u001b[39melse\u001b[39;00m \u001b[39m\"\u001b[39m\u001b[39mnonXla\u001b[39m\u001b[39m\"\u001b[39m\n\u001b[0;32m    884\u001b[0m \u001b[39mwith\u001b[39;00m OptionalXlaContext(\u001b[39mself\u001b[39m\u001b[39m.\u001b[39m_jit_compile):\n\u001b[1;32m--> 885\u001b[0m   result \u001b[39m=\u001b[39m \u001b[39mself\u001b[39m\u001b[39m.\u001b[39m_call(\u001b[39m*\u001b[39margs, \u001b[39m*\u001b[39m\u001b[39m*\u001b[39mkwds)\n\u001b[0;32m    887\u001b[0m new_tracing_count \u001b[39m=\u001b[39m \u001b[39mself\u001b[39m\u001b[39m.\u001b[39mexperimental_get_tracing_count()\n\u001b[0;32m    888\u001b[0m without_tracing \u001b[39m=\u001b[39m (tracing_count \u001b[39m==\u001b[39m new_tracing_count)\n",
      "File \u001b[1;32mc:\\Anaconda\\envs\\tf2-gpu\\lib\\site-packages\\tensorflow\\python\\eager\\def_function.py:917\u001b[0m, in \u001b[0;36mFunction._call\u001b[1;34m(self, *args, **kwds)\u001b[0m\n\u001b[0;32m    914\u001b[0m   \u001b[39mself\u001b[39m\u001b[39m.\u001b[39m_lock\u001b[39m.\u001b[39mrelease()\n\u001b[0;32m    915\u001b[0m   \u001b[39m# In this case we have created variables on the first call, so we run the\u001b[39;00m\n\u001b[0;32m    916\u001b[0m   \u001b[39m# defunned version which is guaranteed to never create variables.\u001b[39;00m\n\u001b[1;32m--> 917\u001b[0m   \u001b[39mreturn\u001b[39;00m \u001b[39mself\u001b[39m\u001b[39m.\u001b[39m_stateless_fn(\u001b[39m*\u001b[39margs, \u001b[39m*\u001b[39m\u001b[39m*\u001b[39mkwds)  \u001b[39m# pylint: disable=not-callable\u001b[39;00m\n\u001b[0;32m    918\u001b[0m \u001b[39melif\u001b[39;00m \u001b[39mself\u001b[39m\u001b[39m.\u001b[39m_stateful_fn \u001b[39mis\u001b[39;00m \u001b[39mnot\u001b[39;00m \u001b[39mNone\u001b[39;00m:\n\u001b[0;32m    919\u001b[0m   \u001b[39m# Release the lock early so that multiple threads can perform the call\u001b[39;00m\n\u001b[0;32m    920\u001b[0m   \u001b[39m# in parallel.\u001b[39;00m\n\u001b[0;32m    921\u001b[0m   \u001b[39mself\u001b[39m\u001b[39m.\u001b[39m_lock\u001b[39m.\u001b[39mrelease()\n",
      "File \u001b[1;32mc:\\Anaconda\\envs\\tf2-gpu\\lib\\site-packages\\tensorflow\\python\\eager\\function.py:3039\u001b[0m, in \u001b[0;36mFunction.__call__\u001b[1;34m(self, *args, **kwargs)\u001b[0m\n\u001b[0;32m   3036\u001b[0m \u001b[39mwith\u001b[39;00m \u001b[39mself\u001b[39m\u001b[39m.\u001b[39m_lock:\n\u001b[0;32m   3037\u001b[0m   (graph_function,\n\u001b[0;32m   3038\u001b[0m    filtered_flat_args) \u001b[39m=\u001b[39m \u001b[39mself\u001b[39m\u001b[39m.\u001b[39m_maybe_define_function(args, kwargs)\n\u001b[1;32m-> 3039\u001b[0m \u001b[39mreturn\u001b[39;00m graph_function\u001b[39m.\u001b[39;49m_call_flat(\n\u001b[0;32m   3040\u001b[0m     filtered_flat_args, captured_inputs\u001b[39m=\u001b[39;49mgraph_function\u001b[39m.\u001b[39;49mcaptured_inputs)\n",
      "File \u001b[1;32mc:\\Anaconda\\envs\\tf2-gpu\\lib\\site-packages\\tensorflow\\python\\eager\\function.py:1963\u001b[0m, in \u001b[0;36mConcreteFunction._call_flat\u001b[1;34m(self, args, captured_inputs, cancellation_manager)\u001b[0m\n\u001b[0;32m   1959\u001b[0m possible_gradient_type \u001b[39m=\u001b[39m gradients_util\u001b[39m.\u001b[39mPossibleTapeGradientTypes(args)\n\u001b[0;32m   1960\u001b[0m \u001b[39mif\u001b[39;00m (possible_gradient_type \u001b[39m==\u001b[39m gradients_util\u001b[39m.\u001b[39mPOSSIBLE_GRADIENT_TYPES_NONE\n\u001b[0;32m   1961\u001b[0m     \u001b[39mand\u001b[39;00m executing_eagerly):\n\u001b[0;32m   1962\u001b[0m   \u001b[39m# No tape is watching; skip to running the function.\u001b[39;00m\n\u001b[1;32m-> 1963\u001b[0m   \u001b[39mreturn\u001b[39;00m \u001b[39mself\u001b[39m\u001b[39m.\u001b[39m_build_call_outputs(\u001b[39mself\u001b[39;49m\u001b[39m.\u001b[39;49m_inference_function\u001b[39m.\u001b[39;49mcall(\n\u001b[0;32m   1964\u001b[0m       ctx, args, cancellation_manager\u001b[39m=\u001b[39;49mcancellation_manager))\n\u001b[0;32m   1965\u001b[0m forward_backward \u001b[39m=\u001b[39m \u001b[39mself\u001b[39m\u001b[39m.\u001b[39m_select_forward_and_backward_functions(\n\u001b[0;32m   1966\u001b[0m     args,\n\u001b[0;32m   1967\u001b[0m     possible_gradient_type,\n\u001b[0;32m   1968\u001b[0m     executing_eagerly)\n\u001b[0;32m   1969\u001b[0m forward_function, args_with_tangents \u001b[39m=\u001b[39m forward_backward\u001b[39m.\u001b[39mforward()\n",
      "File \u001b[1;32mc:\\Anaconda\\envs\\tf2-gpu\\lib\\site-packages\\tensorflow\\python\\eager\\function.py:591\u001b[0m, in \u001b[0;36m_EagerDefinedFunction.call\u001b[1;34m(self, ctx, args, cancellation_manager)\u001b[0m\n\u001b[0;32m    589\u001b[0m \u001b[39mwith\u001b[39;00m _InterpolateFunctionError(\u001b[39mself\u001b[39m):\n\u001b[0;32m    590\u001b[0m   \u001b[39mif\u001b[39;00m cancellation_manager \u001b[39mis\u001b[39;00m \u001b[39mNone\u001b[39;00m:\n\u001b[1;32m--> 591\u001b[0m     outputs \u001b[39m=\u001b[39m execute\u001b[39m.\u001b[39;49mexecute(\n\u001b[0;32m    592\u001b[0m         \u001b[39mstr\u001b[39;49m(\u001b[39mself\u001b[39;49m\u001b[39m.\u001b[39;49msignature\u001b[39m.\u001b[39;49mname),\n\u001b[0;32m    593\u001b[0m         num_outputs\u001b[39m=\u001b[39;49m\u001b[39mself\u001b[39;49m\u001b[39m.\u001b[39;49m_num_outputs,\n\u001b[0;32m    594\u001b[0m         inputs\u001b[39m=\u001b[39;49margs,\n\u001b[0;32m    595\u001b[0m         attrs\u001b[39m=\u001b[39;49mattrs,\n\u001b[0;32m    596\u001b[0m         ctx\u001b[39m=\u001b[39;49mctx)\n\u001b[0;32m    597\u001b[0m   \u001b[39melse\u001b[39;00m:\n\u001b[0;32m    598\u001b[0m     outputs \u001b[39m=\u001b[39m execute\u001b[39m.\u001b[39mexecute_with_cancellation(\n\u001b[0;32m    599\u001b[0m         \u001b[39mstr\u001b[39m(\u001b[39mself\u001b[39m\u001b[39m.\u001b[39msignature\u001b[39m.\u001b[39mname),\n\u001b[0;32m    600\u001b[0m         num_outputs\u001b[39m=\u001b[39m\u001b[39mself\u001b[39m\u001b[39m.\u001b[39m_num_outputs,\n\u001b[1;32m   (...)\u001b[0m\n\u001b[0;32m    603\u001b[0m         ctx\u001b[39m=\u001b[39mctx,\n\u001b[0;32m    604\u001b[0m         cancellation_manager\u001b[39m=\u001b[39mcancellation_manager)\n",
      "File \u001b[1;32mc:\\Anaconda\\envs\\tf2-gpu\\lib\\site-packages\\tensorflow\\python\\eager\\execute.py:59\u001b[0m, in \u001b[0;36mquick_execute\u001b[1;34m(op_name, num_outputs, inputs, attrs, ctx, name)\u001b[0m\n\u001b[0;32m     57\u001b[0m \u001b[39mtry\u001b[39;00m:\n\u001b[0;32m     58\u001b[0m   ctx\u001b[39m.\u001b[39mensure_initialized()\n\u001b[1;32m---> 59\u001b[0m   tensors \u001b[39m=\u001b[39m pywrap_tfe\u001b[39m.\u001b[39;49mTFE_Py_Execute(ctx\u001b[39m.\u001b[39;49m_handle, device_name, op_name,\n\u001b[0;32m     60\u001b[0m                                       inputs, attrs, num_outputs)\n\u001b[0;32m     61\u001b[0m \u001b[39mexcept\u001b[39;00m core\u001b[39m.\u001b[39m_NotOkStatusException \u001b[39mas\u001b[39;00m e:\n\u001b[0;32m     62\u001b[0m   \u001b[39mif\u001b[39;00m name \u001b[39mis\u001b[39;00m \u001b[39mnot\u001b[39;00m \u001b[39mNone\u001b[39;00m:\n",
      "\u001b[1;31mKeyboardInterrupt\u001b[0m: "
     ]
    }
   ],
=======
   "execution_count": null,
   "metadata": {},
   "outputs": [],
>>>>>>> 14cd72c0913dfebb6582dd0d1fae2de040b5f7d1
   "source": [
    "history = model.fit(X_train_modified, y_train_modified,\n",
    "          batch_size=32,\n",
    "          epochs=200,\n",
    "          shuffle=True,\n",
    "          validation_split=0.2,\n",
    "          callbacks=[\n",
    "              reduce_lr,\n",
    "              early_stopping,\n",
    "              ]\n",
    "          )"
   ]
  },
  {
   "cell_type": "code",
   "execution_count": null,
<<<<<<< HEAD
   "metadata": {},
   "outputs": [],
   "source": [
    "# n_split=5\n",
    "# for train_index,test_index in KFold(n_split).split(X_train_modified):\n",
    "#     xx_train,xx_test=X_train_modified[train_index],X_train_modified[test_index]\n",
    "#     yy_train,yy_test=y_train_modified[train_index],y_train_modified[test_index]\n",
    "\n",
    "#     model=model_gen()\n",
    "#     model.fit(xx_train, yy_train,epochs=20)\n",
    "#     print('Model evaluation ',model.evaluate(xx_test,yy_test))"
   ]
  },
  {
   "cell_type": "code",
   "execution_count": 21,
=======
>>>>>>> 14cd72c0913dfebb6582dd0d1fae2de040b5f7d1
   "metadata": {},
   "outputs": [],
   "source": [
    "# from datetime import datetime\n",
    "# current_time = datetime.now().strftime(\"%Y-%m-%d_%H-%M-%S\")\n",
    "# model.save(os.path.join(\"saved_models\", f\"trained_at_{current_time}_using_{scaler_name}.h5\"))"
   ]
  },
  {
   "cell_type": "code",
<<<<<<< HEAD
   "execution_count": 15,
   "metadata": {},
   "outputs": [
    {
     "ename": "NameError",
     "evalue": "name 'history' is not defined",
     "output_type": "error",
     "traceback": [
      "\u001b[1;31m---------------------------------------------------------------------------\u001b[0m",
      "\u001b[1;31mNameError\u001b[0m                                 Traceback (most recent call last)",
      "\u001b[1;32mc:\\Users\\ARM\\Desktop\\indiv-project\\train.ipynb Cell 18\u001b[0m in \u001b[0;36m<cell line: 1>\u001b[1;34m()\u001b[0m\n\u001b[1;32m----> <a href='vscode-notebook-cell:/c%3A/Users/ARM/Desktop/indiv-project/train.ipynb#X21sZmlsZQ%3D%3D?line=0'>1</a>\u001b[0m plt\u001b[39m.\u001b[39mplot(history\u001b[39m.\u001b[39mhistory[\u001b[39m'\u001b[39m\u001b[39mloss\u001b[39m\u001b[39m'\u001b[39m])\n\u001b[0;32m      <a href='vscode-notebook-cell:/c%3A/Users/ARM/Desktop/indiv-project/train.ipynb#X21sZmlsZQ%3D%3D?line=1'>2</a>\u001b[0m plt\u001b[39m.\u001b[39mplot(history\u001b[39m.\u001b[39mhistory[\u001b[39m'\u001b[39m\u001b[39mval_loss\u001b[39m\u001b[39m'\u001b[39m])\n\u001b[0;32m      <a href='vscode-notebook-cell:/c%3A/Users/ARM/Desktop/indiv-project/train.ipynb#X21sZmlsZQ%3D%3D?line=2'>3</a>\u001b[0m plt\u001b[39m.\u001b[39mtitle(\u001b[39m'\u001b[39m\u001b[39mmodel loss\u001b[39m\u001b[39m'\u001b[39m)\n",
      "\u001b[1;31mNameError\u001b[0m: name 'history' is not defined"
     ]
    }
   ],
=======
   "execution_count": null,
   "metadata": {},
   "outputs": [],
>>>>>>> 14cd72c0913dfebb6582dd0d1fae2de040b5f7d1
   "source": [
    "plt.plot(history.history['loss'])\n",
    "plt.plot(history.history['val_loss'])\n",
    "plt.title('model loss')\n",
    "plt.ylabel('loss')\n",
    "plt.xlabel('epoch')\n",
    "plt.legend(['train', 'validate'], loc='upper left')\n",
    "plt.show()"
   ]
  },
  {
   "cell_type": "code",
<<<<<<< HEAD
   "execution_count": 16,
   "metadata": {},
   "outputs": [
    {
     "ename": "NameError",
     "evalue": "name 'history' is not defined",
     "output_type": "error",
     "traceback": [
      "\u001b[1;31m---------------------------------------------------------------------------\u001b[0m",
      "\u001b[1;31mNameError\u001b[0m                                 Traceback (most recent call last)",
      "\u001b[1;32mc:\\Users\\ARM\\Desktop\\indiv-project\\train.ipynb Cell 19\u001b[0m in \u001b[0;36m<cell line: 1>\u001b[1;34m()\u001b[0m\n\u001b[1;32m----> <a href='vscode-notebook-cell:/c%3A/Users/ARM/Desktop/indiv-project/train.ipynb#X22sZmlsZQ%3D%3D?line=0'>1</a>\u001b[0m plt\u001b[39m.\u001b[39mplot(history\u001b[39m.\u001b[39mhistory[\u001b[39m'\u001b[39m\u001b[39maccuracy\u001b[39m\u001b[39m'\u001b[39m])\n\u001b[0;32m      <a href='vscode-notebook-cell:/c%3A/Users/ARM/Desktop/indiv-project/train.ipynb#X22sZmlsZQ%3D%3D?line=1'>2</a>\u001b[0m plt\u001b[39m.\u001b[39mplot(history\u001b[39m.\u001b[39mhistory[\u001b[39m'\u001b[39m\u001b[39mval_accuracy\u001b[39m\u001b[39m'\u001b[39m])\n\u001b[0;32m      <a href='vscode-notebook-cell:/c%3A/Users/ARM/Desktop/indiv-project/train.ipynb#X22sZmlsZQ%3D%3D?line=2'>3</a>\u001b[0m plt\u001b[39m.\u001b[39mtitle(\u001b[39m'\u001b[39m\u001b[39mmodel accuracy\u001b[39m\u001b[39m'\u001b[39m)\n",
      "\u001b[1;31mNameError\u001b[0m: name 'history' is not defined"
     ]
    }
   ],
=======
   "execution_count": null,
   "metadata": {},
   "outputs": [],
>>>>>>> 14cd72c0913dfebb6582dd0d1fae2de040b5f7d1
   "source": [
    "plt.plot(history.history['accuracy'])\n",
    "plt.plot(history.history['val_accuracy'])\n",
    "plt.title('model accuracy')\n",
    "plt.ylabel('accuracy')\n",
    "plt.xlabel('epoch')\n",
    "plt.legend(['train', 'test'], loc='best')\n",
    "plt.show()"
   ]
  },
  {
   "cell_type": "code",
<<<<<<< HEAD
   "execution_count": 17,
   "metadata": {},
   "outputs": [
    {
     "name": "stdout",
     "output_type": "stream",
     "text": [
      "Index:0, Predict:1, Real:1\n",
      "Index:1, Predict:2, Real:2\n",
      "Index:2, Predict:2, Real:2\n",
      "Index:3, Predict:2, Real:2\n",
      "Index:4, Predict:1, Real:1\n",
      "Index:5, Predict:2, Real:2\n",
      "Index:6, Predict:2, Real:2\n",
      "Index:7, Predict:1, Real:1\n",
      "Index:8, Predict:2, Real:2\n",
      "Index:9, Predict:2, Real:2\n",
      "Index:10, Predict:2, Real:2\n",
      "Index:11, Predict:1, Real:1\n",
      "Index:12, Predict:2, Real:2\n",
      "Index:13, Predict:2, Real:2\n",
      "Index:14, Predict:2, Real:2\n",
      "Index:15, Predict:1, Real:1\n",
      "Index:16, Predict:1, Real:1\n",
      "Index:17, Predict:1, Real:1\n",
      "Index:18, Predict:2, Real:2\n",
      "Index:19, Predict:1, Real:1\n",
      "Index:20, Predict:1, Real:1\n",
      "Index:21, Predict:2, Real:2\n",
      "Index:22, Predict:2, Real:2\n",
      "Index:23, Predict:1, Real:1\n",
      "Index:24, Predict:1, Real:1\n",
      "Index:25, Predict:1, Real:1\n",
      "Index:26, Predict:2, Real:2\n",
      "Index:27, Predict:2, Real:2\n",
      "Index:28, Predict:1, Real:1\n",
      "Index:29, Predict:1, Real:1\n",
      "Index:30, Predict:1, Real:1\n",
      "Index:31, Predict:2, Real:2\n",
      "Index:32, Predict:1, Real:1\n",
      "Index:33, Predict:2, Real:2\n",
      "Index:34, Predict:2, Real:2\n",
      "Index:35, Predict:2, Real:2\n",
      "Index:36, Predict:1, Real:1\n",
      "Index:37, Predict:2, Real:2\n",
      "Index:38, Predict:2, Real:2\n",
      "Index:39, Predict:2, Real:2\n",
      "Index:40, Predict:1, Real:1\n",
      "Index:41, Predict:1, Real:1\n",
      "Index:42, Predict:1, Real:1\n",
      "Index:43, Predict:2, Real:2\n",
      "Index:44, Predict:2, Real:2\n",
      "Index:45, Predict:1, Real:1\n",
      "Index:46, Predict:1, Real:1\n",
      "Index:47, Predict:2, Real:2\n",
      "Index:48, Predict:1, Real:1\n",
      "Index:49, Predict:2, Real:2\n",
      "Index:50, Predict:2, Real:2\n",
      "Index:51, Predict:1, Real:1\n",
      "Index:52, Predict:1, Real:1\n",
      "Index:53, Predict:1, Real:1\n",
      "Index:54, Predict:1, Real:1\n",
      "Index:55, Predict:1, Real:1\n",
      "Index:56, Predict:2, Real:2\n",
      "Index:57, Predict:2, Real:2\n",
      "Index:58, Predict:1, Real:1\n",
      "Index:59, Predict:2, Real:2\n",
      "Index:60, Predict:2, Real:2\n",
      "Index:61, Predict:1, Real:1\n",
      "Index:62, Predict:2, Real:2\n",
      "Index:63, Predict:2, Real:2\n",
      "Index:64, Predict:1, Real:1\n",
      "Index:65, Predict:2, Real:2\n",
      "Index:66, Predict:2, Real:2\n",
      "Index:67, Predict:1, Real:1\n",
      "Index:68, Predict:1, Real:1\n",
      "Index:69, Predict:2, Real:2\n",
      "Index:70, Predict:2, Real:2\n",
      "Index:71, Predict:2, Real:2\n",
      "Index:72, Predict:1, Real:1\n",
      "Index:73, Predict:2, Real:2\n",
      "Index:74, Predict:1, Real:1\n",
      "Index:75, Predict:1, Real:1\n",
      "Index:76, Predict:1, Real:1\n",
      "Index:77, Predict:1, Real:1\n",
      "Index:78, Predict:2, Real:2\n",
      "Index:79, Predict:1, Real:1\n",
      "Index:80, Predict:1, Real:1\n",
      "Index:81, Predict:2, Real:2\n",
      "Index:82, Predict:2, Real:2\n",
      "Index:83, Predict:1, Real:1\n",
      "Index:84, Predict:1, Real:1\n",
      "Index:85, Predict:1, Real:1\n",
      "Index:86, Predict:2, Real:2\n",
      "Index:87, Predict:1, Real:1\n",
      "Index:88, Predict:2, Real:2\n",
      "Index:89, Predict:1, Real:1\n",
      "Index:90, Predict:2, Real:2\n",
      "Index:91, Predict:1, Real:2\n",
      "Index:92, Predict:1, Real:1\n",
      "Index:93, Predict:1, Real:2\n",
      "Index:94, Predict:1, Real:1\n",
      "Index:95, Predict:1, Real:2\n",
      "Index:96, Predict:2, Real:2\n",
      "Index:97, Predict:1, Real:1\n",
      "Index:98, Predict:1, Real:1\n",
      "Index:99, Predict:1, Real:2\n",
      "Index:100, Predict:2, Real:2\n",
      "Index:101, Predict:2, Real:2\n",
      "Index:102, Predict:1, Real:1\n",
      "Index:103, Predict:2, Real:2\n",
      "Index:104, Predict:1, Real:1\n",
      "Index:105, Predict:1, Real:2\n",
      "Index:106, Predict:2, Real:2\n"
     ]
    }
   ],
=======
   "execution_count": null,
   "metadata": {},
   "outputs": [],
>>>>>>> 14cd72c0913dfebb6582dd0d1fae2de040b5f7d1
   "source": [
    "train_predict = model.predict(X_train_modified)\n",
    "train_real_predict = np.argmax(train_predict, axis=1)+1\n",
    "for i in range(len(y_train)):\n",
    "    print(f\"Index:{i}, Predict:{train_real_predict[i]}, Real:{y_train[i]}\")"
   ]
  },
  {
   "cell_type": "code",
<<<<<<< HEAD
   "execution_count": 18,
   "metadata": {},
   "outputs": [
    {
     "name": "stdout",
     "output_type": "stream",
     "text": [
      "              precision    recall  f1-score   support\n",
      "\n",
      "           1       0.91      1.00      0.95        51\n",
      "           2       1.00      0.91      0.95        56\n",
      "\n",
      "    accuracy                           0.95       107\n",
      "   macro avg       0.96      0.96      0.95       107\n",
      "weighted avg       0.96      0.95      0.95       107\n",
      "\n",
      "---------------------------------------------------------\n"
     ]
    },
    {
     "data": {
      "text/plain": [
       "<AxesSubplot:>"
      ]
     },
     "execution_count": 18,
     "metadata": {},
     "output_type": "execute_result"
    },
    {
     "data": {
      "image/png": "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",
      "text/plain": [
       "<Figure size 432x288 with 2 Axes>"
      ]
     },
     "metadata": {
      "needs_background": "light"
     },
     "output_type": "display_data"
    }
   ],
=======
   "execution_count": null,
   "metadata": {},
   "outputs": [],
>>>>>>> 14cd72c0913dfebb6582dd0d1fae2de040b5f7d1
   "source": [
    "f1_train = f1_score(y_train, train_real_predict)\n",
    "accuracy_train = accuracy_score(y_train, train_real_predict)\n",
    "# print(f\"f1: {f1_train}\\naccuracy: {accuracy_train}\")\n",
    "print(classification_report(y_train, train_real_predict))\n",
    "print(\"---------------------------------------------------------\")\n",
    "sns.heatmap(confusion_matrix(y_train, train_real_predict),annot = True,fmt = '2.0f')"
   ]
  },
  {
   "cell_type": "code",
<<<<<<< HEAD
   "execution_count": 19,
   "metadata": {},
   "outputs": [
    {
     "name": "stdout",
     "output_type": "stream",
     "text": [
      "Index:0, Predict:2, Real:2\n",
      "Index:1, Predict:2, Real:2\n",
      "Index:2, Predict:2, Real:2\n",
      "Index:3, Predict:2, Real:2\n",
      "Index:4, Predict:2, Real:2\n",
      "Index:5, Predict:2, Real:1\n",
      "Index:6, Predict:2, Real:1\n",
      "Index:7, Predict:1, Real:1\n",
      "Index:8, Predict:1, Real:2\n",
      "Index:9, Predict:2, Real:2\n",
      "Index:10, Predict:2, Real:2\n",
      "Index:11, Predict:2, Real:2\n",
      "Index:12, Predict:1, Real:2\n",
      "Index:13, Predict:2, Real:1\n",
      "Index:14, Predict:2, Real:2\n",
      "Index:15, Predict:1, Real:2\n",
      "Index:16, Predict:2, Real:1\n",
      "Index:17, Predict:2, Real:2\n",
      "Index:18, Predict:1, Real:2\n"
     ]
    }
   ],
=======
   "execution_count": null,
   "metadata": {},
   "outputs": [],
>>>>>>> 14cd72c0913dfebb6582dd0d1fae2de040b5f7d1
   "source": [
    "test_predict = model.predict(X_test_modified)\n",
    "test_real_predict = np.argmax(test_predict, axis=1)+1\n",
    "for i in range(len(y_test)):\n",
    "    print(f\"Index:{i}, Predict:{test_real_predict[i]}, Real:{y_test[i]}\")"
   ]
  },
  {
   "cell_type": "code",
<<<<<<< HEAD
   "execution_count": 20,
   "metadata": {},
   "outputs": [
    {
     "name": "stdout",
     "output_type": "stream",
     "text": [
      "f1: 0.20000000000000004\n",
      "accuracy: 0.5789473684210527\n",
      "              precision    recall  f1-score   support\n",
      "\n",
      "           1       0.20      0.20      0.20         5\n",
      "           2       0.71      0.71      0.71        14\n",
      "\n",
      "    accuracy                           0.58        19\n",
      "   macro avg       0.46      0.46      0.46        19\n",
      "weighted avg       0.58      0.58      0.58        19\n",
      "\n",
      "---------------------------------------------------------\n",
      "\n"
     ]
    },
    {
     "data": {
      "image/png": "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",
      "text/plain": [
       "<Figure size 432x288 with 2 Axes>"
      ]
     },
     "metadata": {
      "needs_background": "light"
     },
     "output_type": "display_data"
    }
   ],
=======
   "execution_count": null,
   "metadata": {},
   "outputs": [],
>>>>>>> 14cd72c0913dfebb6582dd0d1fae2de040b5f7d1
   "source": [
    "f1_test = f1_score(y_test, test_real_predict)\n",
    "accuracy_test = accuracy_score(y_test, test_real_predict)\n",
    "print(f\"f1: {f1_test}\\naccuracy: {accuracy_test}\")\n",
    "print(classification_report(y_test, test_real_predict))\n",
    "print(\"---------------------------------------------------------\")\n",
    "sns.heatmap(confusion_matrix(y_test, test_real_predict),annot = True,fmt = '2.0f')\n",
    "print()"
   ]
  },
  {
   "cell_type": "code",
   "execution_count": null,
   "metadata": {},
   "outputs": [],
   "source": []
  }
 ],
 "metadata": {
  "kernelspec": {
   "display_name": "Python 3.9.12 ('tf2-gpu')",
   "language": "python",
   "name": "python3"
  },
  "language_info": {
   "codemirror_mode": {
    "name": "ipython",
    "version": 3
   },
   "file_extension": ".py",
   "mimetype": "text/x-python",
   "name": "python",
   "nbconvert_exporter": "python",
   "pygments_lexer": "ipython3",
   "version": "3.9.12"
  },
  "orig_nbformat": 4,
  "vscode": {
   "interpreter": {
    "hash": "a52a0f3d7699f80e9b9bf0fcc65af90b93cb0293c63dd5d9a000502c20aee271"
   }
  }
 },
 "nbformat": 4,
 "nbformat_minor": 2
}
