{
 "cells": [
  {
   "cell_type": "code",
   "execution_count": 22,
   "metadata": {},
   "outputs": [
    {
     "data": {
      "text/plain": [
       "'2.6.0'"
      ]
     },
     "execution_count": 22,
     "metadata": {},
     "output_type": "execute_result"
    }
   ],
   "source": [
    "import os\n",
    "import numpy as np\n",
    "import pandas as pd\n",
    "import matplotlib.pyplot as plt\n",
    "import seaborn as sns\n",
    "import joblib\n",
    "\n",
    "import tensorflow as tf\n",
    "from tensorflow.keras.models import Sequential\n",
    "from tensorflow.keras.layers import Dense, LSTM, Bidirectional, Dropout, InputLayer\n",
    "from tensorflow.keras.optimizers import Adam\n",
    "from tensorflow.keras.losses import BinaryCrossentropy, CategoricalCrossentropy\n",
    "from tensorflow.keras.callbacks import ReduceLROnPlateau, EarlyStopping\n",
    "\n",
    "from sklearn.preprocessing import MinMaxScaler, RobustScaler, StandardScaler, normalize\n",
    "from sklearn.metrics import f1_score, accuracy_score, precision_score, recall_score, confusion_matrix, classification_report\n",
    "tf.__version__"
   ]
  },
  {
   "cell_type": "code",
   "execution_count": 23,
   "metadata": {},
   "outputs": [
    {
     "name": "stdout",
     "output_type": "stream",
     "text": [
      "Length Train: 107\n",
      "Length Test: 19\n"
     ]
    }
   ],
   "source": [
    "train_df = pd.read_csv(os.path.join('data', 'unionTrain.csv'))\n",
    "test_df = pd.read_csv(os.path.join('data', 'unionTest.csv'))\n",
    "print(f\"Length Train: {len(train_df)}\")\n",
    "print(f\"Length Test: {len(test_df)}\")"
   ]
  },
  {
   "cell_type": "code",
   "execution_count": 24,
   "metadata": {},
   "outputs": [],
   "source": [
    "X_train, y_train = train_df.drop(['Severity', 'sequence_id'], axis=1), train_df['Severity']\n",
    "X_test, y_test = test_df.drop(['Severity', 'sequence_id'], axis=1), test_df['Severity']"
   ]
  },
  {
   "cell_type": "code",
   "execution_count": 25,
   "metadata": {},
   "outputs": [
    {
     "data": {
      "text/plain": [
       "(0.0, 514.672607421875)"
      ]
     },
     "execution_count": 25,
     "metadata": {},
     "output_type": "execute_result"
    }
   ],
   "source": [
    "X_train.head()\n",
    "min(X_train.min()), max(X_train.max())"
   ]
  },
  {
   "cell_type": "code",
   "execution_count": 26,
   "metadata": {},
   "outputs": [
    {
     "name": "stdout",
     "output_type": "stream",
     "text": [
      "Max: 1.0, Min: 0.0\n"
     ]
    },
    {
     "data": {
      "text/plain": [
       "((107, 854, 50), (19, 854, 50))"
      ]
     },
     "execution_count": 26,
     "metadata": {},
     "output_type": "execute_result"
    }
   ],
   "source": [
    "# scaler = RobustScaler()\n",
    "scaler = MinMaxScaler()\n",
    "X_train = scaler.fit_transform(X_train)\n",
    "X_test = scaler.transform(X_test)\n",
    "print(f\"Max: {X_train.max()}, Min: {X_train.min()}\")\n",
    "def modify_X(x):\n",
    "    result = x.copy()\n",
    "    result = result.reshape(-1, 21350//25, 50)\n",
    "    return result\n",
    "X_train_modified = modify_X(X_train)\n",
    "X_test_modified = modify_X(X_test)\n",
    "X_train_modified.shape, X_test_modified.shape"
   ]
  },
  {
   "cell_type": "code",
   "execution_count": 27,
   "metadata": {},
   "outputs": [
    {
     "data": {
      "text/plain": [
       "['saved_scaler\\\\MinMaxScaler.pkl']"
      ]
     },
     "execution_count": 27,
     "metadata": {},
     "output_type": "execute_result"
    }
   ],
   "source": [
    "# joblib.dump(scaler, os.path.join('saved_scaler', 'MinMaxScaler.pkl'))"
   ]
  },
  {
   "cell_type": "code",
   "execution_count": 28,
   "metadata": {},
   "outputs": [
    {
     "data": {
      "text/plain": [
       "((107, 2), (19, 2))"
      ]
     },
     "execution_count": 28,
     "metadata": {},
     "output_type": "execute_result"
    }
   ],
   "source": [
    "def modify_y(df):\n",
    "    result = pd.get_dummies(df)\n",
    "    result = result.to_numpy()\n",
    "    return result\n",
    "y_train_modified = modify_y(y_train)\n",
    "y_test_modified = modify_y(y_test)\n",
    "y_train_modified.shape, y_test_modified.shape"
   ]
  },
  {
   "cell_type": "code",
   "execution_count": 29,
   "metadata": {},
   "outputs": [
    {
     "name": "stdout",
     "output_type": "stream",
     "text": [
      "Model: \"sequential_1\"\n",
      "_________________________________________________________________\n",
      "Layer (type)                 Output Shape              Param #   \n",
      "=================================================================\n",
      "bidirectional_3 (Bidirection (None, 854, 100)          40400     \n",
      "_________________________________________________________________\n",
      "bidirectional_4 (Bidirection (None, 854, 50)           25200     \n",
      "_________________________________________________________________\n",
      "bidirectional_5 (Bidirection (None, 50)                15200     \n",
      "_________________________________________________________________\n",
      "dense_1 (Dense)              (None, 2)                 102       \n",
      "=================================================================\n",
      "Total params: 80,902\n",
      "Trainable params: 80,902\n",
      "Non-trainable params: 0\n",
      "_________________________________________________________________\n"
     ]
    }
   ],
   "source": [
    "def create_model(input_shape, n_output):\n",
    "    model = Sequential([\n",
    "        InputLayer(input_shape),\n",
    "        Bidirectional(LSTM(50, return_sequences=True)),\n",
    "        Bidirectional(LSTM(25, return_sequences=True)),\n",
    "        Bidirectional(LSTM(25, return_sequences=False)),\n",
    "        Dense(n_output, activation=\"softmax\")\n",
    "    ])\n",
    "    return model\n",
    "model = create_model((X_train_modified.shape[1], X_train_modified.shape[2]),\n",
    "                     y_train_modified.shape[1])\n",
    "model.summary()"
   ]
  },
  {
   "cell_type": "code",
   "execution_count": 30,
   "metadata": {},
   "outputs": [],
   "source": [
    "optimizer = Adam(learning_rate=1e-3)\n",
    "model.compile(\n",
    "                optimizer=optimizer,\n",
    "                loss=CategoricalCrossentropy(),\n",
    "                metrics=[\n",
    "                    'accuracy'\n",
    "                ]\n",
    "              )"
   ]
  },
  {
   "cell_type": "code",
   "execution_count": 31,
   "metadata": {},
   "outputs": [],
   "source": [
    "reduce_lr = ReduceLROnPlateau(\n",
    "                                monitor='val_loss',\n",
    "                                factor=0.5,\n",
    "                                patience=4,\n",
    "                                min_lr=5e-5\n",
    "                              )\n",
    "early_stopping = EarlyStopping(\n",
    "                                monitor='loss',\n",
    "                                patience=6\n",
    "                              )"
   ]
  },
  {
   "cell_type": "code",
   "execution_count": 32,
   "metadata": {},
   "outputs": [
    {
     "name": "stdout",
     "output_type": "stream",
     "text": [
      "Epoch 1/30\n",
      "3/3 [==============================] - 30s 3s/step - loss: 0.6864 - accuracy: 0.5059 - val_loss: 0.6901 - val_accuracy: 0.6364\n",
      "Epoch 2/30\n",
      "3/3 [==============================] - 4s 1s/step - loss: 0.6199 - accuracy: 0.7176 - val_loss: 0.6991 - val_accuracy: 0.5909\n",
      "Epoch 3/30\n",
      "3/3 [==============================] - 4s 1s/step - loss: 0.5804 - accuracy: 0.6941 - val_loss: 0.6377 - val_accuracy: 0.6364\n",
      "Epoch 4/30\n",
      "3/3 [==============================] - 4s 1s/step - loss: 0.5508 - accuracy: 0.6941 - val_loss: 0.6201 - val_accuracy: 0.6364\n",
      "Epoch 5/30\n",
      "3/3 [==============================] - 4s 1s/step - loss: 0.5309 - accuracy: 0.6941 - val_loss: 0.6490 - val_accuracy: 0.5909\n",
      "Epoch 6/30\n",
      "3/3 [==============================] - 4s 1s/step - loss: 0.5068 - accuracy: 0.7176 - val_loss: 0.6973 - val_accuracy: 0.5909\n",
      "Epoch 7/30\n",
      "3/3 [==============================] - 4s 1s/step - loss: 0.4898 - accuracy: 0.7647 - val_loss: 0.6803 - val_accuracy: 0.5909\n",
      "Epoch 8/30\n",
      "3/3 [==============================] - 5s 2s/step - loss: 0.4619 - accuracy: 0.8000 - val_loss: 0.7163 - val_accuracy: 0.5000\n",
      "Epoch 9/30\n",
      "3/3 [==============================] - 6s 2s/step - loss: 0.4456 - accuracy: 0.7882 - val_loss: 0.7878 - val_accuracy: 0.5000\n",
      "Epoch 10/30\n",
      "3/3 [==============================] - 5s 2s/step - loss: 0.4217 - accuracy: 0.7765 - val_loss: 0.7288 - val_accuracy: 0.5455\n",
      "Epoch 11/30\n",
      "3/3 [==============================] - 5s 2s/step - loss: 0.4036 - accuracy: 0.8235 - val_loss: 0.7087 - val_accuracy: 0.5000\n",
      "Epoch 12/30\n",
      "3/3 [==============================] - 5s 2s/step - loss: 0.3882 - accuracy: 0.8118 - val_loss: 0.7524 - val_accuracy: 0.5000\n",
      "Epoch 13/30\n",
      "3/3 [==============================] - 5s 1s/step - loss: 0.3694 - accuracy: 0.8353 - val_loss: 0.7882 - val_accuracy: 0.5000\n",
      "Epoch 14/30\n",
      "3/3 [==============================] - 5s 1s/step - loss: 0.3657 - accuracy: 0.8471 - val_loss: 0.7957 - val_accuracy: 0.5000\n",
      "Epoch 15/30\n",
      "3/3 [==============================] - 4s 1s/step - loss: 0.3587 - accuracy: 0.8588 - val_loss: 0.8297 - val_accuracy: 0.5000\n",
      "Epoch 16/30\n",
      "3/3 [==============================] - 4s 1s/step - loss: 0.3468 - accuracy: 0.8706 - val_loss: 0.8067 - val_accuracy: 0.5000\n",
      "Epoch 17/30\n",
      "3/3 [==============================] - 4s 1s/step - loss: 0.3361 - accuracy: 0.8706 - val_loss: 0.7980 - val_accuracy: 0.5000\n",
      "Epoch 18/30\n",
      "3/3 [==============================] - 4s 1s/step - loss: 0.3335 - accuracy: 0.8471 - val_loss: 0.7912 - val_accuracy: 0.5000\n",
      "Epoch 19/30\n",
      "3/3 [==============================] - 4s 1s/step - loss: 0.3259 - accuracy: 0.8706 - val_loss: 0.8123 - val_accuracy: 0.5000\n",
      "Epoch 20/30\n",
      "3/3 [==============================] - 4s 1s/step - loss: 0.3199 - accuracy: 0.8706 - val_loss: 0.8160 - val_accuracy: 0.5000\n",
      "Epoch 21/30\n",
      "3/3 [==============================] - 4s 1s/step - loss: 0.3167 - accuracy: 0.8706 - val_loss: 0.8015 - val_accuracy: 0.5000\n",
      "Epoch 22/30\n",
      "3/3 [==============================] - 4s 1s/step - loss: 0.3107 - accuracy: 0.8824 - val_loss: 0.8039 - val_accuracy: 0.5000\n",
      "Epoch 23/30\n",
      "3/3 [==============================] - 4s 1s/step - loss: 0.3077 - accuracy: 0.8824 - val_loss: 0.8058 - val_accuracy: 0.5000\n",
      "Epoch 24/30\n",
      "3/3 [==============================] - 4s 2s/step - loss: 0.3040 - accuracy: 0.8824 - val_loss: 0.7981 - val_accuracy: 0.5000\n",
      "Epoch 25/30\n",
      "3/3 [==============================] - 5s 1s/step - loss: 0.3008 - accuracy: 0.8824 - val_loss: 0.7864 - val_accuracy: 0.5455\n",
      "Epoch 26/30\n",
      "3/3 [==============================] - 4s 2s/step - loss: 0.3030 - accuracy: 0.8706 - val_loss: 0.7683 - val_accuracy: 0.5455\n",
      "Epoch 27/30\n",
      "3/3 [==============================] - 4s 1s/step - loss: 0.2963 - accuracy: 0.8941 - val_loss: 0.7814 - val_accuracy: 0.5455\n",
      "Epoch 28/30\n",
      "3/3 [==============================] - 5s 2s/step - loss: 0.2913 - accuracy: 0.9059 - val_loss: 0.8086 - val_accuracy: 0.5455\n",
      "Epoch 29/30\n",
      "3/3 [==============================] - 4s 1s/step - loss: 0.2883 - accuracy: 0.8941 - val_loss: 0.8161 - val_accuracy: 0.5455\n",
      "Epoch 30/30\n",
      "3/3 [==============================] - 4s 2s/step - loss: 0.2862 - accuracy: 0.8941 - val_loss: 0.8131 - val_accuracy: 0.5455\n"
     ]
    }
   ],
   "source": [
    "history = model.fit(X_train_modified, y_train_modified,\n",
    "          batch_size=32,\n",
    "          epochs=30,\n",
    "          shuffle=True,\n",
    "          validation_split=0.2,\n",
    "          callbacks=[\n",
    "              reduce_lr,\n",
    "              early_stopping,\n",
    "              ]\n",
    "          )"
   ]
  },
  {
   "cell_type": "code",
   "execution_count": 33,
   "metadata": {},
   "outputs": [],
   "source": [
    "# from datetime import datetime\n",
    "# current_time = datetime.now().strftime(\"%Y-%m-%d_%H-%M-%S\")\n",
    "# model.save(os.path.join(\"saved_models\", f\"trained_model_at_{current_time}.h5\"))"
   ]
  },
  {
   "cell_type": "code",
   "execution_count": 34,
   "metadata": {},
   "outputs": [
    {
     "data": {
      "image/png": "[encoded data removed]",
      "text/plain": [
       "<Figure size 432x288 with 1 Axes>"
      ]
     },
     "metadata": {},
     "output_type": "display_data"
    }
   ],
   "source": [
    "plt.plot(history.history['loss'])\n",
    "plt.plot(history.history['val_loss'])\n",
    "plt.title('model loss')\n",
    "plt.ylabel('loss')\n",
    "plt.xlabel('epoch')\n",
    "plt.legend(['train', 'validate'], loc='upper left')\n",
    "plt.show()"
   ]
  },
  {
   "cell_type": "code",
   "execution_count": 35,
   "metadata": {},
   "outputs": [
    {
     "data": {
      "image/png": "[encoded data removed]",
      "text/plain": [
       "<Figure size 432x288 with 1 Axes>"
      ]
     },
     "metadata": {},
     "output_type": "display_data"
    }
   ],
   "source": [
    "plt.plot(history.history['accuracy'])\n",
    "plt.plot(history.history['val_accuracy'])\n",
    "plt.title('model accuracy')\n",
    "plt.ylabel('accuracy')\n",
    "plt.xlabel('epoch')\n",
    "plt.legend(['train', 'test'], loc='best')\n",
    "plt.show()"
   ]
  },
  {
   "cell_type": "code",
   "execution_count": 36,
   "metadata": {},
   "outputs": [
    {
     "name": "stdout",
     "output_type": "stream",
     "text": [
      "Index:0, Predict:1, Real:1\n",
      "Index:1, Predict:1, Real:2\n",
      "Index:2, Predict:2, Real:2\n",
      "Index:3, Predict:2, Real:2\n",
      "Index:4, Predict:1, Real:1\n",
      "Index:5, Predict:2, Real:2\n",
      "Index:6, Predict:2, Real:2\n",
      "Index:7, Predict:1, Real:1\n",
      "Index:8, Predict:2, Real:2\n",
      "Index:9, Predict:1, Real:2\n",
      "Index:10, Predict:2, Real:2\n",
      "Index:11, Predict:1, Real:1\n",
      "Index:12, Predict:2, Real:2\n",
      "Index:13, Predict:2, Real:2\n",
      "Index:14, Predict:2, Real:2\n",
      "Index:15, Predict:1, Real:1\n",
      "Index:16, Predict:1, Real:1\n",
      "Index:17, Predict:1, Real:1\n",
      "Index:18, Predict:2, Real:2\n",
      "Index:19, Predict:1, Real:1\n",
      "Index:20, Predict:1, Real:1\n",
      "Index:21, Predict:2, Real:2\n",
      "Index:22, Predict:2, Real:2\n",
      "Index:23, Predict:1, Real:1\n",
      "Index:24, Predict:1, Real:1\n",
      "Index:25, Predict:1, Real:1\n",
      "Index:26, Predict:2, Real:2\n",
      "Index:27, Predict:2, Real:2\n",
      "Index:28, Predict:1, Real:1\n",
      "Index:29, Predict:1, Real:1\n",
      "Index:30, Predict:1, Real:1\n",
      "Index:31, Predict:1, Real:2\n",
      "Index:32, Predict:2, Real:1\n",
      "Index:33, Predict:2, Real:2\n",
      "Index:34, Predict:2, Real:2\n",
      "Index:35, Predict:2, Real:2\n",
      "Index:36, Predict:1, Real:1\n",
      "Index:37, Predict:2, Real:2\n",
      "Index:38, Predict:2, Real:2\n",
      "Index:39, Predict:2, Real:2\n",
      "Index:40, Predict:1, Real:1\n",
      "Index:41, Predict:1, Real:1\n",
      "Index:42, Predict:1, Real:1\n",
      "Index:43, Predict:2, Real:2\n",
      "Index:44, Predict:2, Real:2\n",
      "Index:45, Predict:1, Real:1\n",
      "Index:46, Predict:1, Real:1\n",
      "Index:47, Predict:1, Real:2\n",
      "Index:48, Predict:1, Real:1\n",
      "Index:49, Predict:2, Real:2\n",
      "Index:50, Predict:2, Real:2\n",
      "Index:51, Predict:1, Real:1\n",
      "Index:52, Predict:1, Real:1\n",
      "Index:53, Predict:1, Real:1\n",
      "Index:54, Predict:1, Real:1\n",
      "Index:55, Predict:1, Real:1\n",
      "Index:56, Predict:1, Real:2\n",
      "Index:57, Predict:2, Real:2\n",
      "Index:58, Predict:1, Real:1\n",
      "Index:59, Predict:2, Real:2\n",
      "Index:60, Predict:1, Real:2\n",
      "Index:61, Predict:1, Real:1\n",
      "Index:62, Predict:2, Real:2\n",
      "Index:63, Predict:2, Real:2\n",
      "Index:64, Predict:1, Real:1\n",
      "Index:65, Predict:1, Real:2\n",
      "Index:66, Predict:2, Real:2\n",
      "Index:67, Predict:1, Real:1\n",
      "Index:68, Predict:1, Real:1\n",
      "Index:69, Predict:2, Real:2\n",
      "Index:70, Predict:2, Real:2\n",
      "Index:71, Predict:2, Real:2\n",
      "Index:72, Predict:1, Real:1\n",
      "Index:73, Predict:2, Real:2\n",
      "Index:74, Predict:1, Real:1\n",
      "Index:75, Predict:1, Real:1\n",
      "Index:76, Predict:1, Real:1\n",
      "Index:77, Predict:1, Real:1\n",
      "Index:78, Predict:2, Real:2\n",
      "Index:79, Predict:1, Real:1\n",
      "Index:80, Predict:1, Real:1\n",
      "Index:81, Predict:2, Real:2\n",
      "Index:82, Predict:2, Real:2\n",
      "Index:83, Predict:1, Real:1\n",
      "Index:84, Predict:1, Real:1\n",
      "Index:85, Predict:1, Real:1\n",
      "Index:86, Predict:1, Real:2\n",
      "Index:87, Predict:1, Real:1\n",
      "Index:88, Predict:1, Real:2\n",
      "Index:89, Predict:1, Real:1\n",
      "Index:90, Predict:1, Real:2\n",
      "Index:91, Predict:1, Real:2\n",
      "Index:92, Predict:2, Real:1\n",
      "Index:93, Predict:1, Real:2\n",
      "Index:94, Predict:1, Real:1\n",
      "Index:95, Predict:2, Real:2\n",
      "Index:96, Predict:1, Real:2\n",
      "Index:97, Predict:1, Real:1\n",
      "Index:98, Predict:2, Real:1\n",
      "Index:99, Predict:1, Real:2\n",
      "Index:100, Predict:2, Real:2\n",
      "Index:101, Predict:2, Real:2\n",
      "Index:102, Predict:1, Real:1\n",
      "Index:103, Predict:2, Real:2\n",
      "Index:104, Predict:1, Real:1\n",
      "Index:105, Predict:1, Real:2\n",
      "Index:106, Predict:2, Real:2\n"
     ]
    }
   ],
   "source": [
    "train_predict = model.predict(X_train_modified)\n",
    "train_real_predict = np.argmax(train_predict, axis=1)+1\n",
    "for i in range(len(y_train)):\n",
    "    print(f\"Index:{i}, Predict:{train_real_predict[i]}, Real:{y_train[i]}\")"
   ]
  },
  {
   "cell_type": "code",
   "execution_count": 37,
   "metadata": {},
   "outputs": [
    {
     "name": "stdout",
     "output_type": "stream",
     "text": [
      "              precision    recall  f1-score   support\n",
      "\n",
      "           1       0.76      0.94      0.84        51\n",
      "           2       0.93      0.73      0.82        56\n",
      "\n",
      "    accuracy                           0.83       107\n",
      "   macro avg       0.85      0.84      0.83       107\n",
      "weighted avg       0.85      0.83      0.83       107\n",
      "\n",
      "----------------------------------------------\n"
     ]
    },
    {
     "data": {
      "text/plain": [
       "<AxesSubplot:>"
      ]
     },
     "execution_count": 37,
     "metadata": {},
     "output_type": "execute_result"
    },
    {
     "data": {
      "image/png": "[encoded data removed]",
      "text/plain": [
       "<Figure size 432x288 with 2 Axes>"
      ]
     },
     "metadata": {},
     "output_type": "display_data"
    }
   ],
   "source": [
    "f1_train = f1_score(y_train, train_real_predict)\n",
    "accuracy_train = accuracy_score(y_train, train_real_predict)\n",
    "# print(f\"f1: {f1_train}\\naccuracy: {accuracy_train}\")\n",
    "print(classification_report(y_train, train_real_predict))\n",
    "print(\"----------------------------------------------\")\n",
    "sns.heatmap(confusion_matrix(y_train, train_real_predict),annot = True,fmt = '2.0f')"
   ]
  },
  {
   "cell_type": "code",
   "execution_count": 38,
   "metadata": {},
   "outputs": [
    {
     "name": "stdout",
     "output_type": "stream",
     "text": [
      "Index:0, Predict:2, Real:2\n",
      "Index:1, Predict:2, Real:2\n",
      "Index:2, Predict:2, Real:2\n",
      "Index:3, Predict:2, Real:2\n",
      "Index:4, Predict:2, Real:2\n",
      "Index:5, Predict:1, Real:1\n",
      "Index:6, Predict:2, Real:1\n",
      "Index:7, Predict:1, Real:1\n",
      "Index:8, Predict:1, Real:2\n",
      "Index:9, Predict:2, Real:2\n",
      "Index:10, Predict:2, Real:2\n",
      "Index:11, Predict:2, Real:2\n",
      "Index:12, Predict:2, Real:2\n",
      "Index:13, Predict:2, Real:1\n",
      "Index:14, Predict:1, Real:2\n",
      "Index:15, Predict:1, Real:2\n",
      "Index:16, Predict:2, Real:1\n",
      "Index:17, Predict:2, Real:2\n",
      "Index:18, Predict:2, Real:2\n"
     ]
    }
   ],
   "source": [
    "test_predict = model.predict(X_test_modified)\n",
    "test_real_predict = np.argmax(test_predict, axis=1)+1\n",
    "for i in range(len(y_test)):\n",
    "    print(f\"Index:{i}, Predict:{test_real_predict[i]}, Real:{y_test[i]}\")"
   ]
  },
  {
   "cell_type": "code",
   "execution_count": 40,
   "metadata": {},
   "outputs": [
    {
     "name": "stdout",
     "output_type": "stream",
     "text": [
      "f1: 0.4000000000000001\n",
      "accuracy: 0.6842105263157895\n",
      "              precision    recall  f1-score   support\n",
      "\n",
      "           1       0.40      0.40      0.40         5\n",
      "           2       0.79      0.79      0.79        14\n",
      "\n",
      "    accuracy                           0.68        19\n",
      "   macro avg       0.59      0.59      0.59        19\n",
      "weighted avg       0.68      0.68      0.68        19\n",
      "\n",
      "----------------------------------------------\n"
     ]
    },
    {
     "data": {
      "text/plain": [
       "<AxesSubplot:>"
      ]
     },
     "execution_count": 40,
     "metadata": {},
     "output_type": "execute_result"
    },
    {
     "data": {
      "image/png": "[encoded data removed]",
      "text/plain": [
       "<Figure size 432x288 with 2 Axes>"
      ]
     },
     "metadata": {},
     "output_type": "display_data"
    }
   ],
   "source": [
    "f1_test = f1_score(y_test, test_real_predict)\n",
    "accuracy_test = accuracy_score(y_test, test_real_predict)\n",
    "print(f\"f1: {f1_test}\\naccuracy: {accuracy_test}\")\n",
    "print(classification_report(y_test, test_real_predict))\n",
    "print(\"----------------------------------------------\")\n",
    "sns.heatmap(confusion_matrix(y_test, test_real_predict),annot = True,fmt = '2.0f')"
   ]
  }
 ],
 "metadata": {
  "kernelspec": {
   "display_name": "Python 3.9.12 ('tf2-gpu')",
   "language": "python",
   "name": "python3"
  },
  "language_info": {
   "codemirror_mode": {
    "name": "ipython",
    "version": 3
   },
   "file_extension": ".py",
   "mimetype": "text/x-python",
   "name": "python",
   "nbconvert_exporter": "python",
   "pygments_lexer": "ipython3",
   "version": "3.9.12"
  },
  "orig_nbformat": 4,
  "vscode": {
   "interpreter": {
    "hash": "586ea256996c4d1afba0a24bd3ac38219670b30d200ba45ddfed159cb38a21bb"
   }
  }
 },
 "nbformat": 4,
 "nbformat_minor": 2
}
